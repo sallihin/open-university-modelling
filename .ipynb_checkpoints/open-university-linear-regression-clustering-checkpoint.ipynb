{
 "cells": [
  {
   "cell_type": "markdown",
   "metadata": {},
   "source": [
    "#### <font color= red><i> Run the following codes to generate your own subset of data for this report."
   ]
  },
  {
   "cell_type": "code",
   "execution_count": 1,
   "metadata": {},
   "outputs": [
    {
     "name": "stdout",
     "output_type": "stream",
     "text": [
      "Enter the last 4 digits of your admin no.: 2050\n",
      "Enter the last digit of your class group: 2\n"
     ]
    },
    {
     "data": {
      "text/plain": [
       "(10000, 25)"
      ]
     },
     "execution_count": 1,
     "metadata": {},
     "output_type": "execute_result"
    }
   ],
   "source": [
    "import pandas as pd\n",
    "#replace the path with your own\n",
    "file=r\"Project_Dataset.csv\" #replace with your own path\n",
    "full_data=pd.read_csv(file, delimiter=\",\") #this is the full set\n",
    "your_admn=input(\"Enter the last 4 digits of your admin no.: \")\n",
    "your_group=int(input(\"Enter the last digit of your class group: \"))\n",
    "if your_group!=1:\n",
    "    your_seed=int(str(your_group-1)+your_admn)\n",
    "else:\n",
    "    your_seed=int(str(your_group)+your_admn)\n",
    "your_data=full_data.iloc[your_seed-10000: your_seed,:]  #generate your own set for use\n",
    "#From this step onwards you can commence your project with your_data.\n",
    "#check that you have 1000 rows by 25 columns\n",
    "your_data.shape"
   ]
  },
  {
   "cell_type": "markdown",
   "metadata": {},
   "source": [
    "# <font color= maroon> Project Background & Aims "
   ]
  },
  {
   "cell_type": "markdown",
   "metadata": {},
   "source": [
    "The bank wants to understand how the profile and behavior of the client affect the possibility of payment default, and be able to assess the credibility of the future card applicants. "
   ]
  },
  {
   "cell_type": "markdown",
   "metadata": {},
   "source": [
    "## <font color= grey> Data Understanding "
   ]
  },
  {
   "cell_type": "code",
   "execution_count": 2,
   "metadata": {},
   "outputs": [],
   "source": [
    "import numpy as np\n",
    "import matplotlib.pyplot as plt\n",
    "import seaborn as sns"
   ]
  },
  {
   "cell_type": "code",
   "execution_count": 3,
   "metadata": {
    "scrolled": true
   },
   "outputs": [
    {
     "data": {
      "text/html": [
       "<div>\n",
       "<style scoped>\n",
       "    .dataframe tbody tr th:only-of-type {\n",
       "        vertical-align: middle;\n",
       "    }\n",
       "\n",
       "    .dataframe tbody tr th {\n",
       "        vertical-align: top;\n",
       "    }\n",
       "\n",
       "    .dataframe thead th {\n",
       "        text-align: right;\n",
       "    }\n",
       "</style>\n",
       "<table border=\"1\" class=\"dataframe\">\n",
       "  <thead>\n",
       "    <tr style=\"text-align: right;\">\n",
       "      <th></th>\n",
       "      <th>ID</th>\n",
       "      <th>LIMIT</th>\n",
       "      <th>SEX</th>\n",
       "      <th>EDUCATION</th>\n",
       "      <th>MARITAL</th>\n",
       "      <th>AGE</th>\n",
       "      <th>STATUS2</th>\n",
       "      <th>STATUS3</th>\n",
       "      <th>STATUS4</th>\n",
       "      <th>STATUS5</th>\n",
       "      <th>...</th>\n",
       "      <th>BILL4</th>\n",
       "      <th>BILL5</th>\n",
       "      <th>BILL6</th>\n",
       "      <th>PAY1</th>\n",
       "      <th>PAY2</th>\n",
       "      <th>PAY3</th>\n",
       "      <th>PAY4</th>\n",
       "      <th>PAY5</th>\n",
       "      <th>PAY6</th>\n",
       "      <th>DEFAULT</th>\n",
       "    </tr>\n",
       "  </thead>\n",
       "  <tbody>\n",
       "    <tr>\n",
       "      <th>2050</th>\n",
       "      <td>2051.0</td>\n",
       "      <td>30000.0</td>\n",
       "      <td>M</td>\n",
       "      <td>2.0</td>\n",
       "      <td>1.0</td>\n",
       "      <td>47.0</td>\n",
       "      <td>1.0</td>\n",
       "      <td>2.0</td>\n",
       "      <td>0.0</td>\n",
       "      <td>0.0</td>\n",
       "      <td>...</td>\n",
       "      <td>16469.0</td>\n",
       "      <td>16063.0</td>\n",
       "      <td>17295.0</td>\n",
       "      <td>0.0</td>\n",
       "      <td>1253.0</td>\n",
       "      <td>1400.0</td>\n",
       "      <td>0.0</td>\n",
       "      <td>1500.0</td>\n",
       "      <td>0.0</td>\n",
       "      <td>0.0</td>\n",
       "    </tr>\n",
       "    <tr>\n",
       "      <th>2051</th>\n",
       "      <td>2052.0</td>\n",
       "      <td>50000.0</td>\n",
       "      <td>M</td>\n",
       "      <td>3.0</td>\n",
       "      <td>2.0</td>\n",
       "      <td>27.0</td>\n",
       "      <td>2.0</td>\n",
       "      <td>2.0</td>\n",
       "      <td>2.0</td>\n",
       "      <td>2.0</td>\n",
       "      <td>...</td>\n",
       "      <td>50982.0</td>\n",
       "      <td>51740.0</td>\n",
       "      <td>49062.0</td>\n",
       "      <td>1800.0</td>\n",
       "      <td>3900.0</td>\n",
       "      <td>300.0</td>\n",
       "      <td>3400.0</td>\n",
       "      <td>0.0</td>\n",
       "      <td>4000.0</td>\n",
       "      <td>0.0</td>\n",
       "    </tr>\n",
       "    <tr>\n",
       "      <th>2052</th>\n",
       "      <td>2053.0</td>\n",
       "      <td>140000.0</td>\n",
       "      <td>F</td>\n",
       "      <td>2.0</td>\n",
       "      <td>2.0</td>\n",
       "      <td>42.0</td>\n",
       "      <td>-1.0</td>\n",
       "      <td>-1.0</td>\n",
       "      <td>-1.0</td>\n",
       "      <td>0.0</td>\n",
       "      <td>...</td>\n",
       "      <td>700.0</td>\n",
       "      <td>748.0</td>\n",
       "      <td>-784.0</td>\n",
       "      <td>395.0</td>\n",
       "      <td>1204.0</td>\n",
       "      <td>0.0</td>\n",
       "      <td>748.0</td>\n",
       "      <td>0.0</td>\n",
       "      <td>2688.0</td>\n",
       "      <td>0.0</td>\n",
       "    </tr>\n",
       "    <tr>\n",
       "      <th>2053</th>\n",
       "      <td>2054.0</td>\n",
       "      <td>140000.0</td>\n",
       "      <td>M</td>\n",
       "      <td>3.0</td>\n",
       "      <td>1.0</td>\n",
       "      <td>37.0</td>\n",
       "      <td>2.0</td>\n",
       "      <td>2.0</td>\n",
       "      <td>2.0</td>\n",
       "      <td>2.0</td>\n",
       "      <td>...</td>\n",
       "      <td>136438.0</td>\n",
       "      <td>144979.0</td>\n",
       "      <td>139314.0</td>\n",
       "      <td>6400.0</td>\n",
       "      <td>5000.0</td>\n",
       "      <td>0.0</td>\n",
       "      <td>10800.0</td>\n",
       "      <td>0.0</td>\n",
       "      <td>5300.0</td>\n",
       "      <td>0.0</td>\n",
       "    </tr>\n",
       "    <tr>\n",
       "      <th>2054</th>\n",
       "      <td>2055.0</td>\n",
       "      <td>50000.0</td>\n",
       "      <td>M</td>\n",
       "      <td>2.0</td>\n",
       "      <td>1.0</td>\n",
       "      <td>55.0</td>\n",
       "      <td>0.0</td>\n",
       "      <td>0.0</td>\n",
       "      <td>0.0</td>\n",
       "      <td>0.0</td>\n",
       "      <td>...</td>\n",
       "      <td>20238.0</td>\n",
       "      <td>18646.0</td>\n",
       "      <td>19034.0</td>\n",
       "      <td>2100.0</td>\n",
       "      <td>1305.0</td>\n",
       "      <td>1201.0</td>\n",
       "      <td>663.0</td>\n",
       "      <td>684.0</td>\n",
       "      <td>652.0</td>\n",
       "      <td>0.0</td>\n",
       "    </tr>\n",
       "  </tbody>\n",
       "</table>\n",
       "<p>5 rows × 25 columns</p>\n",
       "</div>"
      ],
      "text/plain": [
       "          ID     LIMIT SEX  EDUCATION  MARITAL   AGE  STATUS2  STATUS3  \\\n",
       "2050  2051.0   30000.0   M        2.0      1.0  47.0      1.0      2.0   \n",
       "2051  2052.0   50000.0   M        3.0      2.0  27.0      2.0      2.0   \n",
       "2052  2053.0  140000.0   F        2.0      2.0  42.0     -1.0     -1.0   \n",
       "2053  2054.0  140000.0   M        3.0      1.0  37.0      2.0      2.0   \n",
       "2054  2055.0   50000.0   M        2.0      1.0  55.0      0.0      0.0   \n",
       "\n",
       "      STATUS4  STATUS5  ...     BILL4     BILL5     BILL6    PAY1    PAY2  \\\n",
       "2050      0.0      0.0  ...   16469.0   16063.0   17295.0     0.0  1253.0   \n",
       "2051      2.0      2.0  ...   50982.0   51740.0   49062.0  1800.0  3900.0   \n",
       "2052     -1.0      0.0  ...     700.0     748.0    -784.0   395.0  1204.0   \n",
       "2053      2.0      2.0  ...  136438.0  144979.0  139314.0  6400.0  5000.0   \n",
       "2054      0.0      0.0  ...   20238.0   18646.0   19034.0  2100.0  1305.0   \n",
       "\n",
       "        PAY3     PAY4    PAY5    PAY6  DEFAULT  \n",
       "2050  1400.0      0.0  1500.0     0.0      0.0  \n",
       "2051   300.0   3400.0     0.0  4000.0      0.0  \n",
       "2052     0.0    748.0     0.0  2688.0      0.0  \n",
       "2053     0.0  10800.0     0.0  5300.0      0.0  \n",
       "2054  1201.0    663.0   684.0   652.0      0.0  \n",
       "\n",
       "[5 rows x 25 columns]"
      ]
     },
     "execution_count": 3,
     "metadata": {},
     "output_type": "execute_result"
    }
   ],
   "source": [
    "# To view the entire dataset\n",
    "# pd.set_option('display.max_rows', your_data.shape[0]+1) \n",
    "your_data.head()"
   ]
  },
  {
   "cell_type": "code",
   "execution_count": 4,
   "metadata": {},
   "outputs": [
    {
     "data": {
      "text/plain": [
       "ID            0\n",
       "LIMIT         0\n",
       "SEX           0\n",
       "EDUCATION     3\n",
       "MARITAL      15\n",
       "AGE           0\n",
       "STATUS2       0\n",
       "STATUS3       0\n",
       "STATUS4       0\n",
       "STATUS5       0\n",
       "STATUS6       0\n",
       "STATUS7       0\n",
       "BILL1         0\n",
       "BILL2         0\n",
       "BILL3         0\n",
       "BILL4         0\n",
       "BILL5         0\n",
       "BILL6         0\n",
       "PAY1          0\n",
       "PAY2          0\n",
       "PAY3          0\n",
       "PAY4          0\n",
       "PAY5          0\n",
       "PAY6          0\n",
       "DEFAULT       0\n",
       "dtype: int64"
      ]
     },
     "execution_count": 4,
     "metadata": {},
     "output_type": "execute_result"
    }
   ],
   "source": [
    "# Exploring umber of missing cells \n",
    "your_data.isnull().sum()"
   ]
  },
  {
   "cell_type": "code",
   "execution_count": 5,
   "metadata": {},
   "outputs": [
    {
     "data": {
      "text/plain": [
       "ID           float64\n",
       "LIMIT        float64\n",
       "SEX           object\n",
       "EDUCATION    float64\n",
       "MARITAL      float64\n",
       "AGE          float64\n",
       "STATUS2      float64\n",
       "STATUS3      float64\n",
       "STATUS4      float64\n",
       "STATUS5      float64\n",
       "STATUS6      float64\n",
       "STATUS7      float64\n",
       "BILL1        float64\n",
       "BILL2        float64\n",
       "BILL3        float64\n",
       "BILL4        float64\n",
       "BILL5        float64\n",
       "BILL6        float64\n",
       "PAY1         float64\n",
       "PAY2         float64\n",
       "PAY3         float64\n",
       "PAY4         float64\n",
       "PAY5         float64\n",
       "PAY6         float64\n",
       "DEFAULT      float64\n",
       "dtype: object"
      ]
     },
     "execution_count": 5,
     "metadata": {},
     "output_type": "execute_result"
    }
   ],
   "source": [
    "# Exploring the different data types\n",
    "your_data.dtypes"
   ]
  },
  {
   "cell_type": "markdown",
   "metadata": {},
   "source": [
    "### Take-away 1"
   ]
  },
  {
   "cell_type": "code",
   "execution_count": 6,
   "metadata": {},
   "outputs": [
    {
     "data": {
      "text/plain": [
       "<AxesSubplot:xlabel='EDUCATION,DEFAULT'>"
      ]
     },
     "execution_count": 6,
     "metadata": {},
     "output_type": "execute_result"
    },
    {
     "data": {
      "image/png": "[encoded data removed]",
      "text/plain": [
       "<Figure size 432x288 with 1 Axes>"
      ]
     },
     "metadata": {
      "needs_background": "light"
     },
     "output_type": "display_data"
    }
   ],
   "source": [
    "# A simple bar chart will indicate that degree holders have the highest defaulters\n",
    "# However, this is inaccurate as the number of client varies in each catergory\n",
    "your_data[your_data.DEFAULT == 1].groupby('EDUCATION').DEFAULT.value_counts().plot(kind='bar')"
   ]
  },
  {
   "cell_type": "markdown",
   "metadata": {},
   "source": [
    "By normalizing the data, we are able to see the percentage \n",
    "of defaulters in each category and determine if they are correlated."
   ]
  },
  {
   "cell_type": "code",
   "execution_count": 7,
   "metadata": {},
   "outputs": [
    {
     "data": {
      "image/png": "[encoded data removed]",
      "text/plain": [
       "<Figure size 432x288 with 1 Axes>"
      ]
     },
     "metadata": {
      "needs_background": "light"
     },
     "output_type": "display_data"
    }
   ],
   "source": [
    "# Bar chart; Display number of defaulters grouped by education.\n",
    "edu_bc = your_data.groupby('EDUCATION')['DEFAULT'].value_counts(normalize=True).unstack().plot(kind='bar', stacked=True)\n",
    "\n",
    "# Move legend outside of bar chart for easy viewing\n",
    "plt.legend(['Good', 'Defaulted'], bbox_to_anchor=(1.05, 1), loc='upper left', borderaxespad=0.)\n",
    "\n",
    "# Label X and Y axis\n",
    "plt.xlabel('Education Level', fontsize=12, color='grey')\n",
    "plt.ylabel('Percentage', fontsize=12, color='grey')\n",
    "bars = ('Others', 'Post-Grad', 'Degree', 'High School')\n",
    "x_pos = np.arange(len(bars))\n",
    "plt.xticks(x_pos, bars)\n",
    "\n",
    "\n",
    "# Percentage labels to show distribution of defaults in each bin\n",
    "for bar in edu_bc.patches:\n",
    "    height = bar.get_height()\n",
    "    edu_bc.text(bar.get_x() + bar.get_width() / 2, \n",
    "              bar.get_y() + height / 2,\n",
    "              \"{:.0f}%\".format(height * 100),\n",
    "              ha='center', \n",
    "              va='bottom')\n",
    "\n",
    "plt.show()"
   ]
  },
  {
   "cell_type": "markdown",
   "metadata": {},
   "source": [
    "#### Did the client’s education level affect the default status of the user?\n",
    "Clients with 'Other' education levels have the least number of defaults at 6%. Clients with diploma and upwards education levels have almost similar range of defaults ~21-24% within each category. This means that clients with 'Other' education has a lower chance of defaulting compared to others. \n",
    "\n",
    "Post-grad degree holders are also less likely to default at 21%, compared to the rest at 24%.\n",
    "\n",
    "The caveat here is that the sample size of the Others category is much smaller than the rest, and may not be a true reflection of the actual default risks."
   ]
  },
  {
   "cell_type": "markdown",
   "metadata": {},
   "source": [
    "### Take-away 2"
   ]
  },
  {
   "cell_type": "code",
   "execution_count": 8,
   "metadata": {},
   "outputs": [
    {
     "data": {
      "image/png": "[encoded data removed]",
      "text/plain": [
       "<Figure size 432x288 with 1 Axes>"
      ]
     },
     "metadata": {
      "needs_background": "light"
     },
     "output_type": "display_data"
    }
   ],
   "source": [
    "# Bar chart; Display number of defaulters grouped by marital status.\n",
    "marital_bc = your_data.groupby('MARITAL')['DEFAULT'].value_counts(normalize=True).unstack().plot(kind='bar', stacked=True)\n",
    "\n",
    "# Move legend outside of bar chart for easy viewing\n",
    "plt.legend(['Good', 'Defaulted'], bbox_to_anchor=(1.05, 1), loc='upper left', borderaxespad=0.)\n",
    "bars = ('Single', 'Married', 'Others')\n",
    "x_pos = np.arange(len(bars))\n",
    "plt.xticks(x_pos, bars)\n",
    "\n",
    "# Label X and Y axis\n",
    "plt.xlabel('Marital Status', fontsize=12, color='grey')\n",
    "plt.ylabel('Percentage', fontsize=12, color='grey')\n",
    "\n",
    "# Percentage labels to show distribution of defaults in each bin\n",
    "for bar in marital_bc.patches:\n",
    "    height = bar.get_height()\n",
    "    marital_bc.text(bar.get_x() + bar.get_width() / 2, \n",
    "              bar.get_y() + height / 2,\n",
    "              \"{:.0f}%\".format(height * 100),\n",
    "              ha='center', \n",
    "              va='center')\n",
    "    \n",
    "plt.show()"
   ]
  },
  {
   "cell_type": "markdown",
   "metadata": {},
   "source": [
    "#### Does marital status affect the default status of the user?\n",
    "The default rate is approximately similar across all marital status at 21-24%. The data suggests that singles are more likely to default at 24%, compared to married clients at 21%. "
   ]
  },
  {
   "cell_type": "markdown",
   "metadata": {},
   "source": [
    "### Take-away 3"
   ]
  },
  {
   "cell_type": "code",
   "execution_count": 9,
   "metadata": {
    "scrolled": true
   },
   "outputs": [
    {
     "data": {
      "text/plain": [
       "F    5752\n",
       "M    4248\n",
       "Name: SEX, dtype: int64"
      ]
     },
     "execution_count": 9,
     "metadata": {},
     "output_type": "execute_result"
    }
   ],
   "source": [
    "# First I try to understand the data\n",
    "your_data.SEX.value_counts()"
   ]
  },
  {
   "cell_type": "code",
   "execution_count": 10,
   "metadata": {},
   "outputs": [
    {
     "data": {
      "image/png": "[encoded data removed]",
      "text/plain": [
       "<Figure size 432x288 with 1 Axes>"
      ]
     },
     "metadata": {
      "needs_background": "light"
     },
     "output_type": "display_data"
    }
   ],
   "source": [
    "# Bar chart; Display number of defaulters grouped by Age.\n",
    "sex_bc = your_data.groupby('SEX')['DEFAULT'].value_counts(normalize=True).unstack().plot(kind='bar', stacked=True)\n",
    "\n",
    "# Move legend outside of bar chart for easy viewing\n",
    "plt.legend(['Good', 'Defaulted'], bbox_to_anchor=(1.05, 1), loc='upper left', borderaxespad=0.)\n",
    "\n",
    "# Label X and Y axis\n",
    "plt.xlabel('Gender', fontsize=12, color='grey')\n",
    "plt.ylabel('Percentage', fontsize=12, color='grey')\n",
    "\n",
    "for bar in sex_bc.patches:\n",
    "    height = bar.get_height()\n",
    "    sex_bc.text(bar.get_x() + bar.get_width() / 2, \n",
    "              bar.get_y() + height / 2,\n",
    "              \"{:.0f}%\".format(height * 100),\n",
    "              ha='center', \n",
    "              va='center')\n",
    "\n",
    "plt.show()"
   ]
  },
  {
   "cell_type": "code",
   "execution_count": 11,
   "metadata": {},
   "outputs": [
    {
     "data": {
      "image/png": "[encoded data removed]",
      "text/plain": [
       "<Figure size 432x288 with 1 Axes>"
      ]
     },
     "metadata": {
      "needs_background": "light"
     },
     "output_type": "display_data"
    }
   ],
   "source": [
    "# Bar Chart; Bivariate bar chart to see default rates between marital and sex\n",
    "sex_marital = your_data.groupby(['MARITAL', 'SEX']).DEFAULT.value_counts(normalize=True).unstack().plot(kind=\"bar\", stacked=False)\n",
    "\n",
    "# Move legend outside of bar chart for easy viewing\n",
    "plt.legend(['Good', 'Defaulted'], bbox_to_anchor=(1.05, 1), loc='upper left', borderaxespad=0.)\n",
    "\n",
    "# Label X and Y axis\n",
    "plt.xlabel('Default rates against marital and sex', fontsize=12, color='grey')\n",
    "plt.ylabel('Percentage', fontsize=12, color='grey')\n",
    "bars = ('Single F', 'Single M','Married F', 'Married M','Others F', 'Others M')\n",
    "x_pos = np.arange(len(bars))\n",
    "plt.xticks(x_pos, bars)\n",
    "\n",
    "for bar in sex_marital.patches:\n",
    "    height = bar.get_height()\n",
    "    sex_marital.text(bar.get_x() + bar.get_width() / 2, \n",
    "              bar.get_y() + height / 2,\n",
    "              \"{:.0f}%\".format(height * 100),\n",
    "              ha='left', \n",
    "              va='center')\n",
    "    "
   ]
  },
  {
   "cell_type": "markdown",
   "metadata": {},
   "source": [
    "#### Does gender affect the default status of the user?\n",
    "In the univariate chart, the default rate amongst men and women is almost similar with Men being more likely to default at 24% compared to females at 21%.\n",
    "\n",
    "Subsequently the bivariate bar graph reinforces the believe that females in the others category are the least likely to default. Interestingly however, males in others category are more likely to default compared to single males."
   ]
  },
  {
   "cell_type": "markdown",
   "metadata": {},
   "source": [
    "### Take-away 4"
   ]
  },
  {
   "cell_type": "code",
   "execution_count": 13,
   "metadata": {},
   "outputs": [],
   "source": [
    "interval_range = pd.interval_range(start=0, freq=50000, end=1000000, closed='left')\n",
    "your_data.loc[:,\"LIMIT_GROUP\"] = pd.cut(your_data.LIMIT, bins=interval_range)"
   ]
  },
  {
   "cell_type": "code",
   "execution_count": 14,
   "metadata": {},
   "outputs": [
    {
     "data": {
      "image/png": "[encoded data removed]",
      "text/plain": [
       "<Figure size 432x288 with 1 Axes>"
      ]
     },
     "metadata": {
      "needs_background": "light"
     },
     "output_type": "display_data"
    }
   ],
   "source": [
    "# Bar chart; Display number of defaulters grouped by credit limit.\n",
    "limit_group = your_data.groupby(['LIMIT_GROUP'], observed=True)['DEFAULT'].value_counts(normalize=True).unstack().plot(kind='bar', stacked=True)\n",
    "\n",
    "# Move legend outside of bar chart for easy viewing\n",
    "plt.legend(['Good', 'Defaulted'], bbox_to_anchor=(1.05, 1), loc='upper left', borderaxespad=0.)\n",
    "\n",
    "# Label X and Y axis\n",
    "plt.xlabel('Credit Limit binned in 50k', fontsize=12, color='grey')\n",
    "plt.ylabel('Percentage', fontsize=12, color='grey')\n",
    "\n",
    "for bar in limit_group.patches:\n",
    "    height = bar.get_height()\n",
    "    limit_group.text(bar.get_x() + bar.get_width() / 2, \n",
    "              bar.get_y() + height / 2,\n",
    "              \"{:.0f}%\".format(height*100),\n",
    "              ha='center', \n",
    "              va='center')\n",
    "\n",
    "plt.show()"
   ]
  },
  {
   "cell_type": "markdown",
   "metadata": {},
   "source": [
    "#### Does the client's spending limit affect the default status of the user?\n",
    "The number of defaults tapers down as the credit limit increases. The data suggests that clients with lower credit limit have a higher risk of defaults. This is expected as the credit limit is typically pegged a person's income and also determines your credit worthiness. A client with a higher income is deemed more credible than one with a lower income."
   ]
  },
  {
   "cell_type": "markdown",
   "metadata": {},
   "source": [
    "### Take-away 5"
   ]
  },
  {
   "cell_type": "code",
   "execution_count": 15,
   "metadata": {},
   "outputs": [],
   "source": [
    "age_interval_range = pd.interval_range(start=0, freq=5, end=100, closed='left')\n",
    "your_data.loc[:, 'AGE_GROUP'] = pd.cut(your_data.AGE, bins=age_interval_range)\n",
    "your_data = your_data.copy()"
   ]
  },
  {
   "cell_type": "code",
   "execution_count": 16,
   "metadata": {},
   "outputs": [
    {
     "data": {
      "image/png": "[encoded data removed]",
      "text/plain": [
       "<Figure size 432x288 with 1 Axes>"
      ]
     },
     "metadata": {
      "needs_background": "light"
     },
     "output_type": "display_data"
    }
   ],
   "source": [
    "# Bar chart; Display number of defaulters grouped by credit limit.\n",
    "age_group = your_data.groupby(['AGE_GROUP'], observed=True)['DEFAULT'].value_counts(normalize=True).unstack().plot(kind='bar', stacked=True)\n",
    "\n",
    "# Move legend outside of bar chart for easy viewing\n",
    "plt.legend(['Good', 'Defaulted'], bbox_to_anchor=(1.05, 1), loc='upper left', borderaxespad=0.)\n",
    "\n",
    "# Label X and Y axis\n",
    "plt.xlabel('Age Group', fontsize=12, color='grey')\n",
    "plt.ylabel('Percentage', fontsize=12, color='grey')\n",
    "\n",
    "for bar in age_group.patches:\n",
    "    height = bar.get_height()\n",
    "    age_group.text(bar.get_x() + bar.get_width() / 2, \n",
    "              bar.get_y() + height / 2,\n",
    "              \"{:.0f}%\".format(height*100),\n",
    "              ha='center', \n",
    "              va='center')\n",
    "\n",
    "# plt.show()"
   ]
  },
  {
   "cell_type": "code",
   "execution_count": 17,
   "metadata": {},
   "outputs": [
    {
     "name": "stdout",
     "output_type": "stream",
     "text": [
      "The sample size of clients within the 30-35 age group is 1547\n"
     ]
    }
   ],
   "source": [
    "group1 = your_data[(your_data.AGE > 30) & (your_data.AGE < 35)].ID.count()\n",
    "print('The sample size of clients within the 30-35 age group is', group1)"
   ]
  },
  {
   "cell_type": "code",
   "execution_count": 18,
   "metadata": {},
   "outputs": [
    {
     "name": "stdout",
     "output_type": "stream",
     "text": [
      "The sample size of clients within the 65-70 age group is 25\n"
     ]
    }
   ],
   "source": [
    "group2 = your_data[(your_data.AGE > 65) & (your_data.AGE < 70)].ID.count()\n",
    "print('The sample size of clients within the 65-70 age group is', group2)"
   ]
  },
  {
   "cell_type": "code",
   "execution_count": 19,
   "metadata": {
    "scrolled": true
   },
   "outputs": [
    {
     "name": "stdout",
     "output_type": "stream",
     "text": [
      "The sample size of clients within the 70-75 age group is 8\n"
     ]
    }
   ],
   "source": [
    "group3 = your_data[your_data.AGE > 70].ID.count()\n",
    "print('The sample size of clients within the 70-75 age group is', group3)"
   ]
  },
  {
   "cell_type": "markdown",
   "metadata": {},
   "source": [
    "#### Does age affect the default status of the user?\n",
    "There is a sharp drop in the number of defaulters in the 70-75, possibly due to a much smaller sample size. The distribution is otherwise unimodal, with the highest number of good standing clients between the age group of 30-35. This suggests that clients within this age group have a lower risk of defaulting compared to the other age-groups."
   ]
  },
  {
   "cell_type": "markdown",
   "metadata": {},
   "source": [
    "### Take-away 6"
   ]
  },
  {
   "cell_type": "code",
   "execution_count": 20,
   "metadata": {},
   "outputs": [
    {
     "data": {
      "text/html": [
       "<div>\n",
       "<style scoped>\n",
       "    .dataframe tbody tr th:only-of-type {\n",
       "        vertical-align: middle;\n",
       "    }\n",
       "\n",
       "    .dataframe tbody tr th {\n",
       "        vertical-align: top;\n",
       "    }\n",
       "\n",
       "    .dataframe thead th {\n",
       "        text-align: right;\n",
       "    }\n",
       "</style>\n",
       "<table border=\"1\" class=\"dataframe\">\n",
       "  <thead>\n",
       "    <tr style=\"text-align: right;\">\n",
       "      <th></th>\n",
       "      <th>STATUS2</th>\n",
       "      <th>STATUS3</th>\n",
       "      <th>STATUS4</th>\n",
       "      <th>STATUS5</th>\n",
       "      <th>STATUS6</th>\n",
       "      <th>STATUS7</th>\n",
       "      <th>DEFAULT</th>\n",
       "    </tr>\n",
       "  </thead>\n",
       "  <tbody>\n",
       "    <tr>\n",
       "      <th>2050</th>\n",
       "      <td>1.0</td>\n",
       "      <td>2.0</td>\n",
       "      <td>0.0</td>\n",
       "      <td>0.0</td>\n",
       "      <td>2.0</td>\n",
       "      <td>2.0</td>\n",
       "      <td>0.0</td>\n",
       "    </tr>\n",
       "    <tr>\n",
       "      <th>2051</th>\n",
       "      <td>2.0</td>\n",
       "      <td>2.0</td>\n",
       "      <td>2.0</td>\n",
       "      <td>2.0</td>\n",
       "      <td>2.0</td>\n",
       "      <td>2.0</td>\n",
       "      <td>0.0</td>\n",
       "    </tr>\n",
       "    <tr>\n",
       "      <th>2052</th>\n",
       "      <td>-1.0</td>\n",
       "      <td>-1.0</td>\n",
       "      <td>-1.0</td>\n",
       "      <td>0.0</td>\n",
       "      <td>-1.0</td>\n",
       "      <td>-1.0</td>\n",
       "      <td>0.0</td>\n",
       "    </tr>\n",
       "    <tr>\n",
       "      <th>2053</th>\n",
       "      <td>2.0</td>\n",
       "      <td>2.0</td>\n",
       "      <td>2.0</td>\n",
       "      <td>2.0</td>\n",
       "      <td>2.0</td>\n",
       "      <td>2.0</td>\n",
       "      <td>0.0</td>\n",
       "    </tr>\n",
       "    <tr>\n",
       "      <th>2054</th>\n",
       "      <td>0.0</td>\n",
       "      <td>0.0</td>\n",
       "      <td>0.0</td>\n",
       "      <td>0.0</td>\n",
       "      <td>0.0</td>\n",
       "      <td>0.0</td>\n",
       "      <td>0.0</td>\n",
       "    </tr>\n",
       "  </tbody>\n",
       "</table>\n",
       "</div>"
      ],
      "text/plain": [
       "      STATUS2  STATUS3  STATUS4  STATUS5  STATUS6  STATUS7  DEFAULT\n",
       "2050      1.0      2.0      0.0      0.0      2.0      2.0      0.0\n",
       "2051      2.0      2.0      2.0      2.0      2.0      2.0      0.0\n",
       "2052     -1.0     -1.0     -1.0      0.0     -1.0     -1.0      0.0\n",
       "2053      2.0      2.0      2.0      2.0      2.0      2.0      0.0\n",
       "2054      0.0      0.0      0.0      0.0      0.0      0.0      0.0"
      ]
     },
     "execution_count": 20,
     "metadata": {},
     "output_type": "execute_result"
    }
   ],
   "source": [
    "# Creating a separate dataframe for payment status and defaults only\n",
    "status_default = your_data.filter(regex=\"^(STATUS|DEFAULT)\")\n",
    "status_default.head()"
   ]
  },
  {
   "cell_type": "code",
   "execution_count": 21,
   "metadata": {},
   "outputs": [
    {
     "data": {
      "text/html": [
       "<div>\n",
       "<style scoped>\n",
       "    .dataframe tbody tr th:only-of-type {\n",
       "        vertical-align: middle;\n",
       "    }\n",
       "\n",
       "    .dataframe tbody tr th {\n",
       "        vertical-align: top;\n",
       "    }\n",
       "\n",
       "    .dataframe thead th {\n",
       "        text-align: right;\n",
       "    }\n",
       "</style>\n",
       "<table border=\"1\" class=\"dataframe\">\n",
       "  <thead>\n",
       "    <tr style=\"text-align: right;\">\n",
       "      <th></th>\n",
       "      <th>STATUS2</th>\n",
       "      <th>STATUS3</th>\n",
       "      <th>STATUS4</th>\n",
       "      <th>STATUS5</th>\n",
       "      <th>STATUS6</th>\n",
       "      <th>STATUS7</th>\n",
       "      <th>DEFAULT</th>\n",
       "    </tr>\n",
       "  </thead>\n",
       "  <tbody>\n",
       "    <tr>\n",
       "      <th>2055</th>\n",
       "      <td>1.0</td>\n",
       "      <td>2.0</td>\n",
       "      <td>0.0</td>\n",
       "      <td>0.0</td>\n",
       "      <td>0.0</td>\n",
       "      <td>0.0</td>\n",
       "      <td>1.0</td>\n",
       "    </tr>\n",
       "    <tr>\n",
       "      <th>2056</th>\n",
       "      <td>1.0</td>\n",
       "      <td>2.0</td>\n",
       "      <td>0.0</td>\n",
       "      <td>0.0</td>\n",
       "      <td>0.0</td>\n",
       "      <td>0.0</td>\n",
       "      <td>1.0</td>\n",
       "    </tr>\n",
       "    <tr>\n",
       "      <th>2064</th>\n",
       "      <td>0.0</td>\n",
       "      <td>0.0</td>\n",
       "      <td>0.0</td>\n",
       "      <td>2.0</td>\n",
       "      <td>-1.0</td>\n",
       "      <td>-1.0</td>\n",
       "      <td>1.0</td>\n",
       "    </tr>\n",
       "    <tr>\n",
       "      <th>2068</th>\n",
       "      <td>0.0</td>\n",
       "      <td>0.0</td>\n",
       "      <td>0.0</td>\n",
       "      <td>0.0</td>\n",
       "      <td>0.0</td>\n",
       "      <td>-1.0</td>\n",
       "      <td>1.0</td>\n",
       "    </tr>\n",
       "    <tr>\n",
       "      <th>2077</th>\n",
       "      <td>1.0</td>\n",
       "      <td>2.0</td>\n",
       "      <td>2.0</td>\n",
       "      <td>0.0</td>\n",
       "      <td>0.0</td>\n",
       "      <td>0.0</td>\n",
       "      <td>1.0</td>\n",
       "    </tr>\n",
       "  </tbody>\n",
       "</table>\n",
       "</div>"
      ],
      "text/plain": [
       "      STATUS2  STATUS3  STATUS4  STATUS5  STATUS6  STATUS7  DEFAULT\n",
       "2055      1.0      2.0      0.0      0.0      0.0      0.0      1.0\n",
       "2056      1.0      2.0      0.0      0.0      0.0      0.0      1.0\n",
       "2064      0.0      0.0      0.0      2.0     -1.0     -1.0      1.0\n",
       "2068      0.0      0.0      0.0      0.0      0.0     -1.0      1.0\n",
       "2077      1.0      2.0      2.0      0.0      0.0      0.0      1.0"
      ]
     },
     "execution_count": 21,
     "metadata": {},
     "output_type": "execute_result"
    }
   ],
   "source": [
    "# This dataframe shows the payment status of those who defaults \n",
    "status_default[status_default.DEFAULT == 1].head()"
   ]
  },
  {
   "cell_type": "code",
   "execution_count": 22,
   "metadata": {
    "scrolled": true
   },
   "outputs": [
    {
     "data": {
      "text/html": [
       "<div>\n",
       "<style scoped>\n",
       "    .dataframe tbody tr th:only-of-type {\n",
       "        vertical-align: middle;\n",
       "    }\n",
       "\n",
       "    .dataframe tbody tr th {\n",
       "        vertical-align: top;\n",
       "    }\n",
       "\n",
       "    .dataframe thead th {\n",
       "        text-align: right;\n",
       "    }\n",
       "</style>\n",
       "<table border=\"1\" class=\"dataframe\">\n",
       "  <thead>\n",
       "    <tr style=\"text-align: right;\">\n",
       "      <th></th>\n",
       "      <th>-1.0</th>\n",
       "      <th>0.0</th>\n",
       "      <th>1.0</th>\n",
       "      <th>2.0</th>\n",
       "      <th>3.0</th>\n",
       "      <th>4.0</th>\n",
       "      <th>5.0</th>\n",
       "      <th>6.0</th>\n",
       "      <th>7.0</th>\n",
       "      <th>8.0</th>\n",
       "    </tr>\n",
       "  </thead>\n",
       "  <tbody>\n",
       "    <tr>\n",
       "      <th>2055</th>\n",
       "      <td>NaN</td>\n",
       "      <td>4.0</td>\n",
       "      <td>2.0</td>\n",
       "      <td>1.0</td>\n",
       "      <td>NaN</td>\n",
       "      <td>NaN</td>\n",
       "      <td>NaN</td>\n",
       "      <td>NaN</td>\n",
       "      <td>NaN</td>\n",
       "      <td>NaN</td>\n",
       "    </tr>\n",
       "    <tr>\n",
       "      <th>2056</th>\n",
       "      <td>NaN</td>\n",
       "      <td>4.0</td>\n",
       "      <td>2.0</td>\n",
       "      <td>1.0</td>\n",
       "      <td>NaN</td>\n",
       "      <td>NaN</td>\n",
       "      <td>NaN</td>\n",
       "      <td>NaN</td>\n",
       "      <td>NaN</td>\n",
       "      <td>NaN</td>\n",
       "    </tr>\n",
       "    <tr>\n",
       "      <th>2064</th>\n",
       "      <td>2.0</td>\n",
       "      <td>3.0</td>\n",
       "      <td>1.0</td>\n",
       "      <td>1.0</td>\n",
       "      <td>NaN</td>\n",
       "      <td>NaN</td>\n",
       "      <td>NaN</td>\n",
       "      <td>NaN</td>\n",
       "      <td>NaN</td>\n",
       "      <td>NaN</td>\n",
       "    </tr>\n",
       "    <tr>\n",
       "      <th>2068</th>\n",
       "      <td>1.0</td>\n",
       "      <td>5.0</td>\n",
       "      <td>1.0</td>\n",
       "      <td>NaN</td>\n",
       "      <td>NaN</td>\n",
       "      <td>NaN</td>\n",
       "      <td>NaN</td>\n",
       "      <td>NaN</td>\n",
       "      <td>NaN</td>\n",
       "      <td>NaN</td>\n",
       "    </tr>\n",
       "    <tr>\n",
       "      <th>2077</th>\n",
       "      <td>NaN</td>\n",
       "      <td>3.0</td>\n",
       "      <td>2.0</td>\n",
       "      <td>2.0</td>\n",
       "      <td>NaN</td>\n",
       "      <td>NaN</td>\n",
       "      <td>NaN</td>\n",
       "      <td>NaN</td>\n",
       "      <td>NaN</td>\n",
       "      <td>NaN</td>\n",
       "    </tr>\n",
       "  </tbody>\n",
       "</table>\n",
       "</div>"
      ],
      "text/plain": [
       "      -1.0   0.0   1.0   2.0   3.0   4.0   5.0   6.0   7.0   8.0\n",
       "2055   NaN   4.0   2.0   1.0   NaN   NaN   NaN   NaN   NaN   NaN\n",
       "2056   NaN   4.0   2.0   1.0   NaN   NaN   NaN   NaN   NaN   NaN\n",
       "2064   2.0   3.0   1.0   1.0   NaN   NaN   NaN   NaN   NaN   NaN\n",
       "2068   1.0   5.0   1.0   NaN   NaN   NaN   NaN   NaN   NaN   NaN\n",
       "2077   NaN   3.0   2.0   2.0   NaN   NaN   NaN   NaN   NaN   NaN"
      ]
     },
     "execution_count": 22,
     "metadata": {},
     "output_type": "execute_result"
    }
   ],
   "source": [
    "# Count the number of occurence for defaults. \n",
    "# This shows how many times a client paid on time, minimum rate, or defaulted\n",
    "status_pattern = status_default[status_default.DEFAULT == 1].apply(pd.Series.value_counts, axis=1)\n",
    "status_pattern.head()"
   ]
  },
  {
   "cell_type": "code",
   "execution_count": 23,
   "metadata": {},
   "outputs": [
    {
     "data": {
      "text/plain": [
       "514"
      ]
     },
     "execution_count": 23,
     "metadata": {},
     "output_type": "execute_result"
    }
   ],
   "source": [
    "# Example: To count if the user paid on times 5 times or more\n",
    "# df[df[number of times paid punctually] > index][paid punctually].count()\n",
    "status_pattern[status_pattern[-1] > 1][-1].count()"
   ]
  },
  {
   "cell_type": "code",
   "execution_count": 26,
   "metadata": {
    "scrolled": true
   },
   "outputs": [
    {
     "data": {
      "image/png": "[encoded data removed]",
      "text/plain": [
       "<Figure size 432x288 with 1 Axes>"
      ]
     },
     "metadata": {
      "needs_background": "light"
     },
     "output_type": "display_data"
    }
   ],
   "source": [
    "current = {}\n",
    "for i in range(1, 7):\n",
    "    current[i]=((status_pattern[status_pattern[-1] > i][-1].count() / status_pattern.shape[0]) * 100)\n",
    "    # print('{:.0f}% paid on time {} times in the last 7 months'.format(current[i], i))\n",
    "\n",
    "plt.bar(*zip(*current.items()))\n",
    "plt.title('Number of times client paid on time')\n",
    "\n",
    "# Label X and Y axis\n",
    "plt.xlabel('Paid on time x times', fontsize=12, color='grey')\n",
    "plt.ylabel('Percentage of clients', fontsize=12, color='grey')\n",
    "\n",
    "plt.show()"
   ]
  },
  {
   "cell_type": "markdown",
   "metadata": {},
   "source": [
    "#### Does the payment status affect the default status of the user?\n",
    "The data suggests that clients who defaulted do not consistently pay their bills on time."
   ]
  },
  {
   "cell_type": "markdown",
   "metadata": {},
   "source": [
    "# <font color= maroon>  Data Preparation "
   ]
  },
  {
   "cell_type": "markdown",
   "metadata": {},
   "source": [
    "In the following section, I attempt to improve the data quality and cleanliness by addressing outliers and missing data. "
   ]
  },
  {
   "cell_type": "markdown",
   "metadata": {},
   "source": [
    "## <font color= grey> Data Transformation"
   ]
  },
  {
   "cell_type": "markdown",
   "metadata": {},
   "source": [
    "### Transformation 1"
   ]
  },
  {
   "cell_type": "markdown",
   "metadata": {},
   "source": [
    "**Missing Data (EDUCATION and MARITAL)**: This is a qualitative attribute. From our earlier takeaways, the client's education level and marital status may affect the risk of defaulting. There is a chance that the missing data is MNAR (Missing Not At Random) and that the client does not wish to share the information for personal reasons (e.g. doesn't want to declare his education because he is a dropout, or his marital status because of his political beliefs).\n",
    "\n",
    "Due to the small number of missing data, I have decided to drop them from the analysis. "
   ]
  },
  {
   "cell_type": "code",
   "execution_count": 27,
   "metadata": {},
   "outputs": [
    {
     "data": {
      "text/plain": [
       "3"
      ]
     },
     "execution_count": 27,
     "metadata": {},
     "output_type": "execute_result"
    }
   ],
   "source": [
    "your_data.EDUCATION.isna().sum()"
   ]
  },
  {
   "cell_type": "code",
   "execution_count": 28,
   "metadata": {},
   "outputs": [
    {
     "data": {
      "text/plain": [
       "15"
      ]
     },
     "execution_count": 28,
     "metadata": {},
     "output_type": "execute_result"
    }
   ],
   "source": [
    "your_data.MARITAL.isna().sum()"
   ]
  },
  {
   "cell_type": "code",
   "execution_count": 29,
   "metadata": {},
   "outputs": [],
   "source": [
    "your_data.dropna(inplace=True)"
   ]
  },
  {
   "cell_type": "code",
   "execution_count": 30,
   "metadata": {},
   "outputs": [
    {
     "data": {
      "text/plain": [
       "0"
      ]
     },
     "execution_count": 30,
     "metadata": {},
     "output_type": "execute_result"
    }
   ],
   "source": [
    "your_data.EDUCATION.isna().sum()"
   ]
  },
  {
   "cell_type": "code",
   "execution_count": 31,
   "metadata": {},
   "outputs": [
    {
     "data": {
      "text/plain": [
       "0"
      ]
     },
     "execution_count": 31,
     "metadata": {},
     "output_type": "execute_result"
    }
   ],
   "source": [
    "your_data.MARITAL.isna().sum()"
   ]
  },
  {
   "cell_type": "markdown",
   "metadata": {},
   "source": [
    "### Tranformation 2"
   ]
  },
  {
   "cell_type": "markdown",
   "metadata": {},
   "source": [
    "**ABNORMAL DATA (AGE)**: This is a quantitative attribute. There are abnormal outliers in the AGE column i.e. there is a number of clients aged 999 and -1 which is impossible. For these outliers, I have replaced them with the median age instead."
   ]
  },
  {
   "cell_type": "code",
   "execution_count": 32,
   "metadata": {},
   "outputs": [
    {
     "data": {
      "text/plain": [
       "Series([], Name: AGE, dtype: int64)"
      ]
     },
     "execution_count": 32,
     "metadata": {},
     "output_type": "execute_result"
    }
   ],
   "source": [
    "your_data[(your_data.AGE > 100)|(your_data.AGE < 1)].AGE.value_counts()"
   ]
  },
  {
   "cell_type": "code",
   "execution_count": 33,
   "metadata": {},
   "outputs": [
    {
     "data": {
      "text/plain": [
       "34.0"
      ]
     },
     "execution_count": 33,
     "metadata": {},
     "output_type": "execute_result"
    }
   ],
   "source": [
    "median_age = your_data.AGE.median()\n",
    "median_age"
   ]
  },
  {
   "cell_type": "code",
   "execution_count": 34,
   "metadata": {},
   "outputs": [],
   "source": [
    "your_data.AGE = your_data.AGE.replace([999,-1], median_age)"
   ]
  },
  {
   "cell_type": "code",
   "execution_count": 35,
   "metadata": {},
   "outputs": [
    {
     "data": {
      "text/plain": [
       "0"
      ]
     },
     "execution_count": 35,
     "metadata": {},
     "output_type": "execute_result"
    }
   ],
   "source": [
    "your_data[(your_data.AGE > 100)|(your_data.AGE < 1)].AGE.value_counts().sum()"
   ]
  },
  {
   "cell_type": "markdown",
   "metadata": {},
   "source": [
    "### Tranformation 3"
   ]
  },
  {
   "cell_type": "markdown",
   "metadata": {},
   "source": [
    "**REDUCE NOISE (LIMIT)**: This is a quantitative attribute. The number range is too big and difficult to view on the chart in takeaway 5 above. For this attribute, I have decided to bin the number in 50k intervals, and then converted the value to numeric for correlation analysis."
   ]
  },
  {
   "cell_type": "code",
   "execution_count": 36,
   "metadata": {},
   "outputs": [],
   "source": [
    "interval_range = pd.interval_range(start=0, freq=50000, end=1000000, closed='left')\n",
    "your_data.loc[:,\"LIMIT_GROUP\"] = pd.cut(your_data.LIMIT, bins=interval_range)"
   ]
  },
  {
   "cell_type": "code",
   "execution_count": 37,
   "metadata": {},
   "outputs": [],
   "source": [
    "your_data['LIMIT_NUM'] = your_data['LIMIT_GROUP'].astype('category').cat.codes"
   ]
  },
  {
   "cell_type": "code",
   "execution_count": 38,
   "metadata": {},
   "outputs": [
    {
     "data": {
      "text/plain": [
       "1     0.245639\n",
       "0     0.146280\n",
       "4     0.130840\n",
       "2     0.127732\n",
       "3     0.117205\n",
       "5     0.064468\n",
       "7     0.051333\n",
       "6     0.047624\n",
       "10    0.026770\n",
       "8     0.020854\n",
       "9     0.016543\n",
       "12    0.001805\n",
       "11    0.001604\n",
       "14    0.000702\n",
       "13    0.000301\n",
       "15    0.000301\n",
       "Name: LIMIT_NUM, dtype: float64"
      ]
     },
     "execution_count": 38,
     "metadata": {},
     "output_type": "execute_result"
    }
   ],
   "source": [
    "your_data.LIMIT_NUM.value_counts(10)"
   ]
  },
  {
   "cell_type": "markdown",
   "metadata": {},
   "source": [
    "### Transformation 4"
   ]
  },
  {
   "cell_type": "markdown",
   "metadata": {},
   "source": [
    "**PREPREOCESSING (SEX)**: This is a qualitative attribute. The value of the current column is non-numeric and cannot be used in the kmeans clustering section"
   ]
  },
  {
   "cell_type": "code",
   "execution_count": 39,
   "metadata": {},
   "outputs": [],
   "source": [
    "your_data.SEX = your_data.SEX.replace(to_replace=['F', 'M'], value=[0, 1])"
   ]
  },
  {
   "cell_type": "code",
   "execution_count": 40,
   "metadata": {},
   "outputs": [
    {
     "data": {
      "text/html": [
       "<div>\n",
       "<style scoped>\n",
       "    .dataframe tbody tr th:only-of-type {\n",
       "        vertical-align: middle;\n",
       "    }\n",
       "\n",
       "    .dataframe tbody tr th {\n",
       "        vertical-align: top;\n",
       "    }\n",
       "\n",
       "    .dataframe thead th {\n",
       "        text-align: right;\n",
       "    }\n",
       "</style>\n",
       "<table border=\"1\" class=\"dataframe\">\n",
       "  <thead>\n",
       "    <tr style=\"text-align: right;\">\n",
       "      <th></th>\n",
       "      <th>ID</th>\n",
       "      <th>LIMIT</th>\n",
       "      <th>SEX</th>\n",
       "      <th>EDUCATION</th>\n",
       "      <th>MARITAL</th>\n",
       "      <th>AGE</th>\n",
       "      <th>STATUS2</th>\n",
       "      <th>STATUS3</th>\n",
       "      <th>STATUS4</th>\n",
       "      <th>STATUS5</th>\n",
       "      <th>...</th>\n",
       "      <th>PAY1</th>\n",
       "      <th>PAY2</th>\n",
       "      <th>PAY3</th>\n",
       "      <th>PAY4</th>\n",
       "      <th>PAY5</th>\n",
       "      <th>PAY6</th>\n",
       "      <th>DEFAULT</th>\n",
       "      <th>LIMIT_GROUP</th>\n",
       "      <th>AGE_GROUP</th>\n",
       "      <th>LIMIT_NUM</th>\n",
       "    </tr>\n",
       "  </thead>\n",
       "  <tbody>\n",
       "    <tr>\n",
       "      <th>2050</th>\n",
       "      <td>2051.0</td>\n",
       "      <td>30000.0</td>\n",
       "      <td>1</td>\n",
       "      <td>2.0</td>\n",
       "      <td>1.0</td>\n",
       "      <td>47.0</td>\n",
       "      <td>1.0</td>\n",
       "      <td>2.0</td>\n",
       "      <td>0.0</td>\n",
       "      <td>0.0</td>\n",
       "      <td>...</td>\n",
       "      <td>0.0</td>\n",
       "      <td>1253.0</td>\n",
       "      <td>1400.0</td>\n",
       "      <td>0.0</td>\n",
       "      <td>1500.0</td>\n",
       "      <td>0.0</td>\n",
       "      <td>0.0</td>\n",
       "      <td>[0, 50000)</td>\n",
       "      <td>[45, 50)</td>\n",
       "      <td>0</td>\n",
       "    </tr>\n",
       "    <tr>\n",
       "      <th>2051</th>\n",
       "      <td>2052.0</td>\n",
       "      <td>50000.0</td>\n",
       "      <td>1</td>\n",
       "      <td>3.0</td>\n",
       "      <td>2.0</td>\n",
       "      <td>27.0</td>\n",
       "      <td>2.0</td>\n",
       "      <td>2.0</td>\n",
       "      <td>2.0</td>\n",
       "      <td>2.0</td>\n",
       "      <td>...</td>\n",
       "      <td>1800.0</td>\n",
       "      <td>3900.0</td>\n",
       "      <td>300.0</td>\n",
       "      <td>3400.0</td>\n",
       "      <td>0.0</td>\n",
       "      <td>4000.0</td>\n",
       "      <td>0.0</td>\n",
       "      <td>[50000, 100000)</td>\n",
       "      <td>[25, 30)</td>\n",
       "      <td>1</td>\n",
       "    </tr>\n",
       "    <tr>\n",
       "      <th>2052</th>\n",
       "      <td>2053.0</td>\n",
       "      <td>140000.0</td>\n",
       "      <td>0</td>\n",
       "      <td>2.0</td>\n",
       "      <td>2.0</td>\n",
       "      <td>42.0</td>\n",
       "      <td>-1.0</td>\n",
       "      <td>-1.0</td>\n",
       "      <td>-1.0</td>\n",
       "      <td>0.0</td>\n",
       "      <td>...</td>\n",
       "      <td>395.0</td>\n",
       "      <td>1204.0</td>\n",
       "      <td>0.0</td>\n",
       "      <td>748.0</td>\n",
       "      <td>0.0</td>\n",
       "      <td>2688.0</td>\n",
       "      <td>0.0</td>\n",
       "      <td>[100000, 150000)</td>\n",
       "      <td>[40, 45)</td>\n",
       "      <td>2</td>\n",
       "    </tr>\n",
       "    <tr>\n",
       "      <th>2053</th>\n",
       "      <td>2054.0</td>\n",
       "      <td>140000.0</td>\n",
       "      <td>1</td>\n",
       "      <td>3.0</td>\n",
       "      <td>1.0</td>\n",
       "      <td>37.0</td>\n",
       "      <td>2.0</td>\n",
       "      <td>2.0</td>\n",
       "      <td>2.0</td>\n",
       "      <td>2.0</td>\n",
       "      <td>...</td>\n",
       "      <td>6400.0</td>\n",
       "      <td>5000.0</td>\n",
       "      <td>0.0</td>\n",
       "      <td>10800.0</td>\n",
       "      <td>0.0</td>\n",
       "      <td>5300.0</td>\n",
       "      <td>0.0</td>\n",
       "      <td>[100000, 150000)</td>\n",
       "      <td>[35, 40)</td>\n",
       "      <td>2</td>\n",
       "    </tr>\n",
       "    <tr>\n",
       "      <th>2054</th>\n",
       "      <td>2055.0</td>\n",
       "      <td>50000.0</td>\n",
       "      <td>1</td>\n",
       "      <td>2.0</td>\n",
       "      <td>1.0</td>\n",
       "      <td>55.0</td>\n",
       "      <td>0.0</td>\n",
       "      <td>0.0</td>\n",
       "      <td>0.0</td>\n",
       "      <td>0.0</td>\n",
       "      <td>...</td>\n",
       "      <td>2100.0</td>\n",
       "      <td>1305.0</td>\n",
       "      <td>1201.0</td>\n",
       "      <td>663.0</td>\n",
       "      <td>684.0</td>\n",
       "      <td>652.0</td>\n",
       "      <td>0.0</td>\n",
       "      <td>[50000, 100000)</td>\n",
       "      <td>[55, 60)</td>\n",
       "      <td>1</td>\n",
       "    </tr>\n",
       "  </tbody>\n",
       "</table>\n",
       "<p>5 rows × 28 columns</p>\n",
       "</div>"
      ],
      "text/plain": [
       "          ID     LIMIT  SEX  EDUCATION  MARITAL   AGE  STATUS2  STATUS3  \\\n",
       "2050  2051.0   30000.0    1        2.0      1.0  47.0      1.0      2.0   \n",
       "2051  2052.0   50000.0    1        3.0      2.0  27.0      2.0      2.0   \n",
       "2052  2053.0  140000.0    0        2.0      2.0  42.0     -1.0     -1.0   \n",
       "2053  2054.0  140000.0    1        3.0      1.0  37.0      2.0      2.0   \n",
       "2054  2055.0   50000.0    1        2.0      1.0  55.0      0.0      0.0   \n",
       "\n",
       "      STATUS4  STATUS5  ...    PAY1    PAY2    PAY3     PAY4    PAY5    PAY6  \\\n",
       "2050      0.0      0.0  ...     0.0  1253.0  1400.0      0.0  1500.0     0.0   \n",
       "2051      2.0      2.0  ...  1800.0  3900.0   300.0   3400.0     0.0  4000.0   \n",
       "2052     -1.0      0.0  ...   395.0  1204.0     0.0    748.0     0.0  2688.0   \n",
       "2053      2.0      2.0  ...  6400.0  5000.0     0.0  10800.0     0.0  5300.0   \n",
       "2054      0.0      0.0  ...  2100.0  1305.0  1201.0    663.0   684.0   652.0   \n",
       "\n",
       "      DEFAULT       LIMIT_GROUP  AGE_GROUP  LIMIT_NUM  \n",
       "2050      0.0        [0, 50000)   [45, 50)          0  \n",
       "2051      0.0   [50000, 100000)   [25, 30)          1  \n",
       "2052      0.0  [100000, 150000)   [40, 45)          2  \n",
       "2053      0.0  [100000, 150000)   [35, 40)          2  \n",
       "2054      0.0   [50000, 100000)   [55, 60)          1  \n",
       "\n",
       "[5 rows x 28 columns]"
      ]
     },
     "execution_count": 40,
     "metadata": {},
     "output_type": "execute_result"
    }
   ],
   "source": [
    "your_data.head()"
   ]
  },
  {
   "cell_type": "markdown",
   "metadata": {},
   "source": [
    "## <font color= grey> Correlation Analysis"
   ]
  },
  {
   "cell_type": "markdown",
   "metadata": {},
   "source": [
    "I started with an overall analysis of the entire dataframe, and subsequently identified the key areas to focus on by checking on the hue and value of the cells. \n",
    "\n",
    "The correlation matrix indicates that the customer's STATUS are most correlated with the customer's default risk. The data also suggests that the STATUS has a higher statistic significance in predicting future payment trends compared to the user's profile i.e. age, marital status, gender. \n",
    "\n",
    "However, this information alone may not be useful for predicting new clients, as they do not have a payment history with the bank. From my personal experience, a client's profile and income typically forms the basis for predicting a client's credibility. Therefore, the LIMIT, EDUCATION, MARITAL and AGE columns should also be considered for testing. "
   ]
  },
  {
   "cell_type": "code",
   "execution_count": 41,
   "metadata": {
    "scrolled": true
   },
   "outputs": [
    {
     "data": {
      "text/html": [
       "<style  type=\"text/css\" >\n",
       "#T_8c381_row0_col0,#T_8c381_row1_col1,#T_8c381_row2_col2,#T_8c381_row3_col3,#T_8c381_row4_col4,#T_8c381_row5_col5,#T_8c381_row6_col6,#T_8c381_row7_col7,#T_8c381_row8_col8,#T_8c381_row9_col9,#T_8c381_row10_col10,#T_8c381_row11_col11,#T_8c381_row12_col12,#T_8c381_row13_col13,#T_8c381_row14_col14,#T_8c381_row15_col15,#T_8c381_row16_col16,#T_8c381_row17_col17,#T_8c381_row18_col18,#T_8c381_row19_col19,#T_8c381_row20_col20,#T_8c381_row21_col21,#T_8c381_row22_col22,#T_8c381_row23_col23,#T_8c381_row24_col24,#T_8c381_row25_col25{\n",
       "            background-color:  #08306b;\n",
       "            color:  #f1f1f1;\n",
       "        }#T_8c381_row0_col1,#T_8c381_row0_col25,#T_8c381_row2_col10,#T_8c381_row3_col4,#T_8c381_row20_col23,#T_8c381_row21_col14,#T_8c381_row22_col12,#T_8c381_row22_col15{\n",
       "            background-color:  #d0e1f2;\n",
       "            color:  #000000;\n",
       "        }#T_8c381_row0_col2,#T_8c381_row10_col25,#T_8c381_row11_col1,#T_8c381_row19_col2,#T_8c381_row20_col0,#T_8c381_row22_col0,#T_8c381_row23_col2,#T_8c381_row24_col16{\n",
       "            background-color:  #f2f7fd;\n",
       "            color:  #000000;\n",
       "        }#T_8c381_row0_col3,#T_8c381_row2_col6,#T_8c381_row2_col11,#T_8c381_row9_col16,#T_8c381_row10_col16,#T_8c381_row12_col3,#T_8c381_row13_col3,#T_8c381_row19_col17,#T_8c381_row20_col14,#T_8c381_row23_col13,#T_8c381_row23_col14{\n",
       "            background-color:  #d1e2f3;\n",
       "            color:  #000000;\n",
       "        }#T_8c381_row0_col4,#T_8c381_row1_col16,#T_8c381_row1_col18,#T_8c381_row1_col21,#T_8c381_row1_col22,#T_8c381_row6_col4,#T_8c381_row7_col3,#T_8c381_row11_col24,#T_8c381_row14_col9,#T_8c381_row20_col21,#T_8c381_row22_col4,#T_8c381_row25_col18,#T_8c381_row25_col21{\n",
       "            background-color:  #b7d4ea;\n",
       "            color:  #000000;\n",
       "        }#T_8c381_row0_col5,#T_8c381_row3_col7,#T_8c381_row6_col3,#T_8c381_row8_col3,#T_8c381_row13_col9,#T_8c381_row14_col8,#T_8c381_row18_col23{\n",
       "            background-color:  #b9d6ea;\n",
       "            color:  #000000;\n",
       "        }#T_8c381_row0_col6,#T_8c381_row5_col7,#T_8c381_row5_col8,#T_8c381_row6_col17,#T_8c381_row8_col13,#T_8c381_row9_col13,#T_8c381_row11_col14,#T_8c381_row18_col8,#T_8c381_row21_col15,#T_8c381_row22_col8{\n",
       "            background-color:  #d8e7f5;\n",
       "            color:  #000000;\n",
       "        }#T_8c381_row0_col7,#T_8c381_row0_col8,#T_8c381_row0_col11,#T_8c381_row4_col10,#T_8c381_row7_col16,#T_8c381_row9_col15,#T_8c381_row10_col17,#T_8c381_row11_col15,#T_8c381_row14_col3,#T_8c381_row17_col3,#T_8c381_row22_col16{\n",
       "            background-color:  #d2e3f3;\n",
       "            color:  #000000;\n",
       "        }#T_8c381_row0_col9,#T_8c381_row2_col1,#T_8c381_row7_col12,#T_8c381_row7_col13,#T_8c381_row7_col14,#T_8c381_row7_col17,#T_8c381_row9_col14,#T_8c381_row19_col23,#T_8c381_row20_col12,#T_8c381_row20_col13,#T_8c381_row21_col3,#T_8c381_row23_col16{\n",
       "            background-color:  #d4e4f4;\n",
       "            color:  #000000;\n",
       "        }#T_8c381_row0_col10,#T_8c381_row17_col23,#T_8c381_row18_col12{\n",
       "            background-color:  #d5e5f4;\n",
       "            color:  #000000;\n",
       "        }#T_8c381_row0_col12,#T_8c381_row0_col13,#T_8c381_row0_col14,#T_8c381_row3_col17,#T_8c381_row6_col23,#T_8c381_row10_col23,#T_8c381_row18_col0,#T_8c381_row19_col0,#T_8c381_row24_col13,#T_8c381_row24_col23{\n",
       "            background-color:  #f5f9fe;\n",
       "            color:  #000000;\n",
       "        }#T_8c381_row0_col15,#T_8c381_row0_col17,#T_8c381_row3_col14,#T_8c381_row3_col16,#T_8c381_row5_col0,#T_8c381_row7_col0,#T_8c381_row7_col23,#T_8c381_row8_col23,#T_8c381_row9_col0,#T_8c381_row23_col0,#T_8c381_row24_col0,#T_8c381_row24_col14{\n",
       "            background-color:  #f4f9fe;\n",
       "            color:  #000000;\n",
       "        }#T_8c381_row0_col16,#T_8c381_row1_col0,#T_8c381_row2_col0,#T_8c381_row3_col12,#T_8c381_row3_col13,#T_8c381_row4_col0,#T_8c381_row9_col25,#T_8c381_row10_col0,#T_8c381_row21_col2,#T_8c381_row24_col17,#T_8c381_row25_col0{\n",
       "            background-color:  #f3f8fe;\n",
       "            color:  #000000;\n",
       "        }#T_8c381_row0_col18,#T_8c381_row0_col24,#T_8c381_row5_col24,#T_8c381_row17_col24{\n",
       "            background-color:  #e1edf8;\n",
       "            color:  #000000;\n",
       "        }#T_8c381_row0_col19,#T_8c381_row12_col24,#T_8c381_row19_col13{\n",
       "            background-color:  #e4eff9;\n",
       "            color:  #000000;\n",
       "        }#T_8c381_row0_col20,#T_8c381_row0_col21,#T_8c381_row0_col22,#T_8c381_row19_col6,#T_8c381_row22_col10{\n",
       "            background-color:  #dfebf7;\n",
       "            color:  #000000;\n",
       "        }#T_8c381_row0_col23,#T_8c381_row5_col17,#T_8c381_row7_col21,#T_8c381_row8_col2,#T_8c381_row8_col21,#T_8c381_row9_col2,#T_8c381_row9_col22,#T_8c381_row11_col18,#T_8c381_row19_col24,#T_8c381_row24_col20{\n",
       "            background-color:  #eaf3fb;\n",
       "            color:  #000000;\n",
       "        }#T_8c381_row1_col2,#T_8c381_row1_col3,#T_8c381_row1_col6,#T_8c381_row1_col7,#T_8c381_row1_col8,#T_8c381_row1_col9,#T_8c381_row1_col10,#T_8c381_row1_col11,#T_8c381_row1_col24,#T_8c381_row3_col1,#T_8c381_row3_col25,#T_8c381_row4_col5,#T_8c381_row4_col12,#T_8c381_row4_col13,#T_8c381_row4_col14,#T_8c381_row4_col15,#T_8c381_row4_col16,#T_8c381_row4_col17,#T_8c381_row5_col4,#T_8c381_row7_col18,#T_8c381_row8_col19,#T_8c381_row9_col20,#T_8c381_row10_col21,#T_8c381_row11_col22,#T_8c381_row11_col23,#T_8c381_row14_col0,#T_8c381_row25_col3,#T_8c381_row25_col6,#T_8c381_row25_col7,#T_8c381_row25_col8,#T_8c381_row25_col9,#T_8c381_row25_col10,#T_8c381_row25_col11,#T_8c381_row25_col24{\n",
       "            background-color:  #f7fbff;\n",
       "            color:  #000000;\n",
       "        }#T_8c381_row1_col4,#T_8c381_row2_col9,#T_8c381_row15_col23,#T_8c381_row18_col19,#T_8c381_row25_col4{\n",
       "            background-color:  #cde0f1;\n",
       "            color:  #000000;\n",
       "        }#T_8c381_row1_col5,#T_8c381_row13_col25,#T_8c381_row17_col22,#T_8c381_row24_col8{\n",
       "            background-color:  #94c4df;\n",
       "            color:  #000000;\n",
       "        }#T_8c381_row1_col12,#T_8c381_row1_col23,#T_8c381_row14_col10,#T_8c381_row23_col4,#T_8c381_row25_col14,#T_8c381_row25_col16{\n",
       "            background-color:  #bad6eb;\n",
       "            color:  #000000;\n",
       "        }#T_8c381_row1_col13,#T_8c381_row1_col17,#T_8c381_row3_col8,#T_8c381_row12_col8,#T_8c381_row14_col11,#T_8c381_row16_col6,#T_8c381_row20_col4,#T_8c381_row25_col23{\n",
       "            background-color:  #bcd7eb;\n",
       "            color:  #000000;\n",
       "        }#T_8c381_row1_col14,#T_8c381_row17_col18,#T_8c381_row21_col20,#T_8c381_row24_col5,#T_8c381_row25_col15,#T_8c381_row25_col22{\n",
       "            background-color:  #b8d5ea;\n",
       "            color:  #000000;\n",
       "        }#T_8c381_row1_col15,#T_8c381_row13_col8{\n",
       "            background-color:  #b5d4e9;\n",
       "            color:  #000000;\n",
       "        }#T_8c381_row1_col19,#T_8c381_row7_col5,#T_8c381_row8_col5,#T_8c381_row10_col5,#T_8c381_row12_col10,#T_8c381_row12_col11,#T_8c381_row18_col14,#T_8c381_row18_col22,#T_8c381_row21_col22,#T_8c381_row22_col20,#T_8c381_row25_col19{\n",
       "            background-color:  #c2d9ee;\n",
       "            color:  #000000;\n",
       "        }#T_8c381_row1_col20,#T_8c381_row10_col24,#T_8c381_row12_col7,#T_8c381_row13_col7,#T_8c381_row15_col7,#T_8c381_row16_col20,#T_8c381_row17_col7,#T_8c381_row18_col5,#T_8c381_row18_col13,#T_8c381_row20_col15,#T_8c381_row22_col5,#T_8c381_row25_col20{\n",
       "            background-color:  #b0d2e7;\n",
       "            color:  #000000;\n",
       "        }#T_8c381_row1_col25,#T_8c381_row25_col1{\n",
       "            background-color:  #08316d;\n",
       "            color:  #f1f1f1;\n",
       "        }#T_8c381_row2_col3,#T_8c381_row4_col7,#T_8c381_row16_col23,#T_8c381_row23_col19{\n",
       "            background-color:  #cfe1f2;\n",
       "            color:  #000000;\n",
       "        }#T_8c381_row2_col4,#T_8c381_row11_col4,#T_8c381_row14_col7,#T_8c381_row14_col22,#T_8c381_row15_col9,#T_8c381_row15_col10,#T_8c381_row16_col9,#T_8c381_row16_col18,#T_8c381_row17_col9,#T_8c381_row21_col16{\n",
       "            background-color:  #b2d2e8;\n",
       "            color:  #000000;\n",
       "        }#T_8c381_row2_col5,#T_8c381_row7_col24{\n",
       "            background-color:  #a4cce3;\n",
       "            color:  #000000;\n",
       "        }#T_8c381_row2_col7,#T_8c381_row2_col8,#T_8c381_row13_col23,#T_8c381_row19_col15{\n",
       "            background-color:  #cbdef1;\n",
       "            color:  #000000;\n",
       "        }#T_8c381_row2_col12,#T_8c381_row2_col13,#T_8c381_row3_col19,#T_8c381_row6_col2,#T_8c381_row6_col21,#T_8c381_row10_col2,#T_8c381_row10_col22,#T_8c381_row11_col19,#T_8c381_row12_col2,#T_8c381_row20_col24,#T_8c381_row21_col10,#T_8c381_row21_col24,#T_8c381_row23_col24,#T_8c381_row24_col2{\n",
       "            background-color:  #ebf3fb;\n",
       "            color:  #000000;\n",
       "        }#T_8c381_row2_col14,#T_8c381_row4_col2,#T_8c381_row6_col19,#T_8c381_row9_col21,#T_8c381_row24_col18{\n",
       "            background-color:  #edf4fc;\n",
       "            color:  #000000;\n",
       "        }#T_8c381_row2_col15,#T_8c381_row2_col16,#T_8c381_row6_col20,#T_8c381_row7_col19,#T_8c381_row7_col20,#T_8c381_row8_col20,#T_8c381_row11_col2,#T_8c381_row14_col2,#T_8c381_row18_col24,#T_8c381_row24_col19{\n",
       "            background-color:  #eef5fc;\n",
       "            color:  #000000;\n",
       "        }#T_8c381_row2_col17,#T_8c381_row11_col0,#T_8c381_row17_col2,#T_8c381_row20_col2{\n",
       "            background-color:  #f0f6fd;\n",
       "            color:  #000000;\n",
       "        }#T_8c381_row2_col18,#T_8c381_row2_col20,#T_8c381_row18_col10,#T_8c381_row18_col11,#T_8c381_row20_col7,#T_8c381_row23_col10{\n",
       "            background-color:  #deebf7;\n",
       "            color:  #000000;\n",
       "        }#T_8c381_row2_col19,#T_8c381_row19_col12,#T_8c381_row20_col6{\n",
       "            background-color:  #e3eef8;\n",
       "            color:  #000000;\n",
       "        }#T_8c381_row2_col21,#T_8c381_row2_col22,#T_8c381_row4_col22,#T_8c381_row21_col9{\n",
       "            background-color:  #e0ecf8;\n",
       "            color:  #000000;\n",
       "        }#T_8c381_row2_col23,#T_8c381_row5_col16,#T_8c381_row8_col22,#T_8c381_row9_col18,#T_8c381_row10_col19,#T_8c381_row20_col9,#T_8c381_row22_col11{\n",
       "            background-color:  #e9f2fa;\n",
       "            color:  #000000;\n",
       "        }#T_8c381_row2_col24,#T_8c381_row5_col6,#T_8c381_row5_col9,#T_8c381_row5_col18,#T_8c381_row5_col20,#T_8c381_row10_col13,#T_8c381_row20_col10,#T_8c381_row21_col11{\n",
       "            background-color:  #dae8f6;\n",
       "            color:  #000000;\n",
       "        }#T_8c381_row2_col25,#T_8c381_row7_col15,#T_8c381_row15_col3,#T_8c381_row21_col12,#T_8c381_row23_col12,#T_8c381_row23_col15{\n",
       "            background-color:  #d3e4f3;\n",
       "            color:  #000000;\n",
       "        }#T_8c381_row3_col0,#T_8c381_row3_col15,#T_8c381_row6_col0,#T_8c381_row7_col1,#T_8c381_row7_col25,#T_8c381_row8_col0,#T_8c381_row17_col0{\n",
       "            background-color:  #f5fafe;\n",
       "            color:  #000000;\n",
       "        }#T_8c381_row3_col2,#T_8c381_row6_col18,#T_8c381_row10_col1,#T_8c381_row16_col2,#T_8c381_row18_col2{\n",
       "            background-color:  #f1f7fd;\n",
       "            color:  #000000;\n",
       "        }#T_8c381_row3_col5,#T_8c381_row15_col1,#T_8c381_row24_col6{\n",
       "            background-color:  #8abfdd;\n",
       "            color:  #000000;\n",
       "        }#T_8c381_row3_col6,#T_8c381_row11_col5,#T_8c381_row12_col21,#T_8c381_row13_col21,#T_8c381_row14_col20,#T_8c381_row20_col22{\n",
       "            background-color:  #c3daee;\n",
       "            color:  #000000;\n",
       "        }#T_8c381_row3_col9,#T_8c381_row16_col22,#T_8c381_row17_col19,#T_8c381_row18_col15,#T_8c381_row20_col16,#T_8c381_row20_col19{\n",
       "            background-color:  #c4daee;\n",
       "            color:  #000000;\n",
       "        }#T_8c381_row3_col10{\n",
       "            background-color:  #c8dcf0;\n",
       "            color:  #000000;\n",
       "        }#T_8c381_row3_col11,#T_8c381_row23_col20{\n",
       "            background-color:  #c7dcef;\n",
       "            color:  #000000;\n",
       "        }#T_8c381_row3_col18,#T_8c381_row3_col22,#T_8c381_row4_col19,#T_8c381_row5_col12,#T_8c381_row5_col13,#T_8c381_row5_col14,#T_8c381_row11_col20{\n",
       "            background-color:  #e8f1fa;\n",
       "            color:  #000000;\n",
       "        }#T_8c381_row3_col20,#T_8c381_row4_col23,#T_8c381_row13_col2{\n",
       "            background-color:  #ecf4fb;\n",
       "            color:  #000000;\n",
       "        }#T_8c381_row3_col21,#T_8c381_row4_col3{\n",
       "            background-color:  #e5eff9;\n",
       "            color:  #000000;\n",
       "        }#T_8c381_row3_col23,#T_8c381_row8_col1,#T_8c381_row8_col25,#T_8c381_row12_col0,#T_8c381_row13_col0,#T_8c381_row15_col0,#T_8c381_row16_col0,#T_8c381_row24_col12,#T_8c381_row25_col2{\n",
       "            background-color:  #f6faff;\n",
       "            color:  #000000;\n",
       "        }#T_8c381_row3_col24,#T_8c381_row5_col21,#T_8c381_row8_col14,#T_8c381_row19_col9,#T_8c381_row19_col10,#T_8c381_row20_col3,#T_8c381_row23_col3,#T_8c381_row23_col7,#T_8c381_row23_col8{\n",
       "            background-color:  #d9e8f5;\n",
       "            color:  #000000;\n",
       "        }#T_8c381_row4_col1,#T_8c381_row4_col25,#T_8c381_row5_col2,#T_8c381_row15_col24,#T_8c381_row16_col24,#T_8c381_row19_col8,#T_8c381_row21_col6{\n",
       "            background-color:  #e2edf8;\n",
       "            color:  #000000;\n",
       "        }#T_8c381_row4_col6,#T_8c381_row6_col16,#T_8c381_row8_col16,#T_8c381_row12_col19{\n",
       "            background-color:  #d6e5f4;\n",
       "            color:  #000000;\n",
       "        }#T_8c381_row4_col8,#T_8c381_row11_col16,#T_8c381_row21_col23{\n",
       "            background-color:  #cee0f2;\n",
       "            color:  #000000;\n",
       "        }#T_8c381_row4_col9,#T_8c381_row4_col11,#T_8c381_row10_col15,#T_8c381_row11_col17,#T_8c381_row19_col16,#T_8c381_row22_col13{\n",
       "            background-color:  #d0e2f2;\n",
       "            color:  #000000;\n",
       "        }#T_8c381_row4_col18{\n",
       "            background-color:  #e6f0f9;\n",
       "            color:  #000000;\n",
       "        }#T_8c381_row4_col20,#T_8c381_row4_col21,#T_8c381_row13_col24,#T_8c381_row14_col24,#T_8c381_row24_col1,#T_8c381_row24_col25{\n",
       "            background-color:  #e3eef9;\n",
       "            color:  #000000;\n",
       "        }#T_8c381_row4_col24,#T_8c381_row6_col22,#T_8c381_row8_col18{\n",
       "            background-color:  #e7f1fa;\n",
       "            color:  #000000;\n",
       "        }#T_8c381_row5_col1,#T_8c381_row5_col25,#T_8c381_row15_col5,#T_8c381_row15_col18,#T_8c381_row16_col5,#T_8c381_row16_col7,#T_8c381_row17_col5,#T_8c381_row17_col11,#T_8c381_row20_col5,#T_8c381_row21_col5{\n",
       "            background-color:  #afd1e7;\n",
       "            color:  #000000;\n",
       "        }#T_8c381_row5_col3,#T_8c381_row19_col1,#T_8c381_row19_col25{\n",
       "            background-color:  #a8cee4;\n",
       "            color:  #000000;\n",
       "        }#T_8c381_row5_col10,#T_8c381_row5_col11,#T_8c381_row8_col12,#T_8c381_row10_col12,#T_8c381_row22_col9{\n",
       "            background-color:  #dceaf6;\n",
       "            color:  #000000;\n",
       "        }#T_8c381_row5_col15,#T_8c381_row7_col2,#T_8c381_row9_col19,#T_8c381_row10_col18,#T_8c381_row22_col24,#T_8c381_row24_col21,#T_8c381_row24_col22{\n",
       "            background-color:  #eaf2fb;\n",
       "            color:  #000000;\n",
       "        }#T_8c381_row5_col19,#T_8c381_row23_col6,#T_8c381_row23_col11{\n",
       "            background-color:  #dfecf7;\n",
       "            color:  #000000;\n",
       "        }#T_8c381_row5_col22,#T_8c381_row9_col12,#T_8c381_row11_col13,#T_8c381_row19_col7,#T_8c381_row19_col11,#T_8c381_row20_col11,#T_8c381_row21_col7,#T_8c381_row21_col8,#T_8c381_row23_col9{\n",
       "            background-color:  #dbe9f6;\n",
       "            color:  #000000;\n",
       "        }#T_8c381_row5_col23,#T_8c381_row7_col22,#T_8c381_row10_col20,#T_8c381_row11_col21,#T_8c381_row18_col6,#T_8c381_row18_col7{\n",
       "            background-color:  #e7f0fa;\n",
       "            color:  #000000;\n",
       "        }#T_8c381_row6_col1,#T_8c381_row6_col25,#T_8c381_row15_col2{\n",
       "            background-color:  #eff6fc;\n",
       "            color:  #000000;\n",
       "        }#T_8c381_row6_col5,#T_8c381_row12_col9,#T_8c381_row13_col6,#T_8c381_row15_col6,#T_8c381_row17_col4,#T_8c381_row17_col6,#T_8c381_row18_col21,#T_8c381_row19_col4,#T_8c381_row20_col18,#T_8c381_row21_col4,#T_8c381_row21_col18,#T_8c381_row25_col12{\n",
       "            background-color:  #bdd7ec;\n",
       "            color:  #000000;\n",
       "        }#T_8c381_row6_col7,#T_8c381_row8_col9{\n",
       "            background-color:  #1f6eb3;\n",
       "            color:  #f1f1f1;\n",
       "        }#T_8c381_row6_col8{\n",
       "            background-color:  #4090c5;\n",
       "            color:  #000000;\n",
       "        }#T_8c381_row6_col9{\n",
       "            background-color:  #4d99ca;\n",
       "            color:  #000000;\n",
       "        }#T_8c381_row6_col10,#T_8c381_row7_col11{\n",
       "            background-color:  #58a1cf;\n",
       "            color:  #000000;\n",
       "        }#T_8c381_row6_col11{\n",
       "            background-color:  #65aad4;\n",
       "            color:  #000000;\n",
       "        }#T_8c381_row6_col12{\n",
       "            background-color:  #d9e7f5;\n",
       "            color:  #000000;\n",
       "        }#T_8c381_row6_col13,#T_8c381_row6_col14,#T_8c381_row8_col17,#T_8c381_row13_col19,#T_8c381_row18_col3,#T_8c381_row22_col7{\n",
       "            background-color:  #d7e6f5;\n",
       "            color:  #000000;\n",
       "        }#T_8c381_row6_col15,#T_8c381_row8_col15,#T_8c381_row10_col14,#T_8c381_row19_col3,#T_8c381_row22_col3{\n",
       "            background-color:  #d6e6f4;\n",
       "            color:  #000000;\n",
       "        }#T_8c381_row6_col24,#T_8c381_row20_col1,#T_8c381_row23_col25{\n",
       "            background-color:  #9ac8e0;\n",
       "            color:  #000000;\n",
       "        }#T_8c381_row7_col4,#T_8c381_row8_col4,#T_8c381_row10_col4,#T_8c381_row15_col8,#T_8c381_row16_col8,#T_8c381_row17_col8,#T_8c381_row17_col20{\n",
       "            background-color:  #b4d3e9;\n",
       "            color:  #000000;\n",
       "        }#T_8c381_row7_col6{\n",
       "            background-color:  #2070b4;\n",
       "            color:  #f1f1f1;\n",
       "        }#T_8c381_row7_col8,#T_8c381_row8_col7{\n",
       "            background-color:  #2474b7;\n",
       "            color:  #f1f1f1;\n",
       "        }#T_8c381_row7_col9{\n",
       "            background-color:  #3c8cc3;\n",
       "            color:  #000000;\n",
       "        }#T_8c381_row7_col10,#T_8c381_row8_col11{\n",
       "            background-color:  #4896c8;\n",
       "            color:  #000000;\n",
       "        }#T_8c381_row8_col6,#T_8c381_row10_col7,#T_8c381_row11_col8{\n",
       "            background-color:  #4594c7;\n",
       "            color:  #000000;\n",
       "        }#T_8c381_row8_col10{\n",
       "            background-color:  #3888c1;\n",
       "            color:  #000000;\n",
       "        }#T_8c381_row8_col24,#T_8c381_row17_col21,#T_8c381_row19_col22{\n",
       "            background-color:  #aacfe5;\n",
       "            color:  #000000;\n",
       "        }#T_8c381_row9_col1,#T_8c381_row9_col23,#T_8c381_row11_col25,#T_8c381_row21_col0,#T_8c381_row22_col2,#T_8c381_row24_col15{\n",
       "            background-color:  #f2f8fd;\n",
       "            color:  #000000;\n",
       "        }#T_8c381_row9_col3,#T_8c381_row12_col22,#T_8c381_row13_col10,#T_8c381_row13_col11,#T_8c381_row14_col4,#T_8c381_row14_col21,#T_8c381_row15_col4,#T_8c381_row16_col4,#T_8c381_row18_col4,#T_8c381_row24_col4{\n",
       "            background-color:  #bfd8ed;\n",
       "            color:  #000000;\n",
       "        }#T_8c381_row9_col4,#T_8c381_row15_col11,#T_8c381_row16_col10,#T_8c381_row17_col10,#T_8c381_row19_col5,#T_8c381_row23_col5{\n",
       "            background-color:  #b3d3e8;\n",
       "            color:  #000000;\n",
       "        }#T_8c381_row9_col5,#T_8c381_row10_col3,#T_8c381_row11_col3,#T_8c381_row13_col22,#T_8c381_row15_col22,#T_8c381_row19_col20,#T_8c381_row21_col17,#T_8c381_row22_col18,#T_8c381_row22_col21,#T_8c381_row23_col22{\n",
       "            background-color:  #c1d9ed;\n",
       "            color:  #000000;\n",
       "        }#T_8c381_row9_col6{\n",
       "            background-color:  #4f9bcb;\n",
       "            color:  #000000;\n",
       "        }#T_8c381_row9_col7{\n",
       "            background-color:  #3a8ac2;\n",
       "            color:  #000000;\n",
       "        }#T_8c381_row9_col8{\n",
       "            background-color:  #1e6db2;\n",
       "            color:  #f1f1f1;\n",
       "        }#T_8c381_row9_col10,#T_8c381_row10_col9{\n",
       "            background-color:  #1967ad;\n",
       "            color:  #f1f1f1;\n",
       "        }#T_8c381_row9_col11{\n",
       "            background-color:  #3585bf;\n",
       "            color:  #000000;\n",
       "        }#T_8c381_row9_col17,#T_8c381_row16_col3,#T_8c381_row21_col13{\n",
       "            background-color:  #d3e3f3;\n",
       "            color:  #000000;\n",
       "        }#T_8c381_row9_col24,#T_8c381_row14_col5,#T_8c381_row14_col18,#T_8c381_row16_col11,#T_8c381_row22_col19{\n",
       "            background-color:  #aed1e7;\n",
       "            color:  #000000;\n",
       "        }#T_8c381_row10_col6{\n",
       "            background-color:  #5ba3d0;\n",
       "            color:  #000000;\n",
       "        }#T_8c381_row10_col8{\n",
       "            background-color:  #3686c0;\n",
       "            color:  #000000;\n",
       "        }#T_8c381_row10_col11,#T_8c381_row11_col10{\n",
       "            background-color:  #206fb4;\n",
       "            color:  #f1f1f1;\n",
       "        }#T_8c381_row11_col6{\n",
       "            background-color:  #68acd5;\n",
       "            color:  #000000;\n",
       "        }#T_8c381_row11_col7{\n",
       "            background-color:  #56a0ce;\n",
       "            color:  #000000;\n",
       "        }#T_8c381_row11_col9{\n",
       "            background-color:  #3484bf;\n",
       "            color:  #000000;\n",
       "        }#T_8c381_row11_col12,#T_8c381_row20_col8,#T_8c381_row22_col6{\n",
       "            background-color:  #ddeaf7;\n",
       "            color:  #000000;\n",
       "        }#T_8c381_row12_col1,#T_8c381_row14_col1,#T_8c381_row15_col25,#T_8c381_row24_col7{\n",
       "            background-color:  #8dc1dd;\n",
       "            color:  #000000;\n",
       "        }#T_8c381_row12_col4,#T_8c381_row12_col6,#T_8c381_row13_col4,#T_8c381_row14_col6,#T_8c381_row15_col19,#T_8c381_row18_col20,#T_8c381_row25_col13,#T_8c381_row25_col17{\n",
       "            background-color:  #bed8ec;\n",
       "            color:  #000000;\n",
       "        }#T_8c381_row12_col5,#T_8c381_row13_col5,#T_8c381_row23_col18{\n",
       "            background-color:  #add0e6;\n",
       "            color:  #000000;\n",
       "        }#T_8c381_row12_col13,#T_8c381_row13_col12{\n",
       "            background-color:  #083b7c;\n",
       "            color:  #f1f1f1;\n",
       "        }#T_8c381_row12_col14,#T_8c381_row14_col12{\n",
       "            background-color:  #08509b;\n",
       "            color:  #f1f1f1;\n",
       "        }#T_8c381_row12_col15,#T_8c381_row15_col12{\n",
       "            background-color:  #0b559f;\n",
       "            color:  #f1f1f1;\n",
       "        }#T_8c381_row12_col16,#T_8c381_row16_col12,#T_8c381_row17_col13{\n",
       "            background-color:  #0f5aa3;\n",
       "            color:  #f1f1f1;\n",
       "        }#T_8c381_row12_col17,#T_8c381_row17_col12{\n",
       "            background-color:  #1561a9;\n",
       "            color:  #f1f1f1;\n",
       "        }#T_8c381_row12_col18,#T_8c381_row12_col20,#T_8c381_row13_col20,#T_8c381_row16_col19,#T_8c381_row22_col14,#T_8c381_row23_col21{\n",
       "            background-color:  #c6dbef;\n",
       "            color:  #000000;\n",
       "        }#T_8c381_row12_col23{\n",
       "            background-color:  #cddff1;\n",
       "            color:  #000000;\n",
       "        }#T_8c381_row12_col25,#T_8c381_row13_col1,#T_8c381_row14_col25,#T_8c381_row16_col25,#T_8c381_row19_col14{\n",
       "            background-color:  #91c3de;\n",
       "            color:  #000000;\n",
       "        }#T_8c381_row13_col14,#T_8c381_row14_col13{\n",
       "            background-color:  #084990;\n",
       "            color:  #f1f1f1;\n",
       "        }#T_8c381_row13_col15,#T_8c381_row15_col13{\n",
       "            background-color:  #084e98;\n",
       "            color:  #f1f1f1;\n",
       "        }#T_8c381_row13_col16,#T_8c381_row16_col13{\n",
       "            background-color:  #0a539e;\n",
       "            color:  #f1f1f1;\n",
       "        }#T_8c381_row13_col17{\n",
       "            background-color:  #105ba4;\n",
       "            color:  #f1f1f1;\n",
       "        }#T_8c381_row13_col18,#T_8c381_row20_col25{\n",
       "            background-color:  #9cc9e1;\n",
       "            color:  #000000;\n",
       "        }#T_8c381_row14_col15,#T_8c381_row15_col14,#T_8c381_row15_col17,#T_8c381_row17_col15{\n",
       "            background-color:  #08478d;\n",
       "            color:  #f1f1f1;\n",
       "        }#T_8c381_row14_col16,#T_8c381_row16_col14{\n",
       "            background-color:  #084d96;\n",
       "            color:  #f1f1f1;\n",
       "        }#T_8c381_row14_col17,#T_8c381_row17_col14{\n",
       "            background-color:  #0a549e;\n",
       "            color:  #f1f1f1;\n",
       "        }#T_8c381_row14_col19{\n",
       "            background-color:  #81badb;\n",
       "            color:  #000000;\n",
       "        }#T_8c381_row14_col23,#T_8c381_row18_col17{\n",
       "            background-color:  #ccdff1;\n",
       "            color:  #000000;\n",
       "        }#T_8c381_row15_col16,#T_8c381_row16_col15,#T_8c381_row16_col17,#T_8c381_row17_col16{\n",
       "            background-color:  #083c7d;\n",
       "            color:  #f1f1f1;\n",
       "        }#T_8c381_row15_col20,#T_8c381_row24_col9{\n",
       "            background-color:  #9dcae1;\n",
       "            color:  #000000;\n",
       "        }#T_8c381_row15_col21,#T_8c381_row19_col18,#T_8c381_row20_col17,#T_8c381_row21_col19,#T_8c381_row24_col3{\n",
       "            background-color:  #caddf0;\n",
       "            color:  #000000;\n",
       "        }#T_8c381_row16_col1{\n",
       "            background-color:  #8cc0dd;\n",
       "            color:  #000000;\n",
       "        }#T_8c381_row16_col21{\n",
       "            background-color:  #9fcae1;\n",
       "            color:  #000000;\n",
       "        }#T_8c381_row17_col1{\n",
       "            background-color:  #8fc2de;\n",
       "            color:  #000000;\n",
       "        }#T_8c381_row17_col25,#T_8c381_row25_col5{\n",
       "            background-color:  #92c4de;\n",
       "            color:  #000000;\n",
       "        }#T_8c381_row18_col1,#T_8c381_row21_col1,#T_8c381_row22_col1,#T_8c381_row24_col10{\n",
       "            background-color:  #a1cbe2;\n",
       "            color:  #000000;\n",
       "        }#T_8c381_row18_col9,#T_8c381_row23_col17{\n",
       "            background-color:  #dce9f6;\n",
       "            color:  #000000;\n",
       "        }#T_8c381_row18_col16,#T_8c381_row19_col21{\n",
       "            background-color:  #c7dbef;\n",
       "            color:  #000000;\n",
       "        }#T_8c381_row18_col25,#T_8c381_row21_col25,#T_8c381_row22_col25{\n",
       "            background-color:  #a3cce3;\n",
       "            color:  #000000;\n",
       "        }#T_8c381_row22_col17{\n",
       "            background-color:  #a9cfe5;\n",
       "            color:  #000000;\n",
       "        }#T_8c381_row22_col23{\n",
       "            background-color:  #cadef0;\n",
       "            color:  #000000;\n",
       "        }#T_8c381_row23_col1{\n",
       "            background-color:  #99c7e0;\n",
       "            color:  #000000;\n",
       "        }#T_8c381_row24_col11{\n",
       "            background-color:  #a6cee4;\n",
       "            color:  #000000;\n",
       "        }</style><table id=\"T_8c381_\" ><thead>    <tr>        <th class=\"blank level0\" ></th>        <th class=\"col_heading level0 col0\" >ID</th>        <th class=\"col_heading level0 col1\" >LIMIT</th>        <th class=\"col_heading level0 col2\" >SEX</th>        <th class=\"col_heading level0 col3\" >EDUCATION</th>        <th class=\"col_heading level0 col4\" >MARITAL</th>        <th class=\"col_heading level0 col5\" >AGE</th>        <th class=\"col_heading level0 col6\" >STATUS2</th>        <th class=\"col_heading level0 col7\" >STATUS3</th>        <th class=\"col_heading level0 col8\" >STATUS4</th>        <th class=\"col_heading level0 col9\" >STATUS5</th>        <th class=\"col_heading level0 col10\" >STATUS6</th>        <th class=\"col_heading level0 col11\" >STATUS7</th>        <th class=\"col_heading level0 col12\" >BILL1</th>        <th class=\"col_heading level0 col13\" >BILL2</th>        <th class=\"col_heading level0 col14\" >BILL3</th>        <th class=\"col_heading level0 col15\" >BILL4</th>        <th class=\"col_heading level0 col16\" >BILL5</th>        <th class=\"col_heading level0 col17\" >BILL6</th>        <th class=\"col_heading level0 col18\" >PAY1</th>        <th class=\"col_heading level0 col19\" >PAY2</th>        <th class=\"col_heading level0 col20\" >PAY3</th>        <th class=\"col_heading level0 col21\" >PAY4</th>        <th class=\"col_heading level0 col22\" >PAY5</th>        <th class=\"col_heading level0 col23\" >PAY6</th>        <th class=\"col_heading level0 col24\" >DEFAULT</th>        <th class=\"col_heading level0 col25\" >LIMIT_NUM</th>    </tr></thead><tbody>\n",
       "                <tr>\n",
       "                        <th id=\"T_8c381_level0_row0\" class=\"row_heading level0 row0\" >ID</th>\n",
       "                        <td id=\"T_8c381_row0_col0\" class=\"data row0 col0\" >1.000000</td>\n",
       "                        <td id=\"T_8c381_row0_col1\" class=\"data row0 col1\" >0.001000</td>\n",
       "                        <td id=\"T_8c381_row0_col2\" class=\"data row0 col2\" >0.002759</td>\n",
       "                        <td id=\"T_8c381_row0_col3\" class=\"data row0 col3\" >-0.009802</td>\n",
       "                        <td id=\"T_8c381_row0_col4\" class=\"data row0 col4\" >0.001987</td>\n",
       "                        <td id=\"T_8c381_row0_col5\" class=\"data row0 col5\" >-0.004096</td>\n",
       "                        <td id=\"T_8c381_row0_col6\" class=\"data row0 col6\" >-0.008863</td>\n",
       "                        <td id=\"T_8c381_row0_col7\" class=\"data row0 col7\" >-0.002604</td>\n",
       "                        <td id=\"T_8c381_row0_col8\" class=\"data row0 col8\" >-0.008868</td>\n",
       "                        <td id=\"T_8c381_row0_col9\" class=\"data row0 col9\" >-0.003272</td>\n",
       "                        <td id=\"T_8c381_row0_col10\" class=\"data row0 col10\" >0.002577</td>\n",
       "                        <td id=\"T_8c381_row0_col11\" class=\"data row0 col11\" >0.016723</td>\n",
       "                        <td id=\"T_8c381_row0_col12\" class=\"data row0 col12\" >-0.013869</td>\n",
       "                        <td id=\"T_8c381_row0_col13\" class=\"data row0 col13\" >-0.015005</td>\n",
       "                        <td id=\"T_8c381_row0_col14\" class=\"data row0 col14\" >-0.020514</td>\n",
       "                        <td id=\"T_8c381_row0_col15\" class=\"data row0 col15\" >-0.013723</td>\n",
       "                        <td id=\"T_8c381_row0_col16\" class=\"data row0 col16\" >-0.012544</td>\n",
       "                        <td id=\"T_8c381_row0_col17\" class=\"data row0 col17\" >-0.008704</td>\n",
       "                        <td id=\"T_8c381_row0_col18\" class=\"data row0 col18\" >-0.006517</td>\n",
       "                        <td id=\"T_8c381_row0_col19\" class=\"data row0 col19\" >-0.005715</td>\n",
       "                        <td id=\"T_8c381_row0_col20\" class=\"data row0 col20\" >0.009245</td>\n",
       "                        <td id=\"T_8c381_row0_col21\" class=\"data row0 col21\" >0.003684</td>\n",
       "                        <td id=\"T_8c381_row0_col22\" class=\"data row0 col22\" >0.009573</td>\n",
       "                        <td id=\"T_8c381_row0_col23\" class=\"data row0 col23\" >-0.004188</td>\n",
       "                        <td id=\"T_8c381_row0_col24\" class=\"data row0 col24\" >-0.001374</td>\n",
       "                        <td id=\"T_8c381_row0_col25\" class=\"data row0 col25\" >0.000372</td>\n",
       "            </tr>\n",
       "            <tr>\n",
       "                        <th id=\"T_8c381_level0_row1\" class=\"row_heading level0 row1\" >LIMIT</th>\n",
       "                        <td id=\"T_8c381_row1_col0\" class=\"data row1 col0\" >0.001000</td>\n",
       "                        <td id=\"T_8c381_row1_col1\" class=\"data row1 col1\" >1.000000</td>\n",
       "                        <td id=\"T_8c381_row1_col2\" class=\"data row1 col2\" >-0.026835</td>\n",
       "                        <td id=\"T_8c381_row1_col3\" class=\"data row1 col3\" >-0.251411</td>\n",
       "                        <td id=\"T_8c381_row1_col4\" class=\"data row1 col4\" >-0.116890</td>\n",
       "                        <td id=\"T_8c381_row1_col5\" class=\"data row1 col5\" >0.149488</td>\n",
       "                        <td id=\"T_8c381_row1_col6\" class=\"data row1 col6\" >-0.198339</td>\n",
       "                        <td id=\"T_8c381_row1_col7\" class=\"data row1 col7\" >-0.238359</td>\n",
       "                        <td id=\"T_8c381_row1_col8\" class=\"data row1 col8\" >-0.241762</td>\n",
       "                        <td id=\"T_8c381_row1_col9\" class=\"data row1 col9\" >-0.218923</td>\n",
       "                        <td id=\"T_8c381_row1_col10\" class=\"data row1 col10\" >-0.209039</td>\n",
       "                        <td id=\"T_8c381_row1_col11\" class=\"data row1 col11\" >-0.215116</td>\n",
       "                        <td id=\"T_8c381_row1_col12\" class=\"data row1 col12\" >0.267938</td>\n",
       "                        <td id=\"T_8c381_row1_col13\" class=\"data row1 col13\" >0.260974</td>\n",
       "                        <td id=\"T_8c381_row1_col14\" class=\"data row1 col14\" >0.268941</td>\n",
       "                        <td id=\"T_8c381_row1_col15\" class=\"data row1 col15\" >0.281155</td>\n",
       "                        <td id=\"T_8c381_row1_col16\" class=\"data row1 col16\" >0.271962</td>\n",
       "                        <td id=\"T_8c381_row1_col17\" class=\"data row1 col17\" >0.266018</td>\n",
       "                        <td id=\"T_8c381_row1_col18\" class=\"data row1 col18\" >0.204711</td>\n",
       "                        <td id=\"T_8c381_row1_col19\" class=\"data row1 col19\" >0.183572</td>\n",
       "                        <td id=\"T_8c381_row1_col20\" class=\"data row1 col20\" >0.229278</td>\n",
       "                        <td id=\"T_8c381_row1_col21\" class=\"data row1 col21\" >0.205825</td>\n",
       "                        <td id=\"T_8c381_row1_col22\" class=\"data row1 col22\" >0.207818</td>\n",
       "                        <td id=\"T_8c381_row1_col23\" class=\"data row1 col23\" >0.235237</td>\n",
       "                        <td id=\"T_8c381_row1_col24\" class=\"data row1 col24\" >-0.125515</td>\n",
       "                        <td id=\"T_8c381_row1_col25\" class=\"data row1 col25\" >0.994277</td>\n",
       "            </tr>\n",
       "            <tr>\n",
       "                        <th id=\"T_8c381_level0_row2\" class=\"row_heading level0 row2\" >SEX</th>\n",
       "                        <td id=\"T_8c381_row2_col0\" class=\"data row2 col0\" >0.002759</td>\n",
       "                        <td id=\"T_8c381_row2_col1\" class=\"data row2 col1\" >-0.026835</td>\n",
       "                        <td id=\"T_8c381_row2_col2\" class=\"data row2 col2\" >1.000000</td>\n",
       "                        <td id=\"T_8c381_row2_col3\" class=\"data row2 col3\" >0.006297</td>\n",
       "                        <td id=\"T_8c381_row2_col4\" class=\"data row2 col4\" >0.028761</td>\n",
       "                        <td id=\"T_8c381_row2_col5\" class=\"data row2 col5\" >0.085465</td>\n",
       "                        <td id=\"T_8c381_row2_col6\" class=\"data row2 col6\" >0.034202</td>\n",
       "                        <td id=\"T_8c381_row2_col7\" class=\"data row2 col7\" >0.042128</td>\n",
       "                        <td id=\"T_8c381_row2_col8\" class=\"data row2 col8\" >0.038637</td>\n",
       "                        <td id=\"T_8c381_row2_col9\" class=\"data row2 col9\" >0.040722</td>\n",
       "                        <td id=\"T_8c381_row2_col10\" class=\"data row2 col10\" >0.033446</td>\n",
       "                        <td id=\"T_8c381_row2_col11\" class=\"data row2 col11\" >0.021417</td>\n",
       "                        <td id=\"T_8c381_row2_col12\" class=\"data row2 col12\" >0.035939</td>\n",
       "                        <td id=\"T_8c381_row2_col13\" class=\"data row2 col13\" >0.031217</td>\n",
       "                        <td id=\"T_8c381_row2_col14\" class=\"data row2 col14\" >0.019196</td>\n",
       "                        <td id=\"T_8c381_row2_col15\" class=\"data row2 col15\" >0.014183</td>\n",
       "                        <td id=\"T_8c381_row2_col16\" class=\"data row2 col16\" >0.009260</td>\n",
       "                        <td id=\"T_8c381_row2_col17\" class=\"data row2 col17\" >0.010197</td>\n",
       "                        <td id=\"T_8c381_row2_col18\" class=\"data row2 col18\" >0.008228</td>\n",
       "                        <td id=\"T_8c381_row2_col19\" class=\"data row2 col19\" >0.003856</td>\n",
       "                        <td id=\"T_8c381_row2_col20\" class=\"data row2 col20\" >0.012448</td>\n",
       "                        <td id=\"T_8c381_row2_col21\" class=\"data row2 col21\" >-0.003352</td>\n",
       "                        <td id=\"T_8c381_row2_col22\" class=\"data row2 col22\" >-0.000292</td>\n",
       "                        <td id=\"T_8c381_row2_col23\" class=\"data row2 col23\" >0.004133</td>\n",
       "                        <td id=\"T_8c381_row2_col24\" class=\"data row2 col24\" >0.036561</td>\n",
       "                        <td id=\"T_8c381_row2_col25\" class=\"data row2 col25\" >-0.021397</td>\n",
       "            </tr>\n",
       "            <tr>\n",
       "                        <th id=\"T_8c381_level0_row3\" class=\"row_heading level0 row3\" >EDUCATION</th>\n",
       "                        <td id=\"T_8c381_row3_col0\" class=\"data row3 col0\" >-0.009802</td>\n",
       "                        <td id=\"T_8c381_row3_col1\" class=\"data row3 col1\" >-0.251411</td>\n",
       "                        <td id=\"T_8c381_row3_col2\" class=\"data row3 col2\" >0.006297</td>\n",
       "                        <td id=\"T_8c381_row3_col3\" class=\"data row3 col3\" >1.000000</td>\n",
       "                        <td id=\"T_8c381_row3_col4\" class=\"data row3 col4\" >-0.136459</td>\n",
       "                        <td id=\"T_8c381_row3_col5\" class=\"data row3 col5\" >0.181004</td>\n",
       "                        <td id=\"T_8c381_row3_col6\" class=\"data row3 col6\" >0.113776</td>\n",
       "                        <td id=\"T_8c381_row3_col7\" class=\"data row3 col7\" >0.122736</td>\n",
       "                        <td id=\"T_8c381_row3_col8\" class=\"data row3 col8\" >0.111439</td>\n",
       "                        <td id=\"T_8c381_row3_col9\" class=\"data row3 col9\" >0.090684</td>\n",
       "                        <td id=\"T_8c381_row3_col10\" class=\"data row3 col10\" >0.082655</td>\n",
       "                        <td id=\"T_8c381_row3_col11\" class=\"data row3 col11\" >0.081283</td>\n",
       "                        <td id=\"T_8c381_row3_col12\" class=\"data row3 col12\" >-0.007216</td>\n",
       "                        <td id=\"T_8c381_row3_col13\" class=\"data row3 col13\" >-0.008195</td>\n",
       "                        <td id=\"T_8c381_row3_col14\" class=\"data row3 col14\" >-0.016729</td>\n",
       "                        <td id=\"T_8c381_row3_col15\" class=\"data row3 col15\" >-0.024670</td>\n",
       "                        <td id=\"T_8c381_row3_col16\" class=\"data row3 col16\" >-0.017461</td>\n",
       "                        <td id=\"T_8c381_row3_col17\" class=\"data row3 col17\" >-0.013109</td>\n",
       "                        <td id=\"T_8c381_row3_col18\" class=\"data row3 col18\" >-0.048425</td>\n",
       "                        <td id=\"T_8c381_row3_col19\" class=\"data row3 col19\" >-0.041795</td>\n",
       "                        <td id=\"T_8c381_row3_col20\" class=\"data row3 col20\" >-0.065623</td>\n",
       "                        <td id=\"T_8c381_row3_col21\" class=\"data row3 col21\" >-0.030053</td>\n",
       "                        <td id=\"T_8c381_row3_col22\" class=\"data row3 col22\" >-0.041793</td>\n",
       "                        <td id=\"T_8c381_row3_col23\" class=\"data row3 col23\" >-0.064978</td>\n",
       "                        <td id=\"T_8c381_row3_col24\" class=\"data row3 col24\" >0.041843</td>\n",
       "                        <td id=\"T_8c381_row3_col25\" class=\"data row3 col25\" >-0.248475</td>\n",
       "            </tr>\n",
       "            <tr>\n",
       "                        <th id=\"T_8c381_level0_row4\" class=\"row_heading level0 row4\" >MARITAL</th>\n",
       "                        <td id=\"T_8c381_row4_col0\" class=\"data row4 col0\" >0.001987</td>\n",
       "                        <td id=\"T_8c381_row4_col1\" class=\"data row4 col1\" >-0.116890</td>\n",
       "                        <td id=\"T_8c381_row4_col2\" class=\"data row4 col2\" >0.028761</td>\n",
       "                        <td id=\"T_8c381_row4_col3\" class=\"data row4 col3\" >-0.136459</td>\n",
       "                        <td id=\"T_8c381_row4_col4\" class=\"data row4 col4\" >1.000000</td>\n",
       "                        <td id=\"T_8c381_row4_col5\" class=\"data row4 col5\" >-0.419976</td>\n",
       "                        <td id=\"T_8c381_row4_col6\" class=\"data row4 col6\" >0.006383</td>\n",
       "                        <td id=\"T_8c381_row4_col7\" class=\"data row4 col7\" >0.015015</td>\n",
       "                        <td id=\"T_8c381_row4_col8\" class=\"data row4 col8\" >0.015432</td>\n",
       "                        <td id=\"T_8c381_row4_col9\" class=\"data row4 col9\" >0.019667</td>\n",
       "                        <td id=\"T_8c381_row4_col10\" class=\"data row4 col10\" >0.017063</td>\n",
       "                        <td id=\"T_8c381_row4_col11\" class=\"data row4 col11\" >0.026180</td>\n",
       "                        <td id=\"T_8c381_row4_col12\" class=\"data row4 col12\" >-0.027310</td>\n",
       "                        <td id=\"T_8c381_row4_col13\" class=\"data row4 col13\" >-0.029892</td>\n",
       "                        <td id=\"T_8c381_row4_col14\" class=\"data row4 col14\" >-0.035654</td>\n",
       "                        <td id=\"T_8c381_row4_col15\" class=\"data row4 col15\" >-0.033334</td>\n",
       "                        <td id=\"T_8c381_row4_col16\" class=\"data row4 col16\" >-0.035677</td>\n",
       "                        <td id=\"T_8c381_row4_col17\" class=\"data row4 col17\" >-0.026021</td>\n",
       "                        <td id=\"T_8c381_row4_col18\" class=\"data row4 col18\" >-0.033967</td>\n",
       "                        <td id=\"T_8c381_row4_col19\" class=\"data row4 col19\" >-0.024210</td>\n",
       "                        <td id=\"T_8c381_row4_col20\" class=\"data row4 col20\" >-0.019250</td>\n",
       "                        <td id=\"T_8c381_row4_col21\" class=\"data row4 col21\" >-0.022019</td>\n",
       "                        <td id=\"T_8c381_row4_col22\" class=\"data row4 col22\" >0.003182</td>\n",
       "                        <td id=\"T_8c381_row4_col23\" class=\"data row4 col23\" >-0.009660</td>\n",
       "                        <td id=\"T_8c381_row4_col24\" class=\"data row4 col24\" >-0.034006</td>\n",
       "                        <td id=\"T_8c381_row4_col25\" class=\"data row4 col25\" >-0.115448</td>\n",
       "            </tr>\n",
       "            <tr>\n",
       "                        <th id=\"T_8c381_level0_row5\" class=\"row_heading level0 row5\" >AGE</th>\n",
       "                        <td id=\"T_8c381_row5_col0\" class=\"data row5 col0\" >-0.004096</td>\n",
       "                        <td id=\"T_8c381_row5_col1\" class=\"data row5 col1\" >0.149488</td>\n",
       "                        <td id=\"T_8c381_row5_col2\" class=\"data row5 col2\" >0.085465</td>\n",
       "                        <td id=\"T_8c381_row5_col3\" class=\"data row5 col3\" >0.181004</td>\n",
       "                        <td id=\"T_8c381_row5_col4\" class=\"data row5 col4\" >-0.419976</td>\n",
       "                        <td id=\"T_8c381_row5_col5\" class=\"data row5 col5\" >1.000000</td>\n",
       "                        <td id=\"T_8c381_row5_col6\" class=\"data row5 col6\" >-0.021088</td>\n",
       "                        <td id=\"T_8c381_row5_col7\" class=\"data row5 col7\" >-0.044423</td>\n",
       "                        <td id=\"T_8c381_row5_col8\" class=\"data row5 col8\" >-0.044965</td>\n",
       "                        <td id=\"T_8c381_row5_col9\" class=\"data row5 col9\" >-0.041522</td>\n",
       "                        <td id=\"T_8c381_row5_col10\" class=\"data row5 col10\" >-0.046023</td>\n",
       "                        <td id=\"T_8c381_row5_col11\" class=\"data row5 col11\" >-0.052938</td>\n",
       "                        <td id=\"T_8c381_row5_col12\" class=\"data row5 col12\" >0.050656</td>\n",
       "                        <td id=\"T_8c381_row5_col13\" class=\"data row5 col13\" >0.046758</td>\n",
       "                        <td id=\"T_8c381_row5_col14\" class=\"data row5 col14\" >0.043486</td>\n",
       "                        <td id=\"T_8c381_row5_col15\" class=\"data row5 col15\" >0.035822</td>\n",
       "                        <td id=\"T_8c381_row5_col16\" class=\"data row5 col16\" >0.037176</td>\n",
       "                        <td id=\"T_8c381_row5_col17\" class=\"data row5 col17\" >0.038703</td>\n",
       "                        <td id=\"T_8c381_row5_col18\" class=\"data row5 col18\" >0.031427</td>\n",
       "                        <td id=\"T_8c381_row5_col19\" class=\"data row5 col19\" >0.022456</td>\n",
       "                        <td id=\"T_8c381_row5_col20\" class=\"data row5 col20\" >0.035373</td>\n",
       "                        <td id=\"T_8c381_row5_col21\" class=\"data row5 col21\" >0.037371</td>\n",
       "                        <td id=\"T_8c381_row5_col22\" class=\"data row5 col22\" >0.029809</td>\n",
       "                        <td id=\"T_8c381_row5_col23\" class=\"data row5 col23\" >0.018757</td>\n",
       "                        <td id=\"T_8c381_row5_col24\" class=\"data row5 col24\" >-0.000556</td>\n",
       "                        <td id=\"T_8c381_row5_col25\" class=\"data row5 col25\" >0.151616</td>\n",
       "            </tr>\n",
       "            <tr>\n",
       "                        <th id=\"T_8c381_level0_row6\" class=\"row_heading level0 row6\" >STATUS2</th>\n",
       "                        <td id=\"T_8c381_row6_col0\" class=\"data row6 col0\" >-0.008863</td>\n",
       "                        <td id=\"T_8c381_row6_col1\" class=\"data row6 col1\" >-0.198339</td>\n",
       "                        <td id=\"T_8c381_row6_col2\" class=\"data row6 col2\" >0.034202</td>\n",
       "                        <td id=\"T_8c381_row6_col3\" class=\"data row6 col3\" >0.113776</td>\n",
       "                        <td id=\"T_8c381_row6_col4\" class=\"data row6 col4\" >0.006383</td>\n",
       "                        <td id=\"T_8c381_row6_col5\" class=\"data row6 col5\" >-0.021088</td>\n",
       "                        <td id=\"T_8c381_row6_col6\" class=\"data row6 col6\" >1.000000</td>\n",
       "                        <td id=\"T_8c381_row6_col7\" class=\"data row6 col7\" >0.701719</td>\n",
       "                        <td id=\"T_8c381_row6_col8\" class=\"data row6 col8\" >0.540033</td>\n",
       "                        <td id=\"T_8c381_row6_col9\" class=\"data row6 col9\" >0.502743</td>\n",
       "                        <td id=\"T_8c381_row6_col10\" class=\"data row6 col10\" >0.461186</td>\n",
       "                        <td id=\"T_8c381_row6_col11\" class=\"data row6 col11\" >0.412985</td>\n",
       "                        <td id=\"T_8c381_row6_col12\" class=\"data row6 col12\" >0.131179</td>\n",
       "                        <td id=\"T_8c381_row6_col13\" class=\"data row6 col13\" >0.135644</td>\n",
       "                        <td id=\"T_8c381_row6_col14\" class=\"data row6 col14\" >0.130893</td>\n",
       "                        <td id=\"T_8c381_row6_col15\" class=\"data row6 col15\" >0.137101</td>\n",
       "                        <td id=\"T_8c381_row6_col16\" class=\"data row6 col16\" >0.139993</td>\n",
       "                        <td id=\"T_8c381_row6_col17\" class=\"data row6 col17\" >0.137273</td>\n",
       "                        <td id=\"T_8c381_row6_col18\" class=\"data row6 col18\" >-0.097741</td>\n",
       "                        <td id=\"T_8c381_row6_col19\" class=\"data row6 col19\" >-0.053233</td>\n",
       "                        <td id=\"T_8c381_row6_col20\" class=\"data row6 col20\" >-0.075100</td>\n",
       "                        <td id=\"T_8c381_row6_col21\" class=\"data row6 col21\" >-0.068801</td>\n",
       "                        <td id=\"T_8c381_row6_col22\" class=\"data row6 col22\" >-0.039792</td>\n",
       "                        <td id=\"T_8c381_row6_col23\" class=\"data row6 col23\" >-0.057298</td>\n",
       "                        <td id=\"T_8c381_row6_col24\" class=\"data row6 col24\" >0.308342</td>\n",
       "                        <td id=\"T_8c381_row6_col25\" class=\"data row6 col25\" >-0.198994</td>\n",
       "            </tr>\n",
       "            <tr>\n",
       "                        <th id=\"T_8c381_level0_row7\" class=\"row_heading level0 row7\" >STATUS3</th>\n",
       "                        <td id=\"T_8c381_row7_col0\" class=\"data row7 col0\" >-0.002604</td>\n",
       "                        <td id=\"T_8c381_row7_col1\" class=\"data row7 col1\" >-0.238359</td>\n",
       "                        <td id=\"T_8c381_row7_col2\" class=\"data row7 col2\" >0.042128</td>\n",
       "                        <td id=\"T_8c381_row7_col3\" class=\"data row7 col3\" >0.122736</td>\n",
       "                        <td id=\"T_8c381_row7_col4\" class=\"data row7 col4\" >0.015015</td>\n",
       "                        <td id=\"T_8c381_row7_col5\" class=\"data row7 col5\" >-0.044423</td>\n",
       "                        <td id=\"T_8c381_row7_col6\" class=\"data row7 col6\" >0.701719</td>\n",
       "                        <td id=\"T_8c381_row7_col7\" class=\"data row7 col7\" >1.000000</td>\n",
       "                        <td id=\"T_8c381_row7_col8\" class=\"data row7 col8\" >0.673577</td>\n",
       "                        <td id=\"T_8c381_row7_col9\" class=\"data row7 col9\" >0.570136</td>\n",
       "                        <td id=\"T_8c381_row7_col10\" class=\"data row7 col10\" >0.522839</td>\n",
       "                        <td id=\"T_8c381_row7_col11\" class=\"data row7 col11\" >0.462606</td>\n",
       "                        <td id=\"T_8c381_row7_col12\" class=\"data row7 col12\" >0.153805</td>\n",
       "                        <td id=\"T_8c381_row7_col13\" class=\"data row7 col13\" >0.154545</td>\n",
       "                        <td id=\"T_8c381_row7_col14\" class=\"data row7 col14\" >0.149857</td>\n",
       "                        <td id=\"T_8c381_row7_col15\" class=\"data row7 col15\" >0.156236</td>\n",
       "                        <td id=\"T_8c381_row7_col16\" class=\"data row7 col16\" >0.159570</td>\n",
       "                        <td id=\"T_8c381_row7_col17\" class=\"data row7 col17\" >0.157020</td>\n",
       "                        <td id=\"T_8c381_row7_col18\" class=\"data row7 col18\" >-0.134728</td>\n",
       "                        <td id=\"T_8c381_row7_col19\" class=\"data row7 col19\" >-0.061539</td>\n",
       "                        <td id=\"T_8c381_row7_col20\" class=\"data row7 col20\" >-0.080152</td>\n",
       "                        <td id=\"T_8c381_row7_col21\" class=\"data row7 col21\" >-0.064155</td>\n",
       "                        <td id=\"T_8c381_row7_col22\" class=\"data row7 col22\" >-0.036101</td>\n",
       "                        <td id=\"T_8c381_row7_col23\" class=\"data row7 col23\" >-0.054381</td>\n",
       "                        <td id=\"T_8c381_row7_col24\" class=\"data row7 col24\" >0.275134</td>\n",
       "                        <td id=\"T_8c381_row7_col25\" class=\"data row7 col25\" >-0.238428</td>\n",
       "            </tr>\n",
       "            <tr>\n",
       "                        <th id=\"T_8c381_level0_row8\" class=\"row_heading level0 row8\" >STATUS4</th>\n",
       "                        <td id=\"T_8c381_row8_col0\" class=\"data row8 col0\" >-0.008868</td>\n",
       "                        <td id=\"T_8c381_row8_col1\" class=\"data row8 col1\" >-0.241762</td>\n",
       "                        <td id=\"T_8c381_row8_col2\" class=\"data row8 col2\" >0.038637</td>\n",
       "                        <td id=\"T_8c381_row8_col3\" class=\"data row8 col3\" >0.111439</td>\n",
       "                        <td id=\"T_8c381_row8_col4\" class=\"data row8 col4\" >0.015432</td>\n",
       "                        <td id=\"T_8c381_row8_col5\" class=\"data row8 col5\" >-0.044965</td>\n",
       "                        <td id=\"T_8c381_row8_col6\" class=\"data row8 col6\" >0.540033</td>\n",
       "                        <td id=\"T_8c381_row8_col7\" class=\"data row8 col7\" >0.673577</td>\n",
       "                        <td id=\"T_8c381_row8_col8\" class=\"data row8 col8\" >1.000000</td>\n",
       "                        <td id=\"T_8c381_row8_col9\" class=\"data row8 col9\" >0.706458</td>\n",
       "                        <td id=\"T_8c381_row8_col10\" class=\"data row8 col10\" >0.592170</td>\n",
       "                        <td id=\"T_8c381_row8_col11\" class=\"data row8 col11\" >0.523303</td>\n",
       "                        <td id=\"T_8c381_row8_col12\" class=\"data row8 col12\" >0.111064</td>\n",
       "                        <td id=\"T_8c381_row8_col13\" class=\"data row8 col13\" >0.132069</td>\n",
       "                        <td id=\"T_8c381_row8_col14\" class=\"data row8 col14\" >0.119848</td>\n",
       "                        <td id=\"T_8c381_row8_col15\" class=\"data row8 col15\" >0.136592</td>\n",
       "                        <td id=\"T_8c381_row8_col16\" class=\"data row8 col16\" >0.140640</td>\n",
       "                        <td id=\"T_8c381_row8_col17\" class=\"data row8 col17\" >0.138897</td>\n",
       "                        <td id=\"T_8c381_row8_col18\" class=\"data row8 col18\" >-0.044193</td>\n",
       "                        <td id=\"T_8c381_row8_col19\" class=\"data row8 col19\" >-0.110254</td>\n",
       "                        <td id=\"T_8c381_row8_col20\" class=\"data row8 col20\" >-0.078757</td>\n",
       "                        <td id=\"T_8c381_row8_col21\" class=\"data row8 col21\" >-0.064287</td>\n",
       "                        <td id=\"T_8c381_row8_col22\" class=\"data row8 col22\" >-0.047113</td>\n",
       "                        <td id=\"T_8c381_row8_col23\" class=\"data row8 col23\" >-0.054256</td>\n",
       "                        <td id=\"T_8c381_row8_col24\" class=\"data row8 col24\" >0.255066</td>\n",
       "                        <td id=\"T_8c381_row8_col25\" class=\"data row8 col25\" >-0.242275</td>\n",
       "            </tr>\n",
       "            <tr>\n",
       "                        <th id=\"T_8c381_level0_row9\" class=\"row_heading level0 row9\" >STATUS5</th>\n",
       "                        <td id=\"T_8c381_row9_col0\" class=\"data row9 col0\" >-0.003272</td>\n",
       "                        <td id=\"T_8c381_row9_col1\" class=\"data row9 col1\" >-0.218923</td>\n",
       "                        <td id=\"T_8c381_row9_col2\" class=\"data row9 col2\" >0.040722</td>\n",
       "                        <td id=\"T_8c381_row9_col3\" class=\"data row9 col3\" >0.090684</td>\n",
       "                        <td id=\"T_8c381_row9_col4\" class=\"data row9 col4\" >0.019667</td>\n",
       "                        <td id=\"T_8c381_row9_col5\" class=\"data row9 col5\" >-0.041522</td>\n",
       "                        <td id=\"T_8c381_row9_col6\" class=\"data row9 col6\" >0.502743</td>\n",
       "                        <td id=\"T_8c381_row9_col7\" class=\"data row9 col7\" >0.570136</td>\n",
       "                        <td id=\"T_8c381_row9_col8\" class=\"data row9 col8\" >0.706458</td>\n",
       "                        <td id=\"T_8c381_row9_col9\" class=\"data row9 col9\" >1.000000</td>\n",
       "                        <td id=\"T_8c381_row9_col10\" class=\"data row9 col10\" >0.742039</td>\n",
       "                        <td id=\"T_8c381_row9_col11\" class=\"data row9 col11\" >0.604858</td>\n",
       "                        <td id=\"T_8c381_row9_col12\" class=\"data row9 col12\" >0.118490</td>\n",
       "                        <td id=\"T_8c381_row9_col13\" class=\"data row9 col13\" >0.132865</td>\n",
       "                        <td id=\"T_8c381_row9_col14\" class=\"data row9 col14\" >0.146622</td>\n",
       "                        <td id=\"T_8c381_row9_col15\" class=\"data row9 col15\" >0.161541</td>\n",
       "                        <td id=\"T_8c381_row9_col16\" class=\"data row9 col16\" >0.163268</td>\n",
       "                        <td id=\"T_8c381_row9_col17\" class=\"data row9 col17\" >0.162981</td>\n",
       "                        <td id=\"T_8c381_row9_col18\" class=\"data row9 col18\" >-0.051893</td>\n",
       "                        <td id=\"T_8c381_row9_col19\" class=\"data row9 col19\" >-0.034985</td>\n",
       "                        <td id=\"T_8c381_row9_col20\" class=\"data row9 col20\" >-0.131017</td>\n",
       "                        <td id=\"T_8c381_row9_col21\" class=\"data row9 col21\" >-0.077761</td>\n",
       "                        <td id=\"T_8c381_row9_col22\" class=\"data row9 col22\" >-0.055633</td>\n",
       "                        <td id=\"T_8c381_row9_col23\" class=\"data row9 col23\" >-0.044266</td>\n",
       "                        <td id=\"T_8c381_row9_col24\" class=\"data row9 col24\" >0.240475</td>\n",
       "                        <td id=\"T_8c381_row9_col25\" class=\"data row9 col25\" >-0.219844</td>\n",
       "            </tr>\n",
       "            <tr>\n",
       "                        <th id=\"T_8c381_level0_row10\" class=\"row_heading level0 row10\" >STATUS6</th>\n",
       "                        <td id=\"T_8c381_row10_col0\" class=\"data row10 col0\" >0.002577</td>\n",
       "                        <td id=\"T_8c381_row10_col1\" class=\"data row10 col1\" >-0.209039</td>\n",
       "                        <td id=\"T_8c381_row10_col2\" class=\"data row10 col2\" >0.033446</td>\n",
       "                        <td id=\"T_8c381_row10_col3\" class=\"data row10 col3\" >0.082655</td>\n",
       "                        <td id=\"T_8c381_row10_col4\" class=\"data row10 col4\" >0.017063</td>\n",
       "                        <td id=\"T_8c381_row10_col5\" class=\"data row10 col5\" >-0.046023</td>\n",
       "                        <td id=\"T_8c381_row10_col6\" class=\"data row10 col6\" >0.461186</td>\n",
       "                        <td id=\"T_8c381_row10_col7\" class=\"data row10 col7\" >0.522839</td>\n",
       "                        <td id=\"T_8c381_row10_col8\" class=\"data row10 col8\" >0.592170</td>\n",
       "                        <td id=\"T_8c381_row10_col9\" class=\"data row10 col9\" >0.742039</td>\n",
       "                        <td id=\"T_8c381_row10_col10\" class=\"data row10 col10\" >1.000000</td>\n",
       "                        <td id=\"T_8c381_row10_col11\" class=\"data row10 col11\" >0.704721</td>\n",
       "                        <td id=\"T_8c381_row10_col12\" class=\"data row10 col12\" >0.109713</td>\n",
       "                        <td id=\"T_8c381_row10_col13\" class=\"data row10 col13\" >0.119478</td>\n",
       "                        <td id=\"T_8c381_row10_col14\" class=\"data row10 col14\" >0.135817</td>\n",
       "                        <td id=\"T_8c381_row10_col15\" class=\"data row10 col15\" >0.170732</td>\n",
       "                        <td id=\"T_8c381_row10_col16\" class=\"data row10 col16\" >0.165493</td>\n",
       "                        <td id=\"T_8c381_row10_col17\" class=\"data row10 col17\" >0.166368</td>\n",
       "                        <td id=\"T_8c381_row10_col18\" class=\"data row10 col18\" >-0.057187</td>\n",
       "                        <td id=\"T_8c381_row10_col19\" class=\"data row10 col19\" >-0.029152</td>\n",
       "                        <td id=\"T_8c381_row10_col20\" class=\"data row10 col20\" >-0.034132</td>\n",
       "                        <td id=\"T_8c381_row10_col21\" class=\"data row10 col21\" >-0.135494</td>\n",
       "                        <td id=\"T_8c381_row10_col22\" class=\"data row10 col22\" >-0.059251</td>\n",
       "                        <td id=\"T_8c381_row10_col23\" class=\"data row10 col23\" >-0.056817</td>\n",
       "                        <td id=\"T_8c381_row10_col24\" class=\"data row10 col24\" >0.231431</td>\n",
       "                        <td id=\"T_8c381_row10_col25\" class=\"data row10 col25\" >-0.209978</td>\n",
       "            </tr>\n",
       "            <tr>\n",
       "                        <th id=\"T_8c381_level0_row11\" class=\"row_heading level0 row11\" >STATUS7</th>\n",
       "                        <td id=\"T_8c381_row11_col0\" class=\"data row11 col0\" >0.016723</td>\n",
       "                        <td id=\"T_8c381_row11_col1\" class=\"data row11 col1\" >-0.215116</td>\n",
       "                        <td id=\"T_8c381_row11_col2\" class=\"data row11 col2\" >0.021417</td>\n",
       "                        <td id=\"T_8c381_row11_col3\" class=\"data row11 col3\" >0.081283</td>\n",
       "                        <td id=\"T_8c381_row11_col4\" class=\"data row11 col4\" >0.026180</td>\n",
       "                        <td id=\"T_8c381_row11_col5\" class=\"data row11 col5\" >-0.052938</td>\n",
       "                        <td id=\"T_8c381_row11_col6\" class=\"data row11 col6\" >0.412985</td>\n",
       "                        <td id=\"T_8c381_row11_col7\" class=\"data row11 col7\" >0.462606</td>\n",
       "                        <td id=\"T_8c381_row11_col8\" class=\"data row11 col8\" >0.523303</td>\n",
       "                        <td id=\"T_8c381_row11_col9\" class=\"data row11 col9\" >0.604858</td>\n",
       "                        <td id=\"T_8c381_row11_col10\" class=\"data row11 col10\" >0.704721</td>\n",
       "                        <td id=\"T_8c381_row11_col11\" class=\"data row11 col11\" >1.000000</td>\n",
       "                        <td id=\"T_8c381_row11_col12\" class=\"data row11 col12\" >0.106367</td>\n",
       "                        <td id=\"T_8c381_row11_col13\" class=\"data row11 col13\" >0.116216</td>\n",
       "                        <td id=\"T_8c381_row11_col14\" class=\"data row11 col14\" >0.130161</td>\n",
       "                        <td id=\"T_8c381_row11_col15\" class=\"data row11 col15\" >0.161564</td>\n",
       "                        <td id=\"T_8c381_row11_col16\" class=\"data row11 col16\" >0.180383</td>\n",
       "                        <td id=\"T_8c381_row11_col17\" class=\"data row11 col17\" >0.175704</td>\n",
       "                        <td id=\"T_8c381_row11_col18\" class=\"data row11 col18\" >-0.060955</td>\n",
       "                        <td id=\"T_8c381_row11_col19\" class=\"data row11 col19\" >-0.042364</td>\n",
       "                        <td id=\"T_8c381_row11_col20\" class=\"data row11 col20\" >-0.043924</td>\n",
       "                        <td id=\"T_8c381_row11_col21\" class=\"data row11 col21\" >-0.038745</td>\n",
       "                        <td id=\"T_8c381_row11_col22\" class=\"data row11 col22\" >-0.129060</td>\n",
       "                        <td id=\"T_8c381_row11_col23\" class=\"data row11 col23\" >-0.071531</td>\n",
       "                        <td id=\"T_8c381_row11_col24\" class=\"data row11 col24\" >0.211557</td>\n",
       "                        <td id=\"T_8c381_row11_col25\" class=\"data row11 col25\" >-0.215661</td>\n",
       "            </tr>\n",
       "            <tr>\n",
       "                        <th id=\"T_8c381_level0_row12\" class=\"row_heading level0 row12\" >BILL1</th>\n",
       "                        <td id=\"T_8c381_row12_col0\" class=\"data row12 col0\" >-0.013869</td>\n",
       "                        <td id=\"T_8c381_row12_col1\" class=\"data row12 col1\" >0.267938</td>\n",
       "                        <td id=\"T_8c381_row12_col2\" class=\"data row12 col2\" >0.035939</td>\n",
       "                        <td id=\"T_8c381_row12_col3\" class=\"data row12 col3\" >-0.007216</td>\n",
       "                        <td id=\"T_8c381_row12_col4\" class=\"data row12 col4\" >-0.027310</td>\n",
       "                        <td id=\"T_8c381_row12_col5\" class=\"data row12 col5\" >0.050656</td>\n",
       "                        <td id=\"T_8c381_row12_col6\" class=\"data row12 col6\" >0.131179</td>\n",
       "                        <td id=\"T_8c381_row12_col7\" class=\"data row12 col7\" >0.153805</td>\n",
       "                        <td id=\"T_8c381_row12_col8\" class=\"data row12 col8\" >0.111064</td>\n",
       "                        <td id=\"T_8c381_row12_col9\" class=\"data row12 col9\" >0.118490</td>\n",
       "                        <td id=\"T_8c381_row12_col10\" class=\"data row12 col10\" >0.109713</td>\n",
       "                        <td id=\"T_8c381_row12_col11\" class=\"data row12 col11\" >0.106367</td>\n",
       "                        <td id=\"T_8c381_row12_col12\" class=\"data row12 col12\" >1.000000</td>\n",
       "                        <td id=\"T_8c381_row12_col13\" class=\"data row12 col13\" >0.954356</td>\n",
       "                        <td id=\"T_8c381_row12_col14\" class=\"data row12 col14\" >0.871875</td>\n",
       "                        <td id=\"T_8c381_row12_col15\" class=\"data row12 col15\" >0.851654</td>\n",
       "                        <td id=\"T_8c381_row12_col16\" class=\"data row12 col16\" >0.833296</td>\n",
       "                        <td id=\"T_8c381_row12_col17\" class=\"data row12 col17\" >0.805434</td>\n",
       "                        <td id=\"T_8c381_row12_col18\" class=\"data row12 col18\" >0.149266</td>\n",
       "                        <td id=\"T_8c381_row12_col19\" class=\"data row12 col19\" >0.079930</td>\n",
       "                        <td id=\"T_8c381_row12_col20\" class=\"data row12 col20\" >0.154963</td>\n",
       "                        <td id=\"T_8c381_row12_col21\" class=\"data row12 col21\" >0.160850</td>\n",
       "                        <td id=\"T_8c381_row12_col22\" class=\"data row12 col22\" >0.178098</td>\n",
       "                        <td id=\"T_8c381_row12_col23\" class=\"data row12 col23\" >0.160495</td>\n",
       "                        <td id=\"T_8c381_row12_col24\" class=\"data row12 col24\" >-0.019287</td>\n",
       "                        <td id=\"T_8c381_row12_col25\" class=\"data row12 col25\" >0.259910</td>\n",
       "            </tr>\n",
       "            <tr>\n",
       "                        <th id=\"T_8c381_level0_row13\" class=\"row_heading level0 row13\" >BILL2</th>\n",
       "                        <td id=\"T_8c381_row13_col0\" class=\"data row13 col0\" >-0.015005</td>\n",
       "                        <td id=\"T_8c381_row13_col1\" class=\"data row13 col1\" >0.260974</td>\n",
       "                        <td id=\"T_8c381_row13_col2\" class=\"data row13 col2\" >0.031217</td>\n",
       "                        <td id=\"T_8c381_row13_col3\" class=\"data row13 col3\" >-0.008195</td>\n",
       "                        <td id=\"T_8c381_row13_col4\" class=\"data row13 col4\" >-0.029892</td>\n",
       "                        <td id=\"T_8c381_row13_col5\" class=\"data row13 col5\" >0.046758</td>\n",
       "                        <td id=\"T_8c381_row13_col6\" class=\"data row13 col6\" >0.135644</td>\n",
       "                        <td id=\"T_8c381_row13_col7\" class=\"data row13 col7\" >0.154545</td>\n",
       "                        <td id=\"T_8c381_row13_col8\" class=\"data row13 col8\" >0.132069</td>\n",
       "                        <td id=\"T_8c381_row13_col9\" class=\"data row13 col9\" >0.132865</td>\n",
       "                        <td id=\"T_8c381_row13_col10\" class=\"data row13 col10\" >0.119478</td>\n",
       "                        <td id=\"T_8c381_row13_col11\" class=\"data row13 col11\" >0.116216</td>\n",
       "                        <td id=\"T_8c381_row13_col12\" class=\"data row13 col12\" >0.954356</td>\n",
       "                        <td id=\"T_8c381_row13_col13\" class=\"data row13 col13\" >1.000000</td>\n",
       "                        <td id=\"T_8c381_row13_col14\" class=\"data row13 col14\" >0.900005</td>\n",
       "                        <td id=\"T_8c381_row13_col15\" class=\"data row13 col15\" >0.881348</td>\n",
       "                        <td id=\"T_8c381_row13_col16\" class=\"data row13 col16\" >0.861929</td>\n",
       "                        <td id=\"T_8c381_row13_col17\" class=\"data row13 col17\" >0.831482</td>\n",
       "                        <td id=\"T_8c381_row13_col18\" class=\"data row13 col18\" >0.297147</td>\n",
       "                        <td id=\"T_8c381_row13_col19\" class=\"data row13 col19\" >0.068975</td>\n",
       "                        <td id=\"T_8c381_row13_col20\" class=\"data row13 col20\" >0.152297</td>\n",
       "                        <td id=\"T_8c381_row13_col21\" class=\"data row13 col21\" >0.161540</td>\n",
       "                        <td id=\"T_8c381_row13_col22\" class=\"data row13 col22\" >0.175230</td>\n",
       "                        <td id=\"T_8c381_row13_col23\" class=\"data row13 col23\" >0.171199</td>\n",
       "                        <td id=\"T_8c381_row13_col24\" class=\"data row13 col24\" >-0.014831</td>\n",
       "                        <td id=\"T_8c381_row13_col25\" class=\"data row13 col25\" >0.252709</td>\n",
       "            </tr>\n",
       "            <tr>\n",
       "                        <th id=\"T_8c381_level0_row14\" class=\"row_heading level0 row14\" >BILL3</th>\n",
       "                        <td id=\"T_8c381_row14_col0\" class=\"data row14 col0\" >-0.020514</td>\n",
       "                        <td id=\"T_8c381_row14_col1\" class=\"data row14 col1\" >0.268941</td>\n",
       "                        <td id=\"T_8c381_row14_col2\" class=\"data row14 col2\" >0.019196</td>\n",
       "                        <td id=\"T_8c381_row14_col3\" class=\"data row14 col3\" >-0.016729</td>\n",
       "                        <td id=\"T_8c381_row14_col4\" class=\"data row14 col4\" >-0.035654</td>\n",
       "                        <td id=\"T_8c381_row14_col5\" class=\"data row14 col5\" >0.043486</td>\n",
       "                        <td id=\"T_8c381_row14_col6\" class=\"data row14 col6\" >0.130893</td>\n",
       "                        <td id=\"T_8c381_row14_col7\" class=\"data row14 col7\" >0.149857</td>\n",
       "                        <td id=\"T_8c381_row14_col8\" class=\"data row14 col8\" >0.119848</td>\n",
       "                        <td id=\"T_8c381_row14_col9\" class=\"data row14 col9\" >0.146622</td>\n",
       "                        <td id=\"T_8c381_row14_col10\" class=\"data row14 col10\" >0.135817</td>\n",
       "                        <td id=\"T_8c381_row14_col11\" class=\"data row14 col11\" >0.130161</td>\n",
       "                        <td id=\"T_8c381_row14_col12\" class=\"data row14 col12\" >0.871875</td>\n",
       "                        <td id=\"T_8c381_row14_col13\" class=\"data row14 col13\" >0.900005</td>\n",
       "                        <td id=\"T_8c381_row14_col14\" class=\"data row14 col14\" >1.000000</td>\n",
       "                        <td id=\"T_8c381_row14_col15\" class=\"data row14 col15\" >0.909279</td>\n",
       "                        <td id=\"T_8c381_row14_col16\" class=\"data row14 col16\" >0.883772</td>\n",
       "                        <td id=\"T_8c381_row14_col17\" class=\"data row14 col17\" >0.856840</td>\n",
       "                        <td id=\"T_8c381_row14_col18\" class=\"data row14 col18\" >0.237054</td>\n",
       "                        <td id=\"T_8c381_row14_col19\" class=\"data row14 col19\" >0.388295</td>\n",
       "                        <td id=\"T_8c381_row14_col20\" class=\"data row14 col20\" >0.164769</td>\n",
       "                        <td id=\"T_8c381_row14_col21\" class=\"data row14 col21\" >0.172370</td>\n",
       "                        <td id=\"T_8c381_row14_col22\" class=\"data row14 col22\" >0.226400</td>\n",
       "                        <td id=\"T_8c381_row14_col23\" class=\"data row14 col23\" >0.164595</td>\n",
       "                        <td id=\"T_8c381_row14_col24\" class=\"data row14 col24\" >-0.015470</td>\n",
       "                        <td id=\"T_8c381_row14_col25\" class=\"data row14 col25\" >0.260440</td>\n",
       "            </tr>\n",
       "            <tr>\n",
       "                        <th id=\"T_8c381_level0_row15\" class=\"row_heading level0 row15\" >BILL4</th>\n",
       "                        <td id=\"T_8c381_row15_col0\" class=\"data row15 col0\" >-0.013723</td>\n",
       "                        <td id=\"T_8c381_row15_col1\" class=\"data row15 col1\" >0.281155</td>\n",
       "                        <td id=\"T_8c381_row15_col2\" class=\"data row15 col2\" >0.014183</td>\n",
       "                        <td id=\"T_8c381_row15_col3\" class=\"data row15 col3\" >-0.024670</td>\n",
       "                        <td id=\"T_8c381_row15_col4\" class=\"data row15 col4\" >-0.033334</td>\n",
       "                        <td id=\"T_8c381_row15_col5\" class=\"data row15 col5\" >0.035822</td>\n",
       "                        <td id=\"T_8c381_row15_col6\" class=\"data row15 col6\" >0.137101</td>\n",
       "                        <td id=\"T_8c381_row15_col7\" class=\"data row15 col7\" >0.156236</td>\n",
       "                        <td id=\"T_8c381_row15_col8\" class=\"data row15 col8\" >0.136592</td>\n",
       "                        <td id=\"T_8c381_row15_col9\" class=\"data row15 col9\" >0.161541</td>\n",
       "                        <td id=\"T_8c381_row15_col10\" class=\"data row15 col10\" >0.170732</td>\n",
       "                        <td id=\"T_8c381_row15_col11\" class=\"data row15 col11\" >0.161564</td>\n",
       "                        <td id=\"T_8c381_row15_col12\" class=\"data row15 col12\" >0.851654</td>\n",
       "                        <td id=\"T_8c381_row15_col13\" class=\"data row15 col13\" >0.881348</td>\n",
       "                        <td id=\"T_8c381_row15_col14\" class=\"data row15 col14\" >0.909279</td>\n",
       "                        <td id=\"T_8c381_row15_col15\" class=\"data row15 col15\" >1.000000</td>\n",
       "                        <td id=\"T_8c381_row15_col16\" class=\"data row15 col16\" >0.950805</td>\n",
       "                        <td id=\"T_8c381_row15_col17\" class=\"data row15 col17\" >0.910709</td>\n",
       "                        <td id=\"T_8c381_row15_col18\" class=\"data row15 col18\" >0.232910</td>\n",
       "                        <td id=\"T_8c381_row15_col19\" class=\"data row15 col19\" >0.196847</td>\n",
       "                        <td id=\"T_8c381_row15_col20\" class=\"data row15 col20\" >0.296013</td>\n",
       "                        <td id=\"T_8c381_row15_col21\" class=\"data row15 col21\" >0.128637</td>\n",
       "                        <td id=\"T_8c381_row15_col22\" class=\"data row15 col22\" >0.173921</td>\n",
       "                        <td id=\"T_8c381_row15_col23\" class=\"data row15 col23\" >0.154553</td>\n",
       "                        <td id=\"T_8c381_row15_col24\" class=\"data row15 col24\" >-0.007242</td>\n",
       "                        <td id=\"T_8c381_row15_col25\" class=\"data row15 col25\" >0.271601</td>\n",
       "            </tr>\n",
       "            <tr>\n",
       "                        <th id=\"T_8c381_level0_row16\" class=\"row_heading level0 row16\" >BILL5</th>\n",
       "                        <td id=\"T_8c381_row16_col0\" class=\"data row16 col0\" >-0.012544</td>\n",
       "                        <td id=\"T_8c381_row16_col1\" class=\"data row16 col1\" >0.271962</td>\n",
       "                        <td id=\"T_8c381_row16_col2\" class=\"data row16 col2\" >0.009260</td>\n",
       "                        <td id=\"T_8c381_row16_col3\" class=\"data row16 col3\" >-0.017461</td>\n",
       "                        <td id=\"T_8c381_row16_col4\" class=\"data row16 col4\" >-0.035677</td>\n",
       "                        <td id=\"T_8c381_row16_col5\" class=\"data row16 col5\" >0.037176</td>\n",
       "                        <td id=\"T_8c381_row16_col6\" class=\"data row16 col6\" >0.139993</td>\n",
       "                        <td id=\"T_8c381_row16_col7\" class=\"data row16 col7\" >0.159570</td>\n",
       "                        <td id=\"T_8c381_row16_col8\" class=\"data row16 col8\" >0.140640</td>\n",
       "                        <td id=\"T_8c381_row16_col9\" class=\"data row16 col9\" >0.163268</td>\n",
       "                        <td id=\"T_8c381_row16_col10\" class=\"data row16 col10\" >0.165493</td>\n",
       "                        <td id=\"T_8c381_row16_col11\" class=\"data row16 col11\" >0.180383</td>\n",
       "                        <td id=\"T_8c381_row16_col12\" class=\"data row16 col12\" >0.833296</td>\n",
       "                        <td id=\"T_8c381_row16_col13\" class=\"data row16 col13\" >0.861929</td>\n",
       "                        <td id=\"T_8c381_row16_col14\" class=\"data row16 col14\" >0.883772</td>\n",
       "                        <td id=\"T_8c381_row16_col15\" class=\"data row16 col15\" >0.950805</td>\n",
       "                        <td id=\"T_8c381_row16_col16\" class=\"data row16 col16\" >1.000000</td>\n",
       "                        <td id=\"T_8c381_row16_col17\" class=\"data row16 col17\" >0.950776</td>\n",
       "                        <td id=\"T_8c381_row16_col18\" class=\"data row16 col18\" >0.221227</td>\n",
       "                        <td id=\"T_8c381_row16_col19\" class=\"data row16 col19\" >0.167525</td>\n",
       "                        <td id=\"T_8c381_row16_col20\" class=\"data row16 col20\" >0.229472</td>\n",
       "                        <td id=\"T_8c381_row16_col21\" class=\"data row16 col21\" >0.289480</td>\n",
       "                        <td id=\"T_8c381_row16_col22\" class=\"data row16 col22\" >0.160708</td>\n",
       "                        <td id=\"T_8c381_row16_col23\" class=\"data row16 col23\" >0.149258</td>\n",
       "                        <td id=\"T_8c381_row16_col24\" class=\"data row16 col24\" >-0.003906</td>\n",
       "                        <td id=\"T_8c381_row16_col25\" class=\"data row16 col25\" >0.261583</td>\n",
       "            </tr>\n",
       "            <tr>\n",
       "                        <th id=\"T_8c381_level0_row17\" class=\"row_heading level0 row17\" >BILL6</th>\n",
       "                        <td id=\"T_8c381_row17_col0\" class=\"data row17 col0\" >-0.008704</td>\n",
       "                        <td id=\"T_8c381_row17_col1\" class=\"data row17 col1\" >0.266018</td>\n",
       "                        <td id=\"T_8c381_row17_col2\" class=\"data row17 col2\" >0.010197</td>\n",
       "                        <td id=\"T_8c381_row17_col3\" class=\"data row17 col3\" >-0.013109</td>\n",
       "                        <td id=\"T_8c381_row17_col4\" class=\"data row17 col4\" >-0.026021</td>\n",
       "                        <td id=\"T_8c381_row17_col5\" class=\"data row17 col5\" >0.038703</td>\n",
       "                        <td id=\"T_8c381_row17_col6\" class=\"data row17 col6\" >0.137273</td>\n",
       "                        <td id=\"T_8c381_row17_col7\" class=\"data row17 col7\" >0.157020</td>\n",
       "                        <td id=\"T_8c381_row17_col8\" class=\"data row17 col8\" >0.138897</td>\n",
       "                        <td id=\"T_8c381_row17_col9\" class=\"data row17 col9\" >0.162981</td>\n",
       "                        <td id=\"T_8c381_row17_col10\" class=\"data row17 col10\" >0.166368</td>\n",
       "                        <td id=\"T_8c381_row17_col11\" class=\"data row17 col11\" >0.175704</td>\n",
       "                        <td id=\"T_8c381_row17_col12\" class=\"data row17 col12\" >0.805434</td>\n",
       "                        <td id=\"T_8c381_row17_col13\" class=\"data row17 col13\" >0.831482</td>\n",
       "                        <td id=\"T_8c381_row17_col14\" class=\"data row17 col14\" >0.856840</td>\n",
       "                        <td id=\"T_8c381_row17_col15\" class=\"data row17 col15\" >0.910709</td>\n",
       "                        <td id=\"T_8c381_row17_col16\" class=\"data row17 col16\" >0.950776</td>\n",
       "                        <td id=\"T_8c381_row17_col17\" class=\"data row17 col17\" >1.000000</td>\n",
       "                        <td id=\"T_8c381_row17_col18\" class=\"data row17 col18\" >0.199624</td>\n",
       "                        <td id=\"T_8c381_row17_col19\" class=\"data row17 col19\" >0.173116</td>\n",
       "                        <td id=\"T_8c381_row17_col20\" class=\"data row17 col20\" >0.214103</td>\n",
       "                        <td id=\"T_8c381_row17_col21\" class=\"data row17 col21\" >0.246868</td>\n",
       "                        <td id=\"T_8c381_row17_col22\" class=\"data row17 col22\" >0.322993</td>\n",
       "                        <td id=\"T_8c381_row17_col23\" class=\"data row17 col23\" >0.116491</td>\n",
       "                        <td id=\"T_8c381_row17_col24\" class=\"data row17 col24\" >-0.002984</td>\n",
       "                        <td id=\"T_8c381_row17_col25\" class=\"data row17 col25\" >0.255558</td>\n",
       "            </tr>\n",
       "            <tr>\n",
       "                        <th id=\"T_8c381_level0_row18\" class=\"row_heading level0 row18\" >PAY1</th>\n",
       "                        <td id=\"T_8c381_row18_col0\" class=\"data row18 col0\" >-0.006517</td>\n",
       "                        <td id=\"T_8c381_row18_col1\" class=\"data row18 col1\" >0.204711</td>\n",
       "                        <td id=\"T_8c381_row18_col2\" class=\"data row18 col2\" >0.008228</td>\n",
       "                        <td id=\"T_8c381_row18_col3\" class=\"data row18 col3\" >-0.048425</td>\n",
       "                        <td id=\"T_8c381_row18_col4\" class=\"data row18 col4\" >-0.033967</td>\n",
       "                        <td id=\"T_8c381_row18_col5\" class=\"data row18 col5\" >0.031427</td>\n",
       "                        <td id=\"T_8c381_row18_col6\" class=\"data row18 col6\" >-0.097741</td>\n",
       "                        <td id=\"T_8c381_row18_col7\" class=\"data row18 col7\" >-0.134728</td>\n",
       "                        <td id=\"T_8c381_row18_col8\" class=\"data row18 col8\" >-0.044193</td>\n",
       "                        <td id=\"T_8c381_row18_col9\" class=\"data row18 col9\" >-0.051893</td>\n",
       "                        <td id=\"T_8c381_row18_col10\" class=\"data row18 col10\" >-0.057187</td>\n",
       "                        <td id=\"T_8c381_row18_col11\" class=\"data row18 col11\" >-0.060955</td>\n",
       "                        <td id=\"T_8c381_row18_col12\" class=\"data row18 col12\" >0.149266</td>\n",
       "                        <td id=\"T_8c381_row18_col13\" class=\"data row18 col13\" >0.297147</td>\n",
       "                        <td id=\"T_8c381_row18_col14\" class=\"data row18 col14\" >0.237054</td>\n",
       "                        <td id=\"T_8c381_row18_col15\" class=\"data row18 col15\" >0.232910</td>\n",
       "                        <td id=\"T_8c381_row18_col16\" class=\"data row18 col16\" >0.221227</td>\n",
       "                        <td id=\"T_8c381_row18_col17\" class=\"data row18 col17\" >0.199624</td>\n",
       "                        <td id=\"T_8c381_row18_col18\" class=\"data row18 col18\" >1.000000</td>\n",
       "                        <td id=\"T_8c381_row18_col19\" class=\"data row18 col19\" >0.127062</td>\n",
       "                        <td id=\"T_8c381_row18_col20\" class=\"data row18 col20\" >0.181680</td>\n",
       "                        <td id=\"T_8c381_row18_col21\" class=\"data row18 col21\" >0.183550</td>\n",
       "                        <td id=\"T_8c381_row18_col22\" class=\"data row18 col22\" >0.166787</td>\n",
       "                        <td id=\"T_8c381_row18_col23\" class=\"data row18 col23\" >0.241340</td>\n",
       "                        <td id=\"T_8c381_row18_col24\" class=\"data row18 col24\" >-0.075778</td>\n",
       "                        <td id=\"T_8c381_row18_col25\" class=\"data row18 col25\" >0.203552</td>\n",
       "            </tr>\n",
       "            <tr>\n",
       "                        <th id=\"T_8c381_level0_row19\" class=\"row_heading level0 row19\" >PAY2</th>\n",
       "                        <td id=\"T_8c381_row19_col0\" class=\"data row19 col0\" >-0.005715</td>\n",
       "                        <td id=\"T_8c381_row19_col1\" class=\"data row19 col1\" >0.183572</td>\n",
       "                        <td id=\"T_8c381_row19_col2\" class=\"data row19 col2\" >0.003856</td>\n",
       "                        <td id=\"T_8c381_row19_col3\" class=\"data row19 col3\" >-0.041795</td>\n",
       "                        <td id=\"T_8c381_row19_col4\" class=\"data row19 col4\" >-0.024210</td>\n",
       "                        <td id=\"T_8c381_row19_col5\" class=\"data row19 col5\" >0.022456</td>\n",
       "                        <td id=\"T_8c381_row19_col6\" class=\"data row19 col6\" >-0.053233</td>\n",
       "                        <td id=\"T_8c381_row19_col7\" class=\"data row19 col7\" >-0.061539</td>\n",
       "                        <td id=\"T_8c381_row19_col8\" class=\"data row19 col8\" >-0.110254</td>\n",
       "                        <td id=\"T_8c381_row19_col9\" class=\"data row19 col9\" >-0.034985</td>\n",
       "                        <td id=\"T_8c381_row19_col10\" class=\"data row19 col10\" >-0.029152</td>\n",
       "                        <td id=\"T_8c381_row19_col11\" class=\"data row19 col11\" >-0.042364</td>\n",
       "                        <td id=\"T_8c381_row19_col12\" class=\"data row19 col12\" >0.079930</td>\n",
       "                        <td id=\"T_8c381_row19_col13\" class=\"data row19 col13\" >0.068975</td>\n",
       "                        <td id=\"T_8c381_row19_col14\" class=\"data row19 col14\" >0.388295</td>\n",
       "                        <td id=\"T_8c381_row19_col15\" class=\"data row19 col15\" >0.196847</td>\n",
       "                        <td id=\"T_8c381_row19_col16\" class=\"data row19 col16\" >0.167525</td>\n",
       "                        <td id=\"T_8c381_row19_col17\" class=\"data row19 col17\" >0.173116</td>\n",
       "                        <td id=\"T_8c381_row19_col18\" class=\"data row19 col18\" >0.127062</td>\n",
       "                        <td id=\"T_8c381_row19_col19\" class=\"data row19 col19\" >1.000000</td>\n",
       "                        <td id=\"T_8c381_row19_col20\" class=\"data row19 col20\" >0.173219</td>\n",
       "                        <td id=\"T_8c381_row19_col21\" class=\"data row19 col21\" >0.148366</td>\n",
       "                        <td id=\"T_8c381_row19_col22\" class=\"data row19 col22\" >0.252071</td>\n",
       "                        <td id=\"T_8c381_row19_col23\" class=\"data row19 col23\" >0.117034</td>\n",
       "                        <td id=\"T_8c381_row19_col24\" class=\"data row19 col24\" >-0.054450</td>\n",
       "                        <td id=\"T_8c381_row19_col25\" class=\"data row19 col25\" >0.183475</td>\n",
       "            </tr>\n",
       "            <tr>\n",
       "                        <th id=\"T_8c381_level0_row20\" class=\"row_heading level0 row20\" >PAY3</th>\n",
       "                        <td id=\"T_8c381_row20_col0\" class=\"data row20 col0\" >0.009245</td>\n",
       "                        <td id=\"T_8c381_row20_col1\" class=\"data row20 col1\" >0.229278</td>\n",
       "                        <td id=\"T_8c381_row20_col2\" class=\"data row20 col2\" >0.012448</td>\n",
       "                        <td id=\"T_8c381_row20_col3\" class=\"data row20 col3\" >-0.065623</td>\n",
       "                        <td id=\"T_8c381_row20_col4\" class=\"data row20 col4\" >-0.019250</td>\n",
       "                        <td id=\"T_8c381_row20_col5\" class=\"data row20 col5\" >0.035373</td>\n",
       "                        <td id=\"T_8c381_row20_col6\" class=\"data row20 col6\" >-0.075100</td>\n",
       "                        <td id=\"T_8c381_row20_col7\" class=\"data row20 col7\" >-0.080152</td>\n",
       "                        <td id=\"T_8c381_row20_col8\" class=\"data row20 col8\" >-0.078757</td>\n",
       "                        <td id=\"T_8c381_row20_col9\" class=\"data row20 col9\" >-0.131017</td>\n",
       "                        <td id=\"T_8c381_row20_col10\" class=\"data row20 col10\" >-0.034132</td>\n",
       "                        <td id=\"T_8c381_row20_col11\" class=\"data row20 col11\" >-0.043924</td>\n",
       "                        <td id=\"T_8c381_row20_col12\" class=\"data row20 col12\" >0.154963</td>\n",
       "                        <td id=\"T_8c381_row20_col13\" class=\"data row20 col13\" >0.152297</td>\n",
       "                        <td id=\"T_8c381_row20_col14\" class=\"data row20 col14\" >0.164769</td>\n",
       "                        <td id=\"T_8c381_row20_col15\" class=\"data row20 col15\" >0.296013</td>\n",
       "                        <td id=\"T_8c381_row20_col16\" class=\"data row20 col16\" >0.229472</td>\n",
       "                        <td id=\"T_8c381_row20_col17\" class=\"data row20 col17\" >0.214103</td>\n",
       "                        <td id=\"T_8c381_row20_col18\" class=\"data row20 col18\" >0.181680</td>\n",
       "                        <td id=\"T_8c381_row20_col19\" class=\"data row20 col19\" >0.173219</td>\n",
       "                        <td id=\"T_8c381_row20_col20\" class=\"data row20 col20\" >1.000000</td>\n",
       "                        <td id=\"T_8c381_row20_col21\" class=\"data row20 col21\" >0.204047</td>\n",
       "                        <td id=\"T_8c381_row20_col22\" class=\"data row20 col22\" >0.165645</td>\n",
       "                        <td id=\"T_8c381_row20_col23\" class=\"data row20 col23\" >0.143873</td>\n",
       "                        <td id=\"T_8c381_row20_col24\" class=\"data row20 col24\" >-0.057052</td>\n",
       "                        <td id=\"T_8c381_row20_col25\" class=\"data row20 col25\" >0.228306</td>\n",
       "            </tr>\n",
       "            <tr>\n",
       "                        <th id=\"T_8c381_level0_row21\" class=\"row_heading level0 row21\" >PAY4</th>\n",
       "                        <td id=\"T_8c381_row21_col0\" class=\"data row21 col0\" >0.003684</td>\n",
       "                        <td id=\"T_8c381_row21_col1\" class=\"data row21 col1\" >0.205825</td>\n",
       "                        <td id=\"T_8c381_row21_col2\" class=\"data row21 col2\" >-0.003352</td>\n",
       "                        <td id=\"T_8c381_row21_col3\" class=\"data row21 col3\" >-0.030053</td>\n",
       "                        <td id=\"T_8c381_row21_col4\" class=\"data row21 col4\" >-0.022019</td>\n",
       "                        <td id=\"T_8c381_row21_col5\" class=\"data row21 col5\" >0.037371</td>\n",
       "                        <td id=\"T_8c381_row21_col6\" class=\"data row21 col6\" >-0.068801</td>\n",
       "                        <td id=\"T_8c381_row21_col7\" class=\"data row21 col7\" >-0.064155</td>\n",
       "                        <td id=\"T_8c381_row21_col8\" class=\"data row21 col8\" >-0.064287</td>\n",
       "                        <td id=\"T_8c381_row21_col9\" class=\"data row21 col9\" >-0.077761</td>\n",
       "                        <td id=\"T_8c381_row21_col10\" class=\"data row21 col10\" >-0.135494</td>\n",
       "                        <td id=\"T_8c381_row21_col11\" class=\"data row21 col11\" >-0.038745</td>\n",
       "                        <td id=\"T_8c381_row21_col12\" class=\"data row21 col12\" >0.160850</td>\n",
       "                        <td id=\"T_8c381_row21_col13\" class=\"data row21 col13\" >0.161540</td>\n",
       "                        <td id=\"T_8c381_row21_col14\" class=\"data row21 col14\" >0.172370</td>\n",
       "                        <td id=\"T_8c381_row21_col15\" class=\"data row21 col15\" >0.128637</td>\n",
       "                        <td id=\"T_8c381_row21_col16\" class=\"data row21 col16\" >0.289480</td>\n",
       "                        <td id=\"T_8c381_row21_col17\" class=\"data row21 col17\" >0.246868</td>\n",
       "                        <td id=\"T_8c381_row21_col18\" class=\"data row21 col18\" >0.183550</td>\n",
       "                        <td id=\"T_8c381_row21_col19\" class=\"data row21 col19\" >0.148366</td>\n",
       "                        <td id=\"T_8c381_row21_col20\" class=\"data row21 col20\" >0.204047</td>\n",
       "                        <td id=\"T_8c381_row21_col21\" class=\"data row21 col21\" >1.000000</td>\n",
       "                        <td id=\"T_8c381_row21_col22\" class=\"data row21 col22\" >0.168016</td>\n",
       "                        <td id=\"T_8c381_row21_col23\" class=\"data row21 col23\" >0.152375</td>\n",
       "                        <td id=\"T_8c381_row21_col24\" class=\"data row21 col24\" >-0.059457</td>\n",
       "                        <td id=\"T_8c381_row21_col25\" class=\"data row21 col25\" >0.203102</td>\n",
       "            </tr>\n",
       "            <tr>\n",
       "                        <th id=\"T_8c381_level0_row22\" class=\"row_heading level0 row22\" >PAY5</th>\n",
       "                        <td id=\"T_8c381_row22_col0\" class=\"data row22 col0\" >0.009573</td>\n",
       "                        <td id=\"T_8c381_row22_col1\" class=\"data row22 col1\" >0.207818</td>\n",
       "                        <td id=\"T_8c381_row22_col2\" class=\"data row22 col2\" >-0.000292</td>\n",
       "                        <td id=\"T_8c381_row22_col3\" class=\"data row22 col3\" >-0.041793</td>\n",
       "                        <td id=\"T_8c381_row22_col4\" class=\"data row22 col4\" >0.003182</td>\n",
       "                        <td id=\"T_8c381_row22_col5\" class=\"data row22 col5\" >0.029809</td>\n",
       "                        <td id=\"T_8c381_row22_col6\" class=\"data row22 col6\" >-0.039792</td>\n",
       "                        <td id=\"T_8c381_row22_col7\" class=\"data row22 col7\" >-0.036101</td>\n",
       "                        <td id=\"T_8c381_row22_col8\" class=\"data row22 col8\" >-0.047113</td>\n",
       "                        <td id=\"T_8c381_row22_col9\" class=\"data row22 col9\" >-0.055633</td>\n",
       "                        <td id=\"T_8c381_row22_col10\" class=\"data row22 col10\" >-0.059251</td>\n",
       "                        <td id=\"T_8c381_row22_col11\" class=\"data row22 col11\" >-0.129060</td>\n",
       "                        <td id=\"T_8c381_row22_col12\" class=\"data row22 col12\" >0.178098</td>\n",
       "                        <td id=\"T_8c381_row22_col13\" class=\"data row22 col13\" >0.175230</td>\n",
       "                        <td id=\"T_8c381_row22_col14\" class=\"data row22 col14\" >0.226400</td>\n",
       "                        <td id=\"T_8c381_row22_col15\" class=\"data row22 col15\" >0.173921</td>\n",
       "                        <td id=\"T_8c381_row22_col16\" class=\"data row22 col16\" >0.160708</td>\n",
       "                        <td id=\"T_8c381_row22_col17\" class=\"data row22 col17\" >0.322993</td>\n",
       "                        <td id=\"T_8c381_row22_col18\" class=\"data row22 col18\" >0.166787</td>\n",
       "                        <td id=\"T_8c381_row22_col19\" class=\"data row22 col19\" >0.252071</td>\n",
       "                        <td id=\"T_8c381_row22_col20\" class=\"data row22 col20\" >0.165645</td>\n",
       "                        <td id=\"T_8c381_row22_col21\" class=\"data row22 col21\" >0.168016</td>\n",
       "                        <td id=\"T_8c381_row22_col22\" class=\"data row22 col22\" >1.000000</td>\n",
       "                        <td id=\"T_8c381_row22_col23\" class=\"data row22 col23\" >0.174195</td>\n",
       "                        <td id=\"T_8c381_row22_col24\" class=\"data row22 col24\" >-0.049785</td>\n",
       "                        <td id=\"T_8c381_row22_col25\" class=\"data row22 col25\" >0.204716</td>\n",
       "            </tr>\n",
       "            <tr>\n",
       "                        <th id=\"T_8c381_level0_row23\" class=\"row_heading level0 row23\" >PAY6</th>\n",
       "                        <td id=\"T_8c381_row23_col0\" class=\"data row23 col0\" >-0.004188</td>\n",
       "                        <td id=\"T_8c381_row23_col1\" class=\"data row23 col1\" >0.235237</td>\n",
       "                        <td id=\"T_8c381_row23_col2\" class=\"data row23 col2\" >0.004133</td>\n",
       "                        <td id=\"T_8c381_row23_col3\" class=\"data row23 col3\" >-0.064978</td>\n",
       "                        <td id=\"T_8c381_row23_col4\" class=\"data row23 col4\" >-0.009660</td>\n",
       "                        <td id=\"T_8c381_row23_col5\" class=\"data row23 col5\" >0.018757</td>\n",
       "                        <td id=\"T_8c381_row23_col6\" class=\"data row23 col6\" >-0.057298</td>\n",
       "                        <td id=\"T_8c381_row23_col7\" class=\"data row23 col7\" >-0.054381</td>\n",
       "                        <td id=\"T_8c381_row23_col8\" class=\"data row23 col8\" >-0.054256</td>\n",
       "                        <td id=\"T_8c381_row23_col9\" class=\"data row23 col9\" >-0.044266</td>\n",
       "                        <td id=\"T_8c381_row23_col10\" class=\"data row23 col10\" >-0.056817</td>\n",
       "                        <td id=\"T_8c381_row23_col11\" class=\"data row23 col11\" >-0.071531</td>\n",
       "                        <td id=\"T_8c381_row23_col12\" class=\"data row23 col12\" >0.160495</td>\n",
       "                        <td id=\"T_8c381_row23_col13\" class=\"data row23 col13\" >0.171199</td>\n",
       "                        <td id=\"T_8c381_row23_col14\" class=\"data row23 col14\" >0.164595</td>\n",
       "                        <td id=\"T_8c381_row23_col15\" class=\"data row23 col15\" >0.154553</td>\n",
       "                        <td id=\"T_8c381_row23_col16\" class=\"data row23 col16\" >0.149258</td>\n",
       "                        <td id=\"T_8c381_row23_col17\" class=\"data row23 col17\" >0.116491</td>\n",
       "                        <td id=\"T_8c381_row23_col18\" class=\"data row23 col18\" >0.241340</td>\n",
       "                        <td id=\"T_8c381_row23_col19\" class=\"data row23 col19\" >0.117034</td>\n",
       "                        <td id=\"T_8c381_row23_col20\" class=\"data row23 col20\" >0.143873</td>\n",
       "                        <td id=\"T_8c381_row23_col21\" class=\"data row23 col21\" >0.152375</td>\n",
       "                        <td id=\"T_8c381_row23_col22\" class=\"data row23 col22\" >0.174195</td>\n",
       "                        <td id=\"T_8c381_row23_col23\" class=\"data row23 col23\" >1.000000</td>\n",
       "                        <td id=\"T_8c381_row23_col24\" class=\"data row23 col24\" >-0.057582</td>\n",
       "                        <td id=\"T_8c381_row23_col25\" class=\"data row23 col25\" >0.233570</td>\n",
       "            </tr>\n",
       "            <tr>\n",
       "                        <th id=\"T_8c381_level0_row24\" class=\"row_heading level0 row24\" >DEFAULT</th>\n",
       "                        <td id=\"T_8c381_row24_col0\" class=\"data row24 col0\" >-0.001374</td>\n",
       "                        <td id=\"T_8c381_row24_col1\" class=\"data row24 col1\" >-0.125515</td>\n",
       "                        <td id=\"T_8c381_row24_col2\" class=\"data row24 col2\" >0.036561</td>\n",
       "                        <td id=\"T_8c381_row24_col3\" class=\"data row24 col3\" >0.041843</td>\n",
       "                        <td id=\"T_8c381_row24_col4\" class=\"data row24 col4\" >-0.034006</td>\n",
       "                        <td id=\"T_8c381_row24_col5\" class=\"data row24 col5\" >-0.000556</td>\n",
       "                        <td id=\"T_8c381_row24_col6\" class=\"data row24 col6\" >0.308342</td>\n",
       "                        <td id=\"T_8c381_row24_col7\" class=\"data row24 col7\" >0.275134</td>\n",
       "                        <td id=\"T_8c381_row24_col8\" class=\"data row24 col8\" >0.255066</td>\n",
       "                        <td id=\"T_8c381_row24_col9\" class=\"data row24 col9\" >0.240475</td>\n",
       "                        <td id=\"T_8c381_row24_col10\" class=\"data row24 col10\" >0.231431</td>\n",
       "                        <td id=\"T_8c381_row24_col11\" class=\"data row24 col11\" >0.211557</td>\n",
       "                        <td id=\"T_8c381_row24_col12\" class=\"data row24 col12\" >-0.019287</td>\n",
       "                        <td id=\"T_8c381_row24_col13\" class=\"data row24 col13\" >-0.014831</td>\n",
       "                        <td id=\"T_8c381_row24_col14\" class=\"data row24 col14\" >-0.015470</td>\n",
       "                        <td id=\"T_8c381_row24_col15\" class=\"data row24 col15\" >-0.007242</td>\n",
       "                        <td id=\"T_8c381_row24_col16\" class=\"data row24 col16\" >-0.003906</td>\n",
       "                        <td id=\"T_8c381_row24_col17\" class=\"data row24 col17\" >-0.002984</td>\n",
       "                        <td id=\"T_8c381_row24_col18\" class=\"data row24 col18\" >-0.075778</td>\n",
       "                        <td id=\"T_8c381_row24_col19\" class=\"data row24 col19\" >-0.054450</td>\n",
       "                        <td id=\"T_8c381_row24_col20\" class=\"data row24 col20\" >-0.057052</td>\n",
       "                        <td id=\"T_8c381_row24_col21\" class=\"data row24 col21\" >-0.059457</td>\n",
       "                        <td id=\"T_8c381_row24_col22\" class=\"data row24 col22\" >-0.049785</td>\n",
       "                        <td id=\"T_8c381_row24_col23\" class=\"data row24 col23\" >-0.057582</td>\n",
       "                        <td id=\"T_8c381_row24_col24\" class=\"data row24 col24\" >1.000000</td>\n",
       "                        <td id=\"T_8c381_row24_col25\" class=\"data row24 col25\" >-0.126252</td>\n",
       "            </tr>\n",
       "            <tr>\n",
       "                        <th id=\"T_8c381_level0_row25\" class=\"row_heading level0 row25\" >LIMIT_NUM</th>\n",
       "                        <td id=\"T_8c381_row25_col0\" class=\"data row25 col0\" >0.000372</td>\n",
       "                        <td id=\"T_8c381_row25_col1\" class=\"data row25 col1\" >0.994277</td>\n",
       "                        <td id=\"T_8c381_row25_col2\" class=\"data row25 col2\" >-0.021397</td>\n",
       "                        <td id=\"T_8c381_row25_col3\" class=\"data row25 col3\" >-0.248475</td>\n",
       "                        <td id=\"T_8c381_row25_col4\" class=\"data row25 col4\" >-0.115448</td>\n",
       "                        <td id=\"T_8c381_row25_col5\" class=\"data row25 col5\" >0.151616</td>\n",
       "                        <td id=\"T_8c381_row25_col6\" class=\"data row25 col6\" >-0.198994</td>\n",
       "                        <td id=\"T_8c381_row25_col7\" class=\"data row25 col7\" >-0.238428</td>\n",
       "                        <td id=\"T_8c381_row25_col8\" class=\"data row25 col8\" >-0.242275</td>\n",
       "                        <td id=\"T_8c381_row25_col9\" class=\"data row25 col9\" >-0.219844</td>\n",
       "                        <td id=\"T_8c381_row25_col10\" class=\"data row25 col10\" >-0.209978</td>\n",
       "                        <td id=\"T_8c381_row25_col11\" class=\"data row25 col11\" >-0.215661</td>\n",
       "                        <td id=\"T_8c381_row25_col12\" class=\"data row25 col12\" >0.259910</td>\n",
       "                        <td id=\"T_8c381_row25_col13\" class=\"data row25 col13\" >0.252709</td>\n",
       "                        <td id=\"T_8c381_row25_col14\" class=\"data row25 col14\" >0.260440</td>\n",
       "                        <td id=\"T_8c381_row25_col15\" class=\"data row25 col15\" >0.271601</td>\n",
       "                        <td id=\"T_8c381_row25_col16\" class=\"data row25 col16\" >0.261583</td>\n",
       "                        <td id=\"T_8c381_row25_col17\" class=\"data row25 col17\" >0.255558</td>\n",
       "                        <td id=\"T_8c381_row25_col18\" class=\"data row25 col18\" >0.203552</td>\n",
       "                        <td id=\"T_8c381_row25_col19\" class=\"data row25 col19\" >0.183475</td>\n",
       "                        <td id=\"T_8c381_row25_col20\" class=\"data row25 col20\" >0.228306</td>\n",
       "                        <td id=\"T_8c381_row25_col21\" class=\"data row25 col21\" >0.203102</td>\n",
       "                        <td id=\"T_8c381_row25_col22\" class=\"data row25 col22\" >0.204716</td>\n",
       "                        <td id=\"T_8c381_row25_col23\" class=\"data row25 col23\" >0.233570</td>\n",
       "                        <td id=\"T_8c381_row25_col24\" class=\"data row25 col24\" >-0.126252</td>\n",
       "                        <td id=\"T_8c381_row25_col25\" class=\"data row25 col25\" >1.000000</td>\n",
       "            </tr>\n",
       "    </tbody></table>"
      ],
      "text/plain": [
       "<pandas.io.formats.style.Styler at 0x7fb252874d90>"
      ]
     },
     "execution_count": 41,
     "metadata": {},
     "output_type": "execute_result"
    }
   ],
   "source": [
    "import seaborn as sb \n",
    "corr1 = your_data.corr()\n",
    "corr1.style.background_gradient(cmap=\"Blues\")"
   ]
  },
  {
   "cell_type": "code",
   "execution_count": null,
   "metadata": {
    "scrolled": true
   },
   "outputs": [],
   "source": [
    "# import seaborn as sb \n",
    "# df_corr_clean = your_data.drop(columns=['ID','PAY1','PAY2','PAY3','PAY4','PAY5','PAY6','BILL1','BILL2','BILL3','BILL4','BILL5','BILL6','LIMIT_NUM'])\n",
    "# corr2 = df_corr_clean.corr()\n",
    "# corr2.style.background_gradient(cmap=\"Blues\")"
   ]
  },
  {
   "cell_type": "code",
   "execution_count": 42,
   "metadata": {},
   "outputs": [
    {
     "data": {
      "text/html": [
       "<style  type=\"text/css\" >\n",
       "#T_33ff1_row0_col0,#T_33ff1_row1_col1,#T_33ff1_row2_col2,#T_33ff1_row3_col3,#T_33ff1_row4_col4,#T_33ff1_row5_col5,#T_33ff1_row6_col6{\n",
       "            background-color:  #08306b;\n",
       "            color:  #f1f1f1;\n",
       "        }#T_33ff1_row0_col1,#T_33ff1_row0_col2,#T_33ff1_row0_col5,#T_33ff1_row0_col6,#T_33ff1_row2_col0,#T_33ff1_row3_col4,#T_33ff1_row4_col3{\n",
       "            background-color:  #f7fbff;\n",
       "            color:  #000000;\n",
       "        }#T_33ff1_row0_col3{\n",
       "            background-color:  #cde0f1;\n",
       "            color:  #000000;\n",
       "        }#T_33ff1_row0_col4{\n",
       "            background-color:  #94c4df;\n",
       "            color:  #000000;\n",
       "        }#T_33ff1_row1_col0{\n",
       "            background-color:  #d4e4f4;\n",
       "            color:  #000000;\n",
       "        }#T_33ff1_row1_col2{\n",
       "            background-color:  #cfe1f2;\n",
       "            color:  #000000;\n",
       "        }#T_33ff1_row1_col3,#T_33ff1_row5_col3{\n",
       "            background-color:  #b2d2e8;\n",
       "            color:  #000000;\n",
       "        }#T_33ff1_row1_col4{\n",
       "            background-color:  #a4cce3;\n",
       "            color:  #000000;\n",
       "        }#T_33ff1_row1_col5{\n",
       "            background-color:  #d1e2f3;\n",
       "            color:  #000000;\n",
       "        }#T_33ff1_row1_col6{\n",
       "            background-color:  #dbe9f6;\n",
       "            color:  #000000;\n",
       "        }#T_33ff1_row2_col1{\n",
       "            background-color:  #f1f7fd;\n",
       "            color:  #000000;\n",
       "        }#T_33ff1_row2_col3{\n",
       "            background-color:  #d0e1f2;\n",
       "            color:  #000000;\n",
       "        }#T_33ff1_row2_col4{\n",
       "            background-color:  #8abfdd;\n",
       "            color:  #000000;\n",
       "        }#T_33ff1_row2_col5{\n",
       "            background-color:  #c7dcef;\n",
       "            color:  #000000;\n",
       "        }#T_33ff1_row2_col6{\n",
       "            background-color:  #d9e8f5;\n",
       "            color:  #000000;\n",
       "        }#T_33ff1_row3_col0,#T_33ff1_row4_col1{\n",
       "            background-color:  #e2edf8;\n",
       "            color:  #000000;\n",
       "        }#T_33ff1_row3_col1{\n",
       "            background-color:  #edf4fc;\n",
       "            color:  #000000;\n",
       "        }#T_33ff1_row3_col2{\n",
       "            background-color:  #e5eff9;\n",
       "            color:  #000000;\n",
       "        }#T_33ff1_row3_col5{\n",
       "            background-color:  #d0e2f2;\n",
       "            color:  #000000;\n",
       "        }#T_33ff1_row3_col6{\n",
       "            background-color:  #e7f1fa;\n",
       "            color:  #000000;\n",
       "        }#T_33ff1_row4_col0{\n",
       "            background-color:  #afd1e7;\n",
       "            color:  #000000;\n",
       "        }#T_33ff1_row4_col2{\n",
       "            background-color:  #a8cee4;\n",
       "            color:  #000000;\n",
       "        }#T_33ff1_row4_col5{\n",
       "            background-color:  #dceaf6;\n",
       "            color:  #000000;\n",
       "        }#T_33ff1_row4_col6{\n",
       "            background-color:  #e1edf8;\n",
       "            color:  #000000;\n",
       "        }#T_33ff1_row5_col0{\n",
       "            background-color:  #f2f7fd;\n",
       "            color:  #000000;\n",
       "        }#T_33ff1_row5_col1{\n",
       "            background-color:  #eef5fc;\n",
       "            color:  #000000;\n",
       "        }#T_33ff1_row5_col2{\n",
       "            background-color:  #c1d9ed;\n",
       "            color:  #000000;\n",
       "        }#T_33ff1_row5_col4{\n",
       "            background-color:  #c3daee;\n",
       "            color:  #000000;\n",
       "        }#T_33ff1_row5_col6{\n",
       "            background-color:  #b7d4ea;\n",
       "            color:  #000000;\n",
       "        }#T_33ff1_row6_col0{\n",
       "            background-color:  #e3eef9;\n",
       "            color:  #000000;\n",
       "        }#T_33ff1_row6_col1{\n",
       "            background-color:  #ebf3fb;\n",
       "            color:  #000000;\n",
       "        }#T_33ff1_row6_col2{\n",
       "            background-color:  #caddf0;\n",
       "            color:  #000000;\n",
       "        }#T_33ff1_row6_col3{\n",
       "            background-color:  #bfd8ed;\n",
       "            color:  #000000;\n",
       "        }#T_33ff1_row6_col4{\n",
       "            background-color:  #b8d5ea;\n",
       "            color:  #000000;\n",
       "        }#T_33ff1_row6_col5{\n",
       "            background-color:  #a6cee4;\n",
       "            color:  #000000;\n",
       "        }</style><table id=\"T_33ff1_\" ><thead>    <tr>        <th class=\"blank level0\" ></th>        <th class=\"col_heading level0 col0\" >LIMIT</th>        <th class=\"col_heading level0 col1\" >SEX</th>        <th class=\"col_heading level0 col2\" >EDUCATION</th>        <th class=\"col_heading level0 col3\" >MARITAL</th>        <th class=\"col_heading level0 col4\" >AGE</th>        <th class=\"col_heading level0 col5\" >STATUS7</th>        <th class=\"col_heading level0 col6\" >DEFAULT</th>    </tr></thead><tbody>\n",
       "                <tr>\n",
       "                        <th id=\"T_33ff1_level0_row0\" class=\"row_heading level0 row0\" >LIMIT</th>\n",
       "                        <td id=\"T_33ff1_row0_col0\" class=\"data row0 col0\" >1.000000</td>\n",
       "                        <td id=\"T_33ff1_row0_col1\" class=\"data row0 col1\" >-0.026835</td>\n",
       "                        <td id=\"T_33ff1_row0_col2\" class=\"data row0 col2\" >-0.251411</td>\n",
       "                        <td id=\"T_33ff1_row0_col3\" class=\"data row0 col3\" >-0.116890</td>\n",
       "                        <td id=\"T_33ff1_row0_col4\" class=\"data row0 col4\" >0.149488</td>\n",
       "                        <td id=\"T_33ff1_row0_col5\" class=\"data row0 col5\" >-0.215116</td>\n",
       "                        <td id=\"T_33ff1_row0_col6\" class=\"data row0 col6\" >-0.125515</td>\n",
       "            </tr>\n",
       "            <tr>\n",
       "                        <th id=\"T_33ff1_level0_row1\" class=\"row_heading level0 row1\" >SEX</th>\n",
       "                        <td id=\"T_33ff1_row1_col0\" class=\"data row1 col0\" >-0.026835</td>\n",
       "                        <td id=\"T_33ff1_row1_col1\" class=\"data row1 col1\" >1.000000</td>\n",
       "                        <td id=\"T_33ff1_row1_col2\" class=\"data row1 col2\" >0.006297</td>\n",
       "                        <td id=\"T_33ff1_row1_col3\" class=\"data row1 col3\" >0.028761</td>\n",
       "                        <td id=\"T_33ff1_row1_col4\" class=\"data row1 col4\" >0.085465</td>\n",
       "                        <td id=\"T_33ff1_row1_col5\" class=\"data row1 col5\" >0.021417</td>\n",
       "                        <td id=\"T_33ff1_row1_col6\" class=\"data row1 col6\" >0.036561</td>\n",
       "            </tr>\n",
       "            <tr>\n",
       "                        <th id=\"T_33ff1_level0_row2\" class=\"row_heading level0 row2\" >EDUCATION</th>\n",
       "                        <td id=\"T_33ff1_row2_col0\" class=\"data row2 col0\" >-0.251411</td>\n",
       "                        <td id=\"T_33ff1_row2_col1\" class=\"data row2 col1\" >0.006297</td>\n",
       "                        <td id=\"T_33ff1_row2_col2\" class=\"data row2 col2\" >1.000000</td>\n",
       "                        <td id=\"T_33ff1_row2_col3\" class=\"data row2 col3\" >-0.136459</td>\n",
       "                        <td id=\"T_33ff1_row2_col4\" class=\"data row2 col4\" >0.181004</td>\n",
       "                        <td id=\"T_33ff1_row2_col5\" class=\"data row2 col5\" >0.081283</td>\n",
       "                        <td id=\"T_33ff1_row2_col6\" class=\"data row2 col6\" >0.041843</td>\n",
       "            </tr>\n",
       "            <tr>\n",
       "                        <th id=\"T_33ff1_level0_row3\" class=\"row_heading level0 row3\" >MARITAL</th>\n",
       "                        <td id=\"T_33ff1_row3_col0\" class=\"data row3 col0\" >-0.116890</td>\n",
       "                        <td id=\"T_33ff1_row3_col1\" class=\"data row3 col1\" >0.028761</td>\n",
       "                        <td id=\"T_33ff1_row3_col2\" class=\"data row3 col2\" >-0.136459</td>\n",
       "                        <td id=\"T_33ff1_row3_col3\" class=\"data row3 col3\" >1.000000</td>\n",
       "                        <td id=\"T_33ff1_row3_col4\" class=\"data row3 col4\" >-0.419976</td>\n",
       "                        <td id=\"T_33ff1_row3_col5\" class=\"data row3 col5\" >0.026180</td>\n",
       "                        <td id=\"T_33ff1_row3_col6\" class=\"data row3 col6\" >-0.034006</td>\n",
       "            </tr>\n",
       "            <tr>\n",
       "                        <th id=\"T_33ff1_level0_row4\" class=\"row_heading level0 row4\" >AGE</th>\n",
       "                        <td id=\"T_33ff1_row4_col0\" class=\"data row4 col0\" >0.149488</td>\n",
       "                        <td id=\"T_33ff1_row4_col1\" class=\"data row4 col1\" >0.085465</td>\n",
       "                        <td id=\"T_33ff1_row4_col2\" class=\"data row4 col2\" >0.181004</td>\n",
       "                        <td id=\"T_33ff1_row4_col3\" class=\"data row4 col3\" >-0.419976</td>\n",
       "                        <td id=\"T_33ff1_row4_col4\" class=\"data row4 col4\" >1.000000</td>\n",
       "                        <td id=\"T_33ff1_row4_col5\" class=\"data row4 col5\" >-0.052938</td>\n",
       "                        <td id=\"T_33ff1_row4_col6\" class=\"data row4 col6\" >-0.000556</td>\n",
       "            </tr>\n",
       "            <tr>\n",
       "                        <th id=\"T_33ff1_level0_row5\" class=\"row_heading level0 row5\" >STATUS7</th>\n",
       "                        <td id=\"T_33ff1_row5_col0\" class=\"data row5 col0\" >-0.215116</td>\n",
       "                        <td id=\"T_33ff1_row5_col1\" class=\"data row5 col1\" >0.021417</td>\n",
       "                        <td id=\"T_33ff1_row5_col2\" class=\"data row5 col2\" >0.081283</td>\n",
       "                        <td id=\"T_33ff1_row5_col3\" class=\"data row5 col3\" >0.026180</td>\n",
       "                        <td id=\"T_33ff1_row5_col4\" class=\"data row5 col4\" >-0.052938</td>\n",
       "                        <td id=\"T_33ff1_row5_col5\" class=\"data row5 col5\" >1.000000</td>\n",
       "                        <td id=\"T_33ff1_row5_col6\" class=\"data row5 col6\" >0.211557</td>\n",
       "            </tr>\n",
       "            <tr>\n",
       "                        <th id=\"T_33ff1_level0_row6\" class=\"row_heading level0 row6\" >DEFAULT</th>\n",
       "                        <td id=\"T_33ff1_row6_col0\" class=\"data row6 col0\" >-0.125515</td>\n",
       "                        <td id=\"T_33ff1_row6_col1\" class=\"data row6 col1\" >0.036561</td>\n",
       "                        <td id=\"T_33ff1_row6_col2\" class=\"data row6 col2\" >0.041843</td>\n",
       "                        <td id=\"T_33ff1_row6_col3\" class=\"data row6 col3\" >-0.034006</td>\n",
       "                        <td id=\"T_33ff1_row6_col4\" class=\"data row6 col4\" >-0.000556</td>\n",
       "                        <td id=\"T_33ff1_row6_col5\" class=\"data row6 col5\" >0.211557</td>\n",
       "                        <td id=\"T_33ff1_row6_col6\" class=\"data row6 col6\" >1.000000</td>\n",
       "            </tr>\n",
       "    </tbody></table>"
      ],
      "text/plain": [
       "<pandas.io.formats.style.Styler at 0x7fb251ba3b50>"
      ]
     },
     "execution_count": 42,
     "metadata": {},
     "output_type": "execute_result"
    }
   ],
   "source": [
    "df_corr_profile_only = your_data.drop(columns=['ID','PAY1','PAY2','PAY3','PAY4','PAY5','PAY6','BILL1','BILL2','BILL3','BILL4','BILL5','BILL6','LIMIT_NUM','STATUS2','STATUS3','STATUS4','STATUS5','STATUS6',])\n",
    "corr2 = df_corr_profile_only.corr()\n",
    "corr2.style.background_gradient(cmap=\"Blues\")"
   ]
  },
  {
   "cell_type": "markdown",
   "metadata": {},
   "source": [
    "I also wanted to test if the client's profile alone has any correlation with a person defaulting. As the data for STATUS2-7 are tracking similar metrics and are highly correlated to each other, I decided to focus on just STATUS7. In the above chart, we can see that the STATUS7 has the strongest correlation at 0.21, and LIMIT next at -0.13. "
   ]
  },
  {
   "cell_type": "code",
   "execution_count": 43,
   "metadata": {},
   "outputs": [
    {
     "data": {
      "text/plain": [
       "<AxesSubplot:>"
      ]
     },
     "execution_count": 43,
     "metadata": {},
     "output_type": "execute_result"
    },
    {
     "data": {
      "image/png": "[encoded data removed]",
      "text/plain": [
       "<Figure size 432x288 with 2 Axes>"
      ]
     },
     "metadata": {
      "needs_background": "light"
     },
     "output_type": "display_data"
    }
   ],
   "source": [
    "import seaborn as sb \n",
    "sb.heatmap(corr2,cmap=\"Reds\")"
   ]
  },
  {
   "cell_type": "code",
   "execution_count": 44,
   "metadata": {},
   "outputs": [
    {
     "data": {
      "text/plain": [
       "LIMIT       -0.125515\n",
       "SEX          0.036561\n",
       "EDUCATION    0.041843\n",
       "MARITAL     -0.034006\n",
       "AGE         -0.000556\n",
       "STATUS7      0.211557\n",
       "DEFAULT      1.000000\n",
       "Name: DEFAULT, dtype: float64"
      ]
     },
     "execution_count": 44,
     "metadata": {},
     "output_type": "execute_result"
    }
   ],
   "source": [
    "# Correlation with target\n",
    "corr2[\"DEFAULT\"]"
   ]
  },
  {
   "cell_type": "markdown",
   "metadata": {},
   "source": [
    "# <font color= maroon> Data Modelling"
   ]
  },
  {
   "cell_type": "markdown",
   "metadata": {},
   "source": [
    "## <font color= grey> Logistic Regression"
   ]
  },
  {
   "cell_type": "markdown",
   "metadata": {},
   "source": [
    "I selected logistic regression as the desired outcome is a categorical, binary variable (i.e. good standing vs default = 1 and 0). Based on the results of the correlation analysis, the selected feature are AGE, LIMIT, EDUCATION, MARITAL and STATUS7. This allows me to predict whether a client will default in the following months based on his profile and payment history.\n",
    "\n",
    "Based on external and prior experience, I have selected the AGE, LIMIT, EDUCATION and MARITAL columns even though they are not statistically significant on the correlation matrix. This is because the bank will typically use these features to decide if a client is eligible for credit or otherwise."
   ]
  },
  {
   "cell_type": "code",
   "execution_count": 45,
   "metadata": {
    "scrolled": true
   },
   "outputs": [
    {
     "data": {
      "text/plain": [
       "(9974, 28)"
      ]
     },
     "execution_count": 45,
     "metadata": {},
     "output_type": "execute_result"
    }
   ],
   "source": [
    "# your_data.drop(your_data[(your_data.AGE < 1)|(your_data.AGE > 100)].index, inplace=True)\n",
    "your_data.shape"
   ]
  },
  {
   "cell_type": "code",
   "execution_count": 46,
   "metadata": {},
   "outputs": [],
   "source": [
    "from sklearn.model_selection import train_test_split\n",
    "from sklearn import linear_model\n",
    "\n",
    "Y = your_data['DEFAULT']\n",
    "X = your_data[['STATUS7', 'LIMIT', 'AGE', 'MARITAL', 'EDUCATION']] \n",
    "\n",
    "# Split the data into the Train and Validate\n",
    "x_train, x_test, y_train, y_test = train_test_split(X,Y,train_size=0.8, shuffle=True)"
   ]
  },
  {
   "cell_type": "code",
   "execution_count": 47,
   "metadata": {},
   "outputs": [
    {
     "data": {
      "text/plain": [
       "(7979, 5)"
      ]
     },
     "execution_count": 47,
     "metadata": {},
     "output_type": "execute_result"
    }
   ],
   "source": [
    "x_train.shape "
   ]
  },
  {
   "cell_type": "code",
   "execution_count": 48,
   "metadata": {},
   "outputs": [
    {
     "data": {
      "text/plain": [
       "(1995, 5)"
      ]
     },
     "execution_count": 48,
     "metadata": {},
     "output_type": "execute_result"
    }
   ],
   "source": [
    "x_test.shape"
   ]
  },
  {
   "cell_type": "code",
   "execution_count": 49,
   "metadata": {},
   "outputs": [],
   "source": [
    "# Import more libraries to calculate model performance\n",
    "from sklearn.metrics import mean_squared_error, r2_score "
   ]
  },
  {
   "cell_type": "code",
   "execution_count": 50,
   "metadata": {},
   "outputs": [
    {
     "data": {
      "text/plain": [
       "LogisticRegression(max_iter=500)"
      ]
     },
     "execution_count": 50,
     "metadata": {},
     "output_type": "execute_result"
    }
   ],
   "source": [
    "# With sklearn, name our regression model my_regr\n",
    "my_classifier = linear_model.LogisticRegression(max_iter=500)\n",
    "my_classifier.fit(x_train, y_train)"
   ]
  },
  {
   "cell_type": "code",
   "execution_count": 51,
   "metadata": {
    "scrolled": true
   },
   "outputs": [
    {
     "name": "stdout",
     "output_type": "stream",
     "text": [
      "Intercept: [-1.38566957e-10]\n",
      "Coefficients: [[ 1.06191455e-10 -6.53011029e-06 -4.55945318e-09 -2.46039390e-10\n",
      "  -2.66280949e-10]]\n"
     ]
    }
   ],
   "source": [
    "print('Intercept:',my_classifier.intercept_)\n",
    "print('Coefficients:',my_classifier.coef_)"
   ]
  },
  {
   "cell_type": "code",
   "execution_count": 56,
   "metadata": {},
   "outputs": [
    {
     "data": {
      "text/plain": [
       "array([0., 0., 0., ..., 0., 0., 0.])"
      ]
     },
     "execution_count": 56,
     "metadata": {},
     "output_type": "execute_result"
    }
   ],
   "source": [
    "import sklearn.metrics as metrics \n",
    "y_pred = my_classifier.predict(x_test)\n",
    "y_pred"
   ]
  },
  {
   "cell_type": "code",
   "execution_count": 57,
   "metadata": {},
   "outputs": [
    {
     "data": {
      "text/plain": [
       "0.7664160401002507"
      ]
     },
     "execution_count": 57,
     "metadata": {},
     "output_type": "execute_result"
    }
   ],
   "source": [
    "accuracy = metrics.accuracy_score(y_test, y_pred)\n",
    "accuracy"
   ]
  },
  {
   "cell_type": "markdown",
   "metadata": {},
   "source": [
    "#### Conclusion:\n",
    "Based on the selected features of LIMIT, AGE, MARITAL, EDUCATION and STATUS7, we are able to predict the probability of a client defaulting by up to 77% accuracy."
   ]
  },
  {
   "cell_type": "markdown",
   "metadata": {},
   "source": [
    "## <font color= grey> k-means clustering"
   ]
  },
  {
   "cell_type": "markdown",
   "metadata": {},
   "source": [
    "I used the elbow method to determine the number of clusters. I selected 5 clusters as this is where the number tapers off on the chart."
   ]
  },
  {
   "cell_type": "code",
   "execution_count": 58,
   "metadata": {},
   "outputs": [],
   "source": [
    "your_data = your_data.reset_index()"
   ]
  },
  {
   "cell_type": "code",
   "execution_count": 59,
   "metadata": {},
   "outputs": [],
   "source": [
    "your_data_num = your_data.drop(columns=['ID','LIMIT_GROUP','LIMIT','PAY1','PAY2','PAY3','PAY4','PAY5','PAY6', 'BILL1', 'BILL2', 'BILL3', 'BILL4', 'BILL5', 'BILL6', 'STATUS2', 'STATUS3', 'STATUS3', 'STATUS4', 'STATUS5', 'STATUS6', 'AGE_GROUP'])"
   ]
  },
  {
   "cell_type": "code",
   "execution_count": 60,
   "metadata": {},
   "outputs": [
    {
     "data": {
      "text/plain": [
       "1     2450\n",
       "0     1459\n",
       "4     1305\n",
       "2     1274\n",
       "3     1169\n",
       "5      643\n",
       "7      512\n",
       "6      475\n",
       "10     267\n",
       "8      208\n",
       "9      165\n",
       "12      18\n",
       "11      16\n",
       "14       7\n",
       "13       3\n",
       "15       3\n",
       "Name: LIMIT_NUM, dtype: int64"
      ]
     },
     "execution_count": 60,
     "metadata": {},
     "output_type": "execute_result"
    }
   ],
   "source": [
    "your_data.LIMIT_NUM.value_counts()"
   ]
  },
  {
   "cell_type": "code",
   "execution_count": 61,
   "metadata": {},
   "outputs": [
    {
     "data": {
      "text/plain": [
       "(9974, 8)"
      ]
     },
     "execution_count": 61,
     "metadata": {},
     "output_type": "execute_result"
    }
   ],
   "source": [
    "your_data_num.shape"
   ]
  },
  {
   "cell_type": "code",
   "execution_count": 62,
   "metadata": {},
   "outputs": [
    {
     "data": {
      "text/plain": [
       "9974"
      ]
     },
     "execution_count": 62,
     "metadata": {},
     "output_type": "execute_result"
    }
   ],
   "source": [
    "your_data_num.shape[0]"
   ]
  },
  {
   "cell_type": "code",
   "execution_count": 63,
   "metadata": {},
   "outputs": [],
   "source": [
    "from sklearn.cluster import KMeans\n",
    "from sklearn.preprocessing import StandardScaler"
   ]
  },
  {
   "cell_type": "code",
   "execution_count": 64,
   "metadata": {},
   "outputs": [
    {
     "data": {
      "image/png": "[encoded data removed]",
      "text/plain": [
       "<Figure size 432x288 with 1 Axes>"
      ]
     },
     "metadata": {
      "needs_background": "light"
     },
     "output_type": "display_data"
    }
   ],
   "source": [
    "from sklearn import metrics\n",
    "from scipy.spatial.distance import cdist \n",
    "distortions = []\n",
    "inertias = []\n",
    "K = range(1,10)\n",
    "\n",
    "for k in K: \n",
    "    # Building and fitting model\n",
    "    kmeansModel = KMeans(n_clusters=k).fit(your_data_num)\n",
    "    distortions.append(sum(np.min(cdist(your_data_num, kmeansModel.cluster_centers_,'euclidean'), axis=1)) / your_data_num.shape[0])\n",
    "    inertias.append(kmeansModel.inertia_)\n",
    "    \n",
    "plt.plot(K, distortions, 'bx-')\n",
    "plt.xlabel('Values of K')\n",
    "plt.ylabel('Distortion')\n",
    "plt.title('The Elbow Method using Distortion')\n",
    "plt.show()"
   ]
  },
  {
   "cell_type": "code",
   "execution_count": 65,
   "metadata": {},
   "outputs": [
    {
     "data": {
      "image/png": "[encoded data removed]",
      "text/plain": [
       "<Figure size 432x288 with 1 Axes>"
      ]
     },
     "metadata": {
      "needs_background": "light"
     },
     "output_type": "display_data"
    }
   ],
   "source": [
    "plt.plot(K, inertias, 'bx-')\n",
    "plt.xlabel('Values of K')\n",
    "plt.ylabel('Inertia')\n",
    "plt.title('The Elbow Method using Inertia')\n",
    "plt.show()"
   ]
  },
  {
   "cell_type": "markdown",
   "metadata": {},
   "source": [
    "#### Cluster Selection\n",
    "Base on the above tests, I selected 3 as the number of clusters to test."
   ]
  },
  {
   "cell_type": "code",
   "execution_count": 66,
   "metadata": {
    "scrolled": true
   },
   "outputs": [],
   "source": [
    "scaler = StandardScaler()\n",
    "scaled_data = scaler.fit_transform(your_data_num)"
   ]
  },
  {
   "cell_type": "code",
   "execution_count": 67,
   "metadata": {},
   "outputs": [
    {
     "data": {
      "text/plain": [
       "KMeans(n_clusters=3, random_state=42)"
      ]
     },
     "execution_count": 67,
     "metadata": {},
     "output_type": "execute_result"
    }
   ],
   "source": [
    "my_kmeans = KMeans(init=\"k-means++\", n_clusters=3, n_init=10, max_iter=300, random_state=42)\n",
    "my_kmeans.fit(scaled_data)"
   ]
  },
  {
   "cell_type": "code",
   "execution_count": 68,
   "metadata": {},
   "outputs": [
    {
     "name": "stdout",
     "output_type": "stream",
     "text": [
      "The 3 cluster centroids are at :  [[ 1.21953272e-03  6.84885325e-02  7.78114878e-02 -5.60933027e-02\n",
      "  -1.91065188e-02  4.20692076e-01  1.84216178e+00 -2.50011236e-01]\n",
      " [-4.45305865e-03 -6.27443660e-02  2.15227212e-01 -9.85137348e-01\n",
      "   5.96511296e-01 -1.75739932e-01 -5.28589256e-01  1.93847461e-01]\n",
      " [ 3.15769653e-03  1.68562380e-02 -2.26284013e-01  8.74111959e-01\n",
      "  -5.00696415e-01 -7.60682009e-02 -5.39503121e-01 -3.13829707e-02]]\n"
     ]
    }
   ],
   "source": [
    "print('The 3 cluster centroids are at : ', my_kmeans.cluster_centers_)"
   ]
  },
  {
   "cell_type": "code",
   "execution_count": 69,
   "metadata": {},
   "outputs": [
    {
     "name": "stdout",
     "output_type": "stream",
     "text": [
      "Number of iters required to converge :  18\n"
     ]
    }
   ],
   "source": [
    "print('Number of iters required to converge : ', my_kmeans.n_iter_)"
   ]
  },
  {
   "cell_type": "code",
   "execution_count": 70,
   "metadata": {
    "scrolled": true
   },
   "outputs": [
    {
     "name": "stdout",
     "output_type": "stream",
     "text": [
      "Lowest SSE from runs :  59779.718832041464\n"
     ]
    }
   ],
   "source": [
    "print('Lowest SSE from runs : ', my_kmeans.inertia_)"
   ]
  },
  {
   "cell_type": "code",
   "execution_count": 71,
   "metadata": {},
   "outputs": [
    {
     "data": {
      "text/plain": [
       "array([1, 2, 2, ..., 2, 1, 2], dtype=int32)"
      ]
     },
     "execution_count": 71,
     "metadata": {},
     "output_type": "execute_result"
    }
   ],
   "source": [
    "my_kmeans.labels_"
   ]
  },
  {
   "cell_type": "code",
   "execution_count": 72,
   "metadata": {},
   "outputs": [
    {
     "data": {
      "text/html": [
       "<div>\n",
       "<style scoped>\n",
       "    .dataframe tbody tr th:only-of-type {\n",
       "        vertical-align: middle;\n",
       "    }\n",
       "\n",
       "    .dataframe tbody tr th {\n",
       "        vertical-align: top;\n",
       "    }\n",
       "\n",
       "    .dataframe thead th {\n",
       "        text-align: right;\n",
       "    }\n",
       "</style>\n",
       "<table border=\"1\" class=\"dataframe\">\n",
       "  <thead>\n",
       "    <tr style=\"text-align: right;\">\n",
       "      <th></th>\n",
       "      <th>index</th>\n",
       "      <th>SEX</th>\n",
       "      <th>EDUCATION</th>\n",
       "      <th>MARITAL</th>\n",
       "      <th>AGE</th>\n",
       "      <th>STATUS7</th>\n",
       "      <th>DEFAULT</th>\n",
       "      <th>LIMIT_NUM</th>\n",
       "      <th>Cluster</th>\n",
       "    </tr>\n",
       "  </thead>\n",
       "  <tbody>\n",
       "    <tr>\n",
       "      <th>0</th>\n",
       "      <td>2050</td>\n",
       "      <td>1</td>\n",
       "      <td>2.0</td>\n",
       "      <td>1.0</td>\n",
       "      <td>47.0</td>\n",
       "      <td>2.0</td>\n",
       "      <td>0.0</td>\n",
       "      <td>0</td>\n",
       "      <td>1</td>\n",
       "    </tr>\n",
       "    <tr>\n",
       "      <th>1</th>\n",
       "      <td>2051</td>\n",
       "      <td>1</td>\n",
       "      <td>3.0</td>\n",
       "      <td>2.0</td>\n",
       "      <td>27.0</td>\n",
       "      <td>2.0</td>\n",
       "      <td>0.0</td>\n",
       "      <td>1</td>\n",
       "      <td>2</td>\n",
       "    </tr>\n",
       "    <tr>\n",
       "      <th>2</th>\n",
       "      <td>2052</td>\n",
       "      <td>0</td>\n",
       "      <td>2.0</td>\n",
       "      <td>2.0</td>\n",
       "      <td>42.0</td>\n",
       "      <td>-1.0</td>\n",
       "      <td>0.0</td>\n",
       "      <td>2</td>\n",
       "      <td>2</td>\n",
       "    </tr>\n",
       "    <tr>\n",
       "      <th>3</th>\n",
       "      <td>2053</td>\n",
       "      <td>1</td>\n",
       "      <td>3.0</td>\n",
       "      <td>1.0</td>\n",
       "      <td>37.0</td>\n",
       "      <td>2.0</td>\n",
       "      <td>0.0</td>\n",
       "      <td>2</td>\n",
       "      <td>1</td>\n",
       "    </tr>\n",
       "    <tr>\n",
       "      <th>4</th>\n",
       "      <td>2054</td>\n",
       "      <td>1</td>\n",
       "      <td>2.0</td>\n",
       "      <td>1.0</td>\n",
       "      <td>55.0</td>\n",
       "      <td>0.0</td>\n",
       "      <td>0.0</td>\n",
       "      <td>1</td>\n",
       "      <td>1</td>\n",
       "    </tr>\n",
       "  </tbody>\n",
       "</table>\n",
       "</div>"
      ],
      "text/plain": [
       "   index  SEX  EDUCATION  MARITAL   AGE  STATUS7  DEFAULT  LIMIT_NUM  Cluster\n",
       "0   2050    1        2.0      1.0  47.0      2.0      0.0          0        1\n",
       "1   2051    1        3.0      2.0  27.0      2.0      0.0          1        2\n",
       "2   2052    0        2.0      2.0  42.0     -1.0      0.0          2        2\n",
       "3   2053    1        3.0      1.0  37.0      2.0      0.0          2        1\n",
       "4   2054    1        2.0      1.0  55.0      0.0      0.0          1        1"
      ]
     },
     "execution_count": 72,
     "metadata": {},
     "output_type": "execute_result"
    }
   ],
   "source": [
    "your_data_num['Cluster'] = my_kmeans.labels_\n",
    "your_data_num.head()"
   ]
  },
  {
   "cell_type": "code",
   "execution_count": 73,
   "metadata": {},
   "outputs": [
    {
     "data": {
      "image/png": "[encoded data removed]",
      "text/plain": [
       "<Figure size 259.5x216 with 1 Axes>"
      ]
     },
     "metadata": {
      "needs_background": "light"
     },
     "output_type": "display_data"
    }
   ],
   "source": [
    "import seaborn as sns\n",
    "f=sns.FacetGrid(your_data_num, hue = 'Cluster')\n",
    "f.map(sns.scatterplot,'LIMIT_NUM','STATUS7',alpha=0.5)\n",
    "f.add_legend()\n",
    "f.fig.subplots_adjust(top=0.8)\n",
    "plt.show()"
   ]
  },
  {
   "cell_type": "markdown",
   "metadata": {},
   "source": [
    "Cluster 0 tend to default 5 months or more compared to others. A higher number of clients from cluster 0 fall under the lower end of the limit. Cluster 2 tend to pay on time, the minimum amount or default up to 4 months. Most of the clients in the higher limit range falls within this cluster. There is no discernible pattern for cluster 1. "
   ]
  },
  {
   "cell_type": "code",
   "execution_count": 74,
   "metadata": {},
   "outputs": [
    {
     "data": {
      "image/png": "[encoded data removed]",
      "text/plain": [
       "<Figure size 259.5x216 with 1 Axes>"
      ]
     },
     "metadata": {
      "needs_background": "light"
     },
     "output_type": "display_data"
    }
   ],
   "source": [
    "import seaborn as sns\n",
    "f=sns.FacetGrid(your_data_num, hue = 'Cluster')\n",
    "f.map(sns.scatterplot,'EDUCATION','STATUS7',alpha=0.5)\n",
    "f.add_legend()\n",
    "f.fig.subplots_adjust(top=0.8)\n",
    "plt.show()"
   ]
  },
  {
   "cell_type": "markdown",
   "metadata": {},
   "source": [
    "Cluster 0 clients mainly have degrees, with a handful with diplomas. \n",
    "Cluster 2 clients are made up of all educational levels. "
   ]
  },
  {
   "cell_type": "code",
   "execution_count": 75,
   "metadata": {},
   "outputs": [
    {
     "data": {
      "image/png": "[encoded data removed]",
      "text/plain": [
       "<Figure size 259.5x216 with 1 Axes>"
      ]
     },
     "metadata": {
      "needs_background": "light"
     },
     "output_type": "display_data"
    }
   ],
   "source": [
    "import seaborn as sns\n",
    "f=sns.FacetGrid(your_data_num, hue = 'Cluster')\n",
    "f.map(sns.scatterplot,'AGE','STATUS7',alpha=0.5)\n",
    "f.add_legend()\n",
    "f.fig.subplots_adjust(top=0.8)\n",
    "plt.show()"
   ]
  },
  {
   "cell_type": "markdown",
   "metadata": {},
   "source": [
    "Cluster 2 covers most of the chart, with clients from every age group. We can see the shape of clusters 0 and 1 scattered sporadically around the chart, with a higher concentration of cluster 0 in the top left with clients between the ages of 20 and 50."
   ]
  },
  {
   "cell_type": "code",
   "execution_count": 76,
   "metadata": {},
   "outputs": [
    {
     "data": {
      "image/png": "[encoded data removed]",
      "text/plain": [
       "<Figure size 259.5x216 with 1 Axes>"
      ]
     },
     "metadata": {
      "needs_background": "light"
     },
     "output_type": "display_data"
    }
   ],
   "source": [
    "import seaborn as sns\n",
    "f=sns.FacetGrid(your_data_num, hue = 'Cluster')\n",
    "f.map(sns.scatterplot,'MARITAL','STATUS7',alpha=0.5)\n",
    "f.add_legend()\n",
    "f.fig.subplots_adjust(top=0.8)\n",
    "plt.show()"
   ]
  },
  {
   "cell_type": "markdown",
   "metadata": {},
   "source": [
    "Cluster 0 is made up of singles and married clients. "
   ]
  },
  {
   "cell_type": "markdown",
   "metadata": {},
   "source": [
    "# <font color= maroon> Recommendations & Conclusion"
   ]
  },
  {
   "cell_type": "markdown",
   "metadata": {},
   "source": [
    "### Conclusion\n",
    "The logistics regression model is fairly accurate at predicting a person's default risks. However, if we remove the client's profile and focus on the behaviour alone (i.e. Status column), the accuracy increases slightly. This could indicate any user may default regardless of his profile. \n",
    "\n",
    "Clients in **Cluster 0** already have a history of defaulting, and are highly likely to default compared to other clusters. \n",
    "\n",
    "Clients in **Cluster 1** seems to be borderline at risk, and is seen as the tipping point for clients to default. Many of the senior clients between the age groups af 50 and 75 tend to lean towards this cluster. These cluster should be monitored closely. \n",
    "\n",
    "Clients in **Cluster 2** are deemed safe, despite some having defaulted for up to 5 months. Most high income earners, or clients who listed \"Others\" as their education level and marital status tend to fall within this cluster. \n",
    "\n",
    "### Recommendation 1 - To reduce defaulters\n",
    "Based on the evidence that we have above, clients in cluster 1 have consistently defaulted and have a higher likelyhood of defaulting again in the future. I would recommend reducing the client's credit limit, work on a repayment plan or deny credit for new applicants. I would also recommend to assess all clients regularly to identify their default risks as this may change from time to time.\n",
    "\n",
    "### Recommendation 2 - To maintain/increase credible users\n",
    "Clients in cluster 2 are considered credible and less like to default. The bank can encourage these clients to stay on by waiving annual fees, cashback rebates or having regular tie-ups with merchants. The bank can also offer sign-on promotions or cashbacks for new users who fall within this cluster."
   ]
  },
  {
   "cell_type": "markdown",
   "metadata": {},
   "source": [
    "# <font color= maroon> References"
   ]
  },
  {
   "cell_type": "markdown",
   "metadata": {},
   "source": [
    "- [Matplotlib Visualisation Cheatsheet](https://raw.githubusercontent.com/matplotlib/cheatsheets/master/cheatsheets-1.png)\n",
    "- [DataCamp Matplotlib Cheatsheet](http://datacamp-community-prod.s3.amazonaws.com/e1a8f39d-71ad-4d13-9a6b-618fe1b8c9e9)\n",
    "- [Regular Expression Tester](https://regexr.com/)\n",
    "- [Pandas Documentation](https://pandas.pydata.org/docs/reference/index.html)\n",
    "- [Issuing Credit Cards, Monetary Authority of Singapore](https://www.mas.gov.sg/regulation/explainers/Issuing-Credit-Cards)\n",
    "- [Jiawei Han, Micheline Kamber, Jian Pei (2012). Data Mining Concepts and Techniques, 3rd Ed. Elsevier.](http://mercury.webster.edu/aleshunas/Support%20Materials/Data_preprocessing.pdf)"
   ]
  }
 ],
 "metadata": {
  "kernelspec": {
   "display_name": "Python 3",
   "language": "python",
   "name": "python3"
  },
  "language_info": {
   "codemirror_mode": {
    "name": "ipython",
    "version": 3
   },
   "file_extension": ".py",
   "mimetype": "text/x-python",
   "name": "python",
   "nbconvert_exporter": "python",
   "pygments_lexer": "ipython3",
   "version": "3.8.5"
  }
 },
 "nbformat": 4,
 "nbformat_minor": 2
}
